{
 "cells": [
  {
   "cell_type": "code",
   "execution_count": 234,
   "metadata": {},
   "outputs": [],
   "source": [
    "import pandas as pd"
   ]
  },
  {
   "cell_type": "code",
   "execution_count": 235,
   "metadata": {},
   "outputs": [],
   "source": [
    "from datetime import datetime\n",
    "from math import floor\n",
    "\n",
    "\n",
    "def get_congress_from_term_dates(term_dict):\n",
    "    \"\"\"\n",
    "    Calculates which congress number corresponds to a term based on that term's\n",
    "    start and end dates. Each term_dict corresponds to a single congress (so term_dict[end_date] - term_dict[start_date] will never be greater than 2 years), but\n",
    "    the start and end dates might not exactly match that term's start and end (\n",
    "    special elections, etc)\n",
    "    Args:\n",
    "        term_dict (dict): A dictionary containing term dates information.\n",
    "            Expected structure:\n",
    "            {\n",
    "                'start_date': str,\n",
    "                'end_date': str,\n",
    "            }\n",
    "\n",
    "    Returns:\n",
    "        int: The Congress number.\n",
    "    \"\"\"\n",
    "    start_date = datetime.strptime(term_dict[\"start\"], \"%Y-%m-%d\")\n",
    "\n",
    "    # Reference point: 74th Congress started on January 3, 1935\n",
    "    reference_congress = 74\n",
    "    reference_date = datetime(1935, 1, 3)\n",
    "\n",
    "    years_difference = (start_date - reference_date).days / 365.25\n",
    "    congress_difference = floor(years_difference / 2)\n",
    "\n",
    "    return reference_congress + congress_difference"
   ]
  },
  {
   "cell_type": "code",
   "execution_count": 236,
   "metadata": {},
   "outputs": [],
   "source": [
    "processed = pd.read_json(\"../../data/processed/processed-bios.json\").T"
   ]
  },
  {
   "cell_type": "code",
   "execution_count": 237,
   "metadata": {},
   "outputs": [],
   "source": [
    "currentLegs = pd.read_json(\n",
    "    \"https://theunitedstates.io/congress-legislators/legislators-current.json\"\n",
    ")\n",
    "historicalLegs = pd.read_json(\n",
    "    \"https://theunitedstates.io/congress-legislators/legislators-historical.json\"\n",
    ")\n",
    "\n",
    "for df in [currentLegs, historicalLegs]:\n",
    "    df.loc[:, \"district\"] = df.loc[:, \"terms\"].apply(\n",
    "        lambda terms: {\n",
    "            get_congress_from_term_dates(term): (\n",
    "                term[\"district\"] if \"district\" in term else term[\"state\"]\n",
    "            )\n",
    "            for term in terms\n",
    "        }\n",
    "    )"
   ]
  },
  {
   "cell_type": "code",
   "execution_count": null,
   "metadata": {},
   "outputs": [],
   "source": [
    "df = pd.concat((currentLegs, historicalLegs))\n",
    "\n",
    "temp = df.loc[:, \"district\"]\n",
    "\n",
    "df[\"district\"] = (\n",
    "    pd.DataFrame(\n",
    "        {\n",
    "            \"empties\": df[\"district\"].apply(\n",
    "                lambda x: {y: None for y in range(100, 119) if y not in x.keys()}\n",
    "            ),\n",
    "            \"district\": df.loc[:, \"district\"],\n",
    "        }\n",
    "    )\n",
    "    .apply(\n",
    "        lambda row: dict(sorted({**row[\"district\"], **row[\"empties\"]}.items())), axis=1\n",
    "    )\n",
    "    .apply(lambda row: {key: row[key] for key in row.keys() if key > 99})\n",
    ")"
   ]
  },
  {
   "cell_type": "code",
   "execution_count": null,
   "metadata": {},
   "outputs": [],
   "source": [
    "for col in [\"familyName\", \"givenName\"]:\n",
    "    processed[col] = processed[col].str.replace(r\"[^a-zA-Z -]\", \"\", regex=True)"
   ]
  },
  {
   "cell_type": "code",
   "execution_count": 242,
   "metadata": {},
   "outputs": [],
   "source": [
    "df[\"usCongressBioId\"] = df[\"id\"].apply(lambda x: x[\"bioguide\"])"
   ]
  },
  {
   "cell_type": "code",
   "execution_count": 245,
   "metadata": {},
   "outputs": [],
   "source": [
    "import utils\n",
    "\n",
    "df = df[\n",
    "    ~df[\"terms\"].apply(\n",
    "        lambda row: any(\n",
    "            x[\"state\"] for x in row if x[\"state\"] not in utils.state_dict.values()\n",
    "        )\n",
    "    )\n",
    "]"
   ]
  },
  {
   "cell_type": "code",
   "execution_count": 255,
   "metadata": {},
   "outputs": [],
   "source": [
    "left = pd.merge(\n",
    "    processed,\n",
    "    df[[\"usCongressBioId\", \"district\"]],\n",
    "    how=\"left\",\n",
    ")"
   ]
  },
  {
   "cell_type": "code",
   "execution_count": 260,
   "metadata": {},
   "outputs": [],
   "source": [
    "left[\"district\"] = left[\"district\"].apply(\n",
    "    lambda row: {key: row[key] for key in row.keys() if key > 99}\n",
    ")"
   ]
  },
  {
   "cell_type": "code",
   "execution_count": 91,
   "metadata": {},
   "outputs": [],
   "source": [
    "processed.to_json(\"../../data/processed/processed-bios.json\", orient=\"index\")"
   ]
  }
 ],
 "metadata": {
  "kernelspec": {
   "display_name": ".venv",
   "language": "python",
   "name": "python3"
  },
  "language_info": {
   "codemirror_mode": {
    "name": "ipython",
    "version": 3
   },
   "file_extension": ".py",
   "mimetype": "text/x-python",
   "name": "python",
   "nbconvert_exporter": "python",
   "pygments_lexer": "ipython3",
   "version": "3.12.7"
  }
 },
 "nbformat": 4,
 "nbformat_minor": 2
}
