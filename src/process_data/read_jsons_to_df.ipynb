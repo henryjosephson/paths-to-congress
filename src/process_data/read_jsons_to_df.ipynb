{
 "cells": [
  {
   "cell_type": "code",
   "execution_count": null,
   "metadata": {},
   "outputs": [],
   "source": [
    "import pandas as pd\n",
    "import utils\n",
    "\n",
    "bios = pd.read_json(\"../../data/congress-bios.json\")\n",
    "currentBios = bios[bios.congresses.apply(lambda x: 118 in x)]"
   ]
  },
  {
   "cell_type": "markdown",
   "metadata": {},
   "source": [
    "...what is that at 12395?"
   ]
  },
  {
   "cell_type": "code",
   "execution_count": null,
   "metadata": {},
   "outputs": [],
   "source": [
    "display(currentBios[\"profileText\"][12395])\n",
    "\n",
    "# darn it, Ben Sasse!\n",
    "\n",
    "str12395 = (\n",
    "    \"a Senator from Nebraska; born in Nebraska City, Nebr., August 19, 1964; graduated\"\n",
    "    \" Westside High School, Omaha, Nebr., 1982; B.A., biology, University of Chicago,\"\n",
    "    \" 1986; M.B.A., marketing and finance, University of Chicago, 1991; online\"\n",
    "    \" brokerage firm president and chief operating officer; co-owner of Chicago Cubs\"\n",
    "    \" baseball team; unsuccessful candidate for the United States Senate in 2006;\"\n",
    "    \" governor of Nebraska 2015-2023; appointed as a Republican to the United States\"\n",
    "    \" Senate on January 12, 2023, to fill the vacancy caused by the resignation of\"\n",
    "    \" Benjamin Sasse; took the oath of office on January 23, 2023.\"\n",
    ")\n",
    "currentBios.loc[12395, \"profileText\"] = str12395"
   ]
  },
  {
   "cell_type": "code",
   "execution_count": null,
   "metadata": {},
   "outputs": [],
   "source": [
    "currentBios = currentBios[\n",
    "    [\"givenName\", \"familyName\", \"congresses\", \"profileText\", \"jobPositions\"]\n",
    "]"
   ]
  },
  {
   "cell_type": "code",
   "execution_count": null,
   "metadata": {},
   "outputs": [],
   "source": [
    "currentBios.loc[:, \"party\"] = currentBios.jobPositions.apply(\n",
    "    lambda x: x[-1][\"congressAffiliation\"][\"partyAffiliation\"][-1][\"party\"][\"name\"][0],\n",
    "    # axis=1\n",
    ")  # [\"congress\"][\"congressNumber\"]\n",
    "currentBios.sample(5)"
   ]
  },
  {
   "cell_type": "code",
   "execution_count": null,
   "metadata": {},
   "outputs": [],
   "source": [
    "def get_state_abbrev(text):\n",
    "    for state in utils.state_list:\n",
    "        if state.lower() in text.lower():\n",
    "            return utils.state_dict[state]\n",
    "\n",
    "    return None\n",
    "\n",
    "\n",
    "currentBios.loc[:, \"state\"] = currentBios.profileText.apply(\n",
    "    lambda x: get_state_abbrev(x.split(\";\")[0])\n",
    ")"
   ]
  },
  {
   "cell_type": "code",
   "execution_count": null,
   "metadata": {},
   "outputs": [],
   "source": [
    "currentBios.sample(5)"
   ]
  },
  {
   "cell_type": "markdown",
   "metadata": {},
   "source": [
    "### Let's confirm that there are 2 senators from each State:"
   ]
  },
  {
   "cell_type": "code",
   "execution_count": null,
   "metadata": {},
   "outputs": [],
   "source": [
    "currentBios.loc[\n",
    "    (\n",
    "        currentBios.profileText.str.lower().str.contains(\"a senator from\")\n",
    "        | currentBios.profileText.str.lower().str.contains(\"a senator and a represent\")\n",
    "        | currentBios.profileText.str.lower().str.contains(\"a senator and represent\")\n",
    "    )\n",
    "].state.value_counts().loc[lambda x: x != 2]"
   ]
  },
  {
   "cell_type": "markdown",
   "metadata": {},
   "source": [
    "Okay, I assume that the NE and CA anomalies are Ben Sasse retiring and Diane\n",
    "Feinstein passing away, since the two of them were both members of the 118th\n",
    "Congress. Let's check on that real quick:"
   ]
  },
  {
   "cell_type": "code",
   "execution_count": null,
   "metadata": {},
   "outputs": [],
   "source": [
    "currentBios.loc[\n",
    "    (currentBios.familyName == \"Sasse\") | (currentBios.familyName == \"Feinstein\")\n",
    "].index"
   ]
  },
  {
   "cell_type": "markdown",
   "metadata": {},
   "source": [
    "I'm not going to drop either of them, since they were technically parts of the 118th Congress. But that still leaves the question of what's going on in VT, OK, and NC."
   ]
  },
  {
   "cell_type": "code",
   "execution_count": null,
   "metadata": {},
   "outputs": [],
   "source": [
    "currentBios.loc[\n",
    "    (\n",
    "        currentBios.profileText.str.lower().str.contains(\"a senator from\")\n",
    "        | currentBios.profileText.str.lower().str.contains(\"a senator and a represent\")\n",
    "        | currentBios.profileText.str.lower().str.contains(\"a senator and represent\")\n",
    "    )\n",
    "].loc[lambda x: x.state == \"VT\"]"
   ]
  },
  {
   "cell_type": "markdown",
   "metadata": {},
   "source": [
    "Okay, looks like [Peter Welch](https://en.wikipedia.org/wiki/Peter_Welch) is missing..."
   ]
  },
  {
   "cell_type": "code",
   "execution_count": null,
   "metadata": {},
   "outputs": [],
   "source": [
    "currentBios.loc[lambda x: (x.givenName == \"Peter\") & (x.familyName == \"Welch\")]"
   ]
  },
  {
   "cell_type": "markdown",
   "metadata": {},
   "source": [
    "I guess they didn't update him in the Congressional Bioguide when he replaced Patrick Leahy? Luckily, this is an easy fix: I'll just do what I did with that massive misencoded html bio from earlier."
   ]
  },
  {
   "cell_type": "code",
   "execution_count": null,
   "metadata": {},
   "outputs": [],
   "source": [
    "currentBios.loc[2107, \"profileText\"]"
   ]
  },
  {
   "cell_type": "markdown",
   "metadata": {},
   "source": [
    "They even note that he was elected as a Democrat to the Senate at the end of his bio! If I were less lazy, I'd rewrite some code to use \"elected as a x to the United States Senate,\" but I figure so many people get appointed that the way I'm doing it now is easier."
   ]
  },
  {
   "cell_type": "code",
   "execution_count": null,
   "metadata": {},
   "outputs": [],
   "source": [
    "welchBio = (\n",
    "    \"A Senator and a Representative from Vermont; born in Springfield, Hampden County,\"\n",
    "    \" Mass., May 2, 1947; graduated from Cathedral High School, Springfield, Mass.;\"\n",
    "    \" A.B., College of the Holy Cross, Worcester, Mass.; 1969; J.D., University of\"\n",
    "    \" California, Berkeley, Calif., 1973; lawyer, private practice; member of the\"\n",
    "    \" Vermont state senate, 1981-1989, 2002-2007, minority leader, 1983-1985, president\"\n",
    "    \" pro tempore, 1985-1989, 2003-2007; unsuccessful candidate for nomination to the\"\n",
    "    \" One Hundred First Congress in 1988; elected as a Democrat to the One Hundred\"\n",
    "    \" Tenth and to the seven succeeding Congresses (January 3, 2007-January 3, 2023);\"\n",
    "    \" was not a candidate for reelection to the House of Representatives but was\"\n",
    "    \" elected as a Democrat to the United States Senate in 2022 for the term ending\"\n",
    "    \" January 3, 2029.\"\n",
    ")\n",
    "currentBios.loc[2107, \"profileText\"] = welchBio"
   ]
  },
  {
   "cell_type": "code",
   "execution_count": null,
   "metadata": {},
   "outputs": [],
   "source": [
    "currentBios.loc[\n",
    "    (\n",
    "        currentBios.profileText.str.lower().str.contains(\"a senator from\")\n",
    "        | currentBios.profileText.str.lower().str.contains(\"a senator and a represent\")\n",
    "        | currentBios.profileText.str.lower().str.contains(\"a senator and represent\")\n",
    "    )\n",
    "].state.value_counts().loc[lambda x: x == 1]"
   ]
  },
  {
   "cell_type": "markdown",
   "metadata": {},
   "source": [
    "Alright, that's VT down, now just Oklahoma and NC. My bet is that the same thing happened to Markwayne Mullin and Ted Budd."
   ]
  },
  {
   "cell_type": "code",
   "execution_count": null,
   "metadata": {},
   "outputs": [],
   "source": [
    "currentBios.loc[\n",
    "    (\n",
    "        currentBios.profileText.str.lower().str.contains(\"a senator from\")\n",
    "        | currentBios.profileText.str.lower().str.contains(\"a senator and a represent\")\n",
    "        | currentBios.profileText.str.lower().str.contains(\"a senator and represent\")\n",
    "    )\n",
    "].loc[lambda x: (x.state == \"OK\") | (x.state == \"NC\")]"
   ]
  },
  {
   "cell_type": "markdown",
   "metadata": {},
   "source": [
    "Yep, my hunch was right."
   ]
  },
  {
   "cell_type": "code",
   "execution_count": null,
   "metadata": {},
   "outputs": [],
   "source": [
    "display(\n",
    "    currentBios.loc[lambda x: (x.givenName == \"Markwayne\") & (x.familyName == \"Mullin\")]\n",
    ")\n",
    "currentBios.loc[11757, \"profileText\"] = currentBios.loc[11757, \"profileText\"].replace(\n",
    "    \"a Representative from\", \"a Senator and a Representative from\"\n",
    ")\n",
    "\n",
    "display(\n",
    "    currentBios.loc[lambda x: (x.givenName == \"Markwayne\") & (x.familyName == \"Mullin\")]\n",
    ")"
   ]
  },
  {
   "cell_type": "code",
   "execution_count": null,
   "metadata": {},
   "outputs": [],
   "source": [
    "display(\n",
    "    currentBios.loc[lambda x: (x.givenName == \"Theodore\") & (x.familyName == \"Budd\")]\n",
    ")\n",
    "currentBios.loc[9656, \"profileText\"] = currentBios.loc[9656, \"profileText\"].replace(\n",
    "    \"a Representative from\", \"a Senator and a Representative from\"\n",
    ")\n",
    "\n",
    "display(\n",
    "    currentBios.loc[lambda x: (x.givenName == \"Theodore\") & (x.familyName == \"Budd\")]\n",
    ")"
   ]
  },
  {
   "cell_type": "code",
   "execution_count": null,
   "metadata": {},
   "outputs": [],
   "source": [
    "currentBios.loc[\n",
    "    (\n",
    "        currentBios.profileText.str.lower().str.contains(\"a senator from\")\n",
    "        | currentBios.profileText.str.lower().str.contains(\"a senator and a represent\")\n",
    "        | currentBios.profileText.str.lower().str.contains(\"a senator and represent\")\n",
    "    )\n",
    "].state.value_counts().loc[lambda x: x == 1]"
   ]
  },
  {
   "cell_type": "markdown",
   "metadata": {},
   "source": [
    "Alright, now we can easily flag everyone who was a senator in the 118th congress! Let's make an indicator real quick:"
   ]
  },
  {
   "cell_type": "code",
   "execution_count": null,
   "metadata": {},
   "outputs": [],
   "source": [
    "currentBios[\"senator\"] = (\n",
    "    currentBios.profileText.str.lower().str.contains(\"a senator from\")\n",
    "    | currentBios.profileText.str.lower().str.contains(\"a senator and a represent\")\n",
    "    | currentBios.profileText.str.lower().str.contains(\"a senator and represent\")\n",
    ").astype(bool)"
   ]
  },
  {
   "cell_type": "markdown",
   "metadata": {},
   "source": [
    "### Checking representatives"
   ]
  },
  {
   "cell_type": "code",
   "execution_count": null,
   "metadata": {},
   "outputs": [],
   "source": [
    "currentBios.senator.apply(lambda x: not x).sum()"
   ]
  },
  {
   "cell_type": "markdown",
   "metadata": {},
   "source": [
    "Okay, this is what I expected! There are, after all, [6 non-voting members of the House of Representatives](https://en.wikipedia.org/wiki/Non-voting_members_of_the_United_States_House_of_Representatives), and 435 = 441 - 6. I don't really care about the non-voting members, though (no offense), so I'll be dropping them (as well as making sure each state has the correct number of reps).\n",
    "\n",
    "I might want to write a more robust script to handle Congresses before 1960 (i.e. more robust \"was this state a state at the time\" handling), but that isn't a problem right now."
   ]
  },
  {
   "cell_type": "code",
   "execution_count": null,
   "metadata": {},
   "outputs": [],
   "source": [
    "currentBios.loc[currentBios.senator.apply(lambda x: not x) & currentBios.state.isna()]"
   ]
  },
  {
   "cell_type": "code",
   "execution_count": null,
   "metadata": {},
   "outputs": [],
   "source": [
    "currentBios.drop(\n",
    "    currentBios.loc[\n",
    "        currentBios.senator.apply(lambda x: not x) & currentBios.state.isna()\n",
    "    ].index,\n",
    "    inplace=True,\n",
    ")"
   ]
  },
  {
   "cell_type": "code",
   "execution_count": null,
   "metadata": {},
   "outputs": [],
   "source": [
    "reps = {\n",
    "    get_state_abbrev(k): v\n",
    "    for k, v in zip(utils.number_of_reps.keys(), utils.number_of_reps.values())\n",
    "}"
   ]
  },
  {
   "cell_type": "code",
   "execution_count": null,
   "metadata": {},
   "outputs": [],
   "source": [
    "# confirming that every state has the correct number of reps\n",
    "\n",
    "[\n",
    "    state\n",
    "    for state in currentBios.loc[currentBios.senator.apply(lambda x: not x)]\n",
    "    .state.value_counts()\n",
    "    .index\n",
    "    if currentBios.loc[currentBios.senator.apply(lambda x: not x)]\n",
    "    .state.value_counts()\n",
    "    .loc[state]\n",
    "    != reps[state]\n",
    "]"
   ]
  },
  {
   "cell_type": "code",
   "execution_count": null,
   "metadata": {},
   "outputs": [],
   "source": [
    "currentBios[\"congressLabels\"] = currentBios.apply(\n",
    "    lambda row: f\"{row.givenName} {row.familyName} ({row.party}-{row.state})\",\n",
    "    axis=1,\n",
    ")"
   ]
  },
  {
   "cell_type": "markdown",
   "metadata": {},
   "source": [
    "### Applying categories\n",
    "\n",
    "Here, I put the csv into Google Sheets and did a whole lot more work on it — basically all manual, which wasn't fun. Turns out it's tough to hard-code which things ought to count as which categories. I tried some GPT-4 api calls, but I didn't end up doing too well. Good news is that, after poking around there, I can do it more efficiently here below.\n",
    "\n",
    "The labels below are almost entirely the originals from the [New York Times piece](https://www.nytimes.com/interactive/2019/01/26/opinion/sunday/paths-to-congress.html) except that I added\n",
    "- previously unsuccessful candidate for office,\n",
    "- more specific master's degrees,\n",
    "- previous experience in party politics.\n",
    "\n",
    "I think I was also more generous with what counts as a medical degree, including nursing and osteopathic degrees.\n",
    "\n",
    "You can see what I checked for each thing by examining the flags I've added for each category in in the `utils` module, though. "
   ]
  },
  {
   "cell_type": "code",
   "execution_count": null,
   "metadata": {},
   "outputs": [],
   "source": [
    "def splitAndTest(profileText, contains, doesntContain=[]):\n",
    "    bioItems = profileText.lower().split(\";\")\n",
    "    if doesntContain:\n",
    "        for bioItem in bioItems:\n",
    "            for c in contains:\n",
    "                if c.lower() in bioItem:\n",
    "                    if not any(dc.lower() in bioItem for dc in doesntContain):\n",
    "                        return bioItem\n",
    "                    else:\n",
    "                        continue\n",
    "        return False\n",
    "\n",
    "    else:\n",
    "        for bioItem in bioItems:\n",
    "            for c in contains:\n",
    "                if c.lower() in bioItem:\n",
    "                    return bioItem\n",
    "        return False"
   ]
  },
  {
   "cell_type": "code",
   "execution_count": null,
   "metadata": {},
   "outputs": [],
   "source": [
    "currentBios[\"communityCollege\"] = currentBios.profileText.apply(\n",
    "    lambda x: splitAndTest(\n",
    "        x, utils.communityCollege, [\"board\", \"professor\", \"instructor\", \"president\"]\n",
    "    )\n",
    ")"
   ]
  },
  {
   "cell_type": "code",
   "execution_count": null,
   "metadata": {},
   "outputs": [],
   "source": [
    "currentBios[\"eliteCollege\"] = currentBios.profileText.apply(\n",
    "    lambda x: splitAndTest(\n",
    "        x,\n",
    "        utils.eliteCollege,\n",
    "        utils.otherMasters\n",
    "        + utils.mba\n",
    "        + utils.medDegree\n",
    "        + utils.doctorate\n",
    "        + utils.lawSchool\n",
    "        + [\n",
    "            \"county\",\n",
    "            \"post-graduate studies\",\n",
    "            \"fellow\",\n",
    "            \"high school\",\n",
    "            \"medical school\",\n",
    "            \"hospital\",\n",
    "            \"texas southmost college\",\n",
    "            \"extension school\",\n",
    "        ],\n",
    "    )\n",
    ")"
   ]
  },
  {
   "cell_type": "code",
   "execution_count": null,
   "metadata": {},
   "outputs": [],
   "source": [
    "currentBios[\"publicCollege\"] = currentBios.profileText.apply(\n",
    "    lambda x: splitAndTest(\n",
    "        x,\n",
    "        utils.publicCollege,\n",
    "        utils.otherMasters\n",
    "        + utils.mba\n",
    "        + utils.medDegree\n",
    "        + utils.doctorate\n",
    "        + utils.lawSchool\n",
    "        + utils.education\n",
    "        + [\n",
    "            # \"county\",\n",
    "            \"post-graduate studies\",\n",
    "            \"fellow\",\n",
    "            \"high school\",\n",
    "            \"medical school\",\n",
    "            \"hospital\",\n",
    "            \"texas southmost college\",\n",
    "            \"extension school\",\n",
    "            \"board of governors\",\n",
    "            \"a.a.s.\",\n",
    "        ],\n",
    "    )\n",
    ")"
   ]
  },
  {
   "cell_type": "code",
   "execution_count": null,
   "metadata": {},
   "outputs": [],
   "source": [
    "currentBios[\"privateCollege\"] = currentBios.profileText.apply(\n",
    "    lambda x: splitAndTest(\n",
    "        x,\n",
    "        utils.privateCollege,\n",
    "        utils.otherMasters\n",
    "        + utils.mba\n",
    "        + utils.medDegree\n",
    "        + utils.doctorate\n",
    "        + utils.lawSchool\n",
    "        + utils.education\n",
    "        + [\n",
    "            \"county\",\n",
    "            \"post-graduate studies\",\n",
    "            \"fellow\",\n",
    "            \"high school\",\n",
    "            \"medical school\",\n",
    "            \"hospital\",\n",
    "            \"texas southmost college\",\n",
    "            \"extension school\",\n",
    "            \"board of governors\",\n",
    "            \"a.a.s.\",\n",
    "        ],\n",
    "    )\n",
    ")"
   ]
  },
  {
   "cell_type": "code",
   "execution_count": null,
   "metadata": {},
   "outputs": [],
   "source": [
    "currentBios[\"noBA\"] = currentBios.apply(\n",
    "    lambda x: (\n",
    "        (not x[\"communityCollege\"])\n",
    "        & (not x[\"eliteCollege\"])\n",
    "        & (not x[\"publicCollege\"])\n",
    "        & (not x[\"privateCollege\"])\n",
    "    ),\n",
    "    axis=1,\n",
    ")"
   ]
  },
  {
   "cell_type": "code",
   "execution_count": null,
   "metadata": {},
   "outputs": [],
   "source": [
    "currentBios[\"lawSchool\"] = currentBios.profileText.apply(\n",
    "    lambda x: splitAndTest(x, utils.lawSchool)\n",
    ")"
   ]
  },
  {
   "cell_type": "code",
   "execution_count": null,
   "metadata": {},
   "outputs": [],
   "source": [
    "currentBios[\"medDegree\"] = currentBios.profileText.apply(\n",
    "    lambda x: splitAndTest(x, utils.medDegree)\n",
    ")"
   ]
  },
  {
   "cell_type": "code",
   "execution_count": null,
   "metadata": {},
   "outputs": [],
   "source": [
    "currentBios[\"doctorate\"] = currentBios.profileText.apply(\n",
    "    lambda x: splitAndTest(x, utils.doctorate)\n",
    ")"
   ]
  },
  {
   "cell_type": "code",
   "execution_count": null,
   "metadata": {},
   "outputs": [],
   "source": [
    "currentBios[\"mba\"] = currentBios.profileText.apply(lambda x: splitAndTest(x, utils.mba))"
   ]
  },
  {
   "cell_type": "code",
   "execution_count": null,
   "metadata": {},
   "outputs": [],
   "source": [
    "currentBios[\"otherMasters\"] = currentBios.profileText.apply(\n",
    "    lambda x: splitAndTest(x, utils.otherMasters)\n",
    ")"
   ]
  },
  {
   "cell_type": "code",
   "execution_count": null,
   "metadata": {},
   "outputs": [],
   "source": [
    "currentBios[\"military\"] = currentBios.profileText.apply(\n",
    "    lambda x: splitAndTest(x, utils.military, [\"academy\", \"college\"])\n",
    ")"
   ]
  },
  {
   "cell_type": "code",
   "execution_count": null,
   "metadata": {},
   "outputs": [],
   "source": [
    "currentBios[\"lawyerPrivatePractice\"] = currentBios.profileText.apply(\n",
    "    lambda x: splitAndTest(x, utils.lawyerPrivatePractice)\n",
    ")\n",
    "currentBios[\"lawyerPrivatePractice\"] = [\n",
    "    (\n",
    "        currentBios.lawyerPrivatePractice.iloc[i]\n",
    "        if currentBios.lawyerPrivatePractice.iloc[i]\n",
    "        else (\n",
    "            \"lawyer\"\n",
    "            if any(\n",
    "                [\n",
    "                    (\n",
    "                        bioItem\n",
    "                        if (bioItem.strip() == \"lawyer\")\n",
    "                        | (bioItem.strip() == \"attorney\")\n",
    "                        else False\n",
    "                    )\n",
    "                    for bioItem in currentBios.profileText.iloc[i].lower().split(\";\")\n",
    "                ]\n",
    "            )\n",
    "            else False\n",
    "        )\n",
    "    )\n",
    "    for i in range(len(currentBios))\n",
    "]"
   ]
  },
  {
   "cell_type": "code",
   "execution_count": null,
   "metadata": {},
   "outputs": [],
   "source": [
    "currentBios[\"publicLawyerOrJudge\"] = currentBios.profileText.apply(\n",
    "    lambda x: splitAndTest(\n",
    "        x, utils.publicLawyerOrJudge, [\"college counselor\", \"one of the managers\"]\n",
    "    )\n",
    ")"
   ]
  },
  {
   "cell_type": "code",
   "execution_count": null,
   "metadata": {},
   "outputs": [],
   "source": [
    "currentBios[\"prevUnsuccessfulCandidate\"] = currentBios.profileText.apply(\n",
    "    lambda x: splitAndTest(x, utils.prevUnsuccessfulCandidate)\n",
    ")"
   ]
  },
  {
   "cell_type": "code",
   "execution_count": null,
   "metadata": {},
   "outputs": [],
   "source": [
    "currentBios[\"partyPolitics\"] = currentBios.profileText.apply(\n",
    "    lambda x: splitAndTest(\n",
    "        x,\n",
    "        utils.partyPolitics + [\"democratic\", \"republican\"],\n",
    "        [\n",
    "            \"elected as a republican\",\n",
    "            \"united states\",\n",
    "            \"unsuccessful\",\n",
    "            \"independent\",\n",
    "            \"select committee on the strategic competition\",\n",
    "            \"governor of maine\",\n",
    "        ],\n",
    "    )\n",
    ")"
   ]
  },
  {
   "cell_type": "code",
   "execution_count": null,
   "metadata": {},
   "outputs": [],
   "source": [
    "currentBios[\"sciOrEng\"] = currentBios.profileText.apply(\n",
    "    lambda x: splitAndTest(x, utils.sciOrEng, [\"b.s.\", \"m.s.\"])\n",
    ")"
   ]
  },
  {
   "cell_type": "code",
   "execution_count": null,
   "metadata": {},
   "outputs": [],
   "source": [
    "currentBios[\"religion\"] = currentBios.profileText.apply(\n",
    "    lambda x: splitAndTest(x, utils.religion, [\"b.s.\", \"m.s.\"])\n",
    ")"
   ]
  },
  {
   "cell_type": "code",
   "execution_count": null,
   "metadata": {},
   "outputs": [],
   "source": [
    "currentBios[\"healthcare\"] = currentBios.profileText.apply(\n",
    "    lambda x: splitAndTest(x, utils.healthcare, [\"b.s.\", \"m.s.\", \"m.d.\"])\n",
    ")"
   ]
  },
  {
   "cell_type": "code",
   "execution_count": null,
   "metadata": {},
   "outputs": [],
   "source": [
    "currentBios[\"blueCollarOrServiceJob\"] = currentBios.profileText.apply(\n",
    "    lambda x: splitAndTest(x, utils.blueCollarOrServiceJob, [\"academy\"])\n",
    ")"
   ]
  },
  {
   "cell_type": "code",
   "execution_count": null,
   "metadata": {},
   "outputs": [],
   "source": [
    "currentBios[\"education\"] = currentBios.profileText.apply(\n",
    "    lambda x: splitAndTest(x, utils.education, [\"elected as a republican\"])\n",
    ")"
   ]
  },
  {
   "cell_type": "code",
   "execution_count": null,
   "metadata": {},
   "outputs": [],
   "source": [
    "currentBios[\"nonprofitsAndUnions\"] = currentBios.profileText.apply(\n",
    "    lambda x: splitAndTest(\n",
    "        x,\n",
    "        utils.nonprofitsAndUnions,\n",
    "        [\n",
    "            \"credit union\",\n",
    "            \"union, n.j.\",\n",
    "            \"union county, n.j.\",\n",
    "            \"union, miss.\",\n",
    "            \"union city\",\n",
    "            \"union theological seminary\",\n",
    "            \"ph.d., union institute\",\n",
    "        ],\n",
    "    )\n",
    ")"
   ]
  },
  {
   "cell_type": "code",
   "execution_count": null,
   "metadata": {},
   "outputs": [],
   "source": [
    "currentBios[\"sports\"] = currentBios.profileText.apply(\n",
    "    lambda x: splitAndTest(x, utils.sports, [\"coachella valley high school\"])\n",
    ")"
   ]
  },
  {
   "cell_type": "code",
   "execution_count": null,
   "metadata": {},
   "outputs": [],
   "source": [
    "currentBios[\"media\"] = currentBios.profileText.apply(\n",
    "    lambda x: splitAndTest(\n",
    "        x, utils.media, [\"anchorage\", \"authority\", \"authorized\", \"speechwriter\"]\n",
    "    )\n",
    ")"
   ]
  },
  {
   "cell_type": "code",
   "execution_count": null,
   "metadata": {},
   "outputs": [],
   "source": [
    "currentBios[\"realEstate\"] = currentBios.profileText.apply(\n",
    "    lambda x: splitAndTest(x, utils.realEstate)\n",
    ")"
   ]
  },
  {
   "cell_type": "code",
   "execution_count": null,
   "metadata": {},
   "outputs": [],
   "source": [
    "currentBios[\"lawEnforcement\"] = currentBios.profileText.apply(\n",
    "    lambda x: splitAndTest(x, utils.lawEnforcement, [\"attorney\"])\n",
    ")"
   ]
  },
  {
   "cell_type": "code",
   "execution_count": null,
   "metadata": {},
   "outputs": [],
   "source": [
    "currentBios[\"farmingOrRanching\"] = currentBios.profileText.apply(\n",
    "    lambda x: splitAndTest(\n",
    "        x, utils.farmingOrRanching, [\"chair, committee on agriculture\", \"administrator\"]\n",
    "    )\n",
    ")"
   ]
  },
  {
   "cell_type": "code",
   "execution_count": null,
   "metadata": {},
   "outputs": [],
   "source": [
    "currentBios[\"businessOrManagement\"] = currentBios.profileText.apply(\n",
    "    lambda x: splitAndTest(\n",
    "        x,\n",
    "        utils.businessOrManagement,\n",
    "        [\n",
    "            \"campaign consultant\",\n",
    "            \"central intelligence agency\",\n",
    "            \"national nuclear security administration\",\n",
    "            \"fairbanks\",\n",
    "            \"committee on banking\",\n",
    "            \"b.a., business administration\",\n",
    "            \"county executive\",\n",
    "            \"red bank, monmouth county\",\n",
    "            \"executive office of the president\",\n",
    "            \"committee on small business\",\n",
    "            \"osceola\",\n",
    "            \"nonprofit\",\n",
    "            \"non-profit\",\n",
    "            \"small business administration\",\n",
    "            \"federal coordinator for gulf coast rebuilding\",\n",
    "            \"m.b.a.\",\n",
    "            \"m.p.a\",\n",
    "            \"bankruptcy court\",\n",
    "            \"business administration\",\n",
    "            \"secretary of state\",\n",
    "            \"government analyst\",\n",
    "            \"california democratic state central executive committee\",\n",
    "            \"executive director, human services\",\n",
    "            \"jefferson county\",\n",
    "            \"business regulation\",\n",
    "            \"commission\",\n",
    "            \"department of regulatory agencies\",\n",
    "            \"nevada system of higher education\",\n",
    "            \"republican state committee\",\n",
    "            \"workers' compensation board\",\n",
    "            \"afl-cio\",\n",
    "        ],\n",
    "    )\n",
    ")"
   ]
  },
  {
   "cell_type": "code",
   "execution_count": null,
   "metadata": {},
   "outputs": [],
   "source": [
    "currentBios[\"lobbyingOrPacs\"] = currentBios.profileText.apply(\n",
    "    lambda x: splitAndTest(x, utils.lobbyingOrActivism)\n",
    ")"
   ]
  },
  {
   "cell_type": "code",
   "execution_count": null,
   "metadata": {},
   "outputs": [],
   "source": [
    "currentBios[\"localGov\"] = currentBios.profileText.apply(\n",
    "    lambda x: splitAndTest(\n",
    "        x, utils.localGov, [\"graduated from\", \"b.a.\", \"unsuccessful candidate for\"]\n",
    "    )\n",
    ")"
   ]
  },
  {
   "cell_type": "code",
   "execution_count": null,
   "metadata": {},
   "outputs": [],
   "source": [
    "currentBios[\"stateLeg\"] = currentBios.profileText.apply(\n",
    "    lambda x: splitAndTest(\n",
    "        x,\n",
    "        utils.stateLeg,\n",
    "        [\"legislative assistant\", \"aide\", \"staff\", \"counsel\", \"fellow\", \"unsuccessful\"],\n",
    "    )\n",
    ")"
   ]
  },
  {
   "cell_type": "code",
   "execution_count": null,
   "metadata": {},
   "outputs": [],
   "source": [
    "currentBios[\"electedFedOrStateOffice\"] = currentBios.profileText.apply(\n",
    "    lambda x: splitAndTest(\n",
    "        x,\n",
    "        utils.electedFedOrStateOffice,\n",
    "        [\n",
    "            \"appointed\",\n",
    "            \"assistant u.s. secretary of state\",\n",
    "            \"inland empire regional office\",\n",
    "            \"counsel\",\n",
    "            \"advisor\",\n",
    "            \"unsuccessful\",\n",
    "            \"lost general election\",\n",
    "        ],\n",
    "    )\n",
    ")"
   ]
  },
  {
   "cell_type": "code",
   "execution_count": null,
   "metadata": {},
   "outputs": [],
   "source": [
    "currentBios[\"nonElectedGovJob\"] = currentBios.profileText.apply(\n",
    "    lambda x: splitAndTest(\n",
    "        x,\n",
    "        utils.nonElectedGovJob + [\"advisor\"],\n",
    "        [\n",
    "            \"county\",\n",
    "            \"college\",\n",
    "            \"development advisor\",\n",
    "            \"emergency 9-1-1 dispatcher\",\n",
    "            \"nonprofit organization\",\n",
    "            \"n.y. council\",\n",
    "            \"graduated\",\n",
    "            \"postal inspector\",\n",
    "            \"inland empire regional office\",\n",
    "            \"chapel hill, n.c., police department\",\n",
    "            \"long beach, calif\",\n",
    "        ],\n",
    "    )\n",
    ")"
   ]
  },
  {
   "cell_type": "code",
   "execution_count": null,
   "metadata": {},
   "outputs": [],
   "source": [
    "currentBios.to_json(\"../../data/118-processed-bios.json\")"
   ]
  }
 ],
 "metadata": {
  "kernelspec": {
   "display_name": ".venv",
   "language": "python",
   "name": "python3"
  },
  "language_info": {
   "codemirror_mode": {
    "name": "ipython",
    "version": 3
   },
   "file_extension": ".py",
   "mimetype": "text/x-python",
   "name": "python",
   "nbconvert_exporter": "python",
   "pygments_lexer": "ipython3",
   "version": "3.12.7"
  }
 },
 "nbformat": 4,
 "nbformat_minor": 2
}
