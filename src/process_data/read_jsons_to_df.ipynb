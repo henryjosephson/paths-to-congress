{
 "cells": [
  {
   "cell_type": "code",
   "execution_count": 397,
   "metadata": {},
   "outputs": [],
   "source": [
    "import pandas as pd\n",
    "import utils\n",
    "\n",
    "bios = pd.read_json(\"../../data/congress-bios.json\")\n",
    "currentBios = bios[bios.congresses.apply(lambda x: 118 in x)]\n",
    "recentBios = bios.loc[\n",
    "    [\n",
    "        any(session in x for session in range(100, 119))\n",
    "        for x in bios.congresses.to_list()\n",
    "    ]\n",
    "]"
   ]
  },
  {
   "cell_type": "code",
   "execution_count": 422,
   "metadata": {},
   "outputs": [],
   "source": [
    "def getParty(x):\n",
    "    return x[\"congressAffiliation\"][\"partyAffiliation\"][0][\"party\"][\"name\"][0]\n",
    "\n",
    "\n",
    "temp = recentBios.loc[:, \"jobPositions\"].apply(\n",
    "    lambda x: {\n",
    "        y[\"congressAffiliation\"][\"congress\"][\"congressNumber\"]: getParty(y)\n",
    "        for y in x\n",
    "        if y[\"congressAffiliation\"][\"congress\"][\"congressNumber\"] > 99\n",
    "    }\n",
    ")\n",
    "\n",
    "recentBios.loc[:, \"parties\"] = pd.DataFrame(\n",
    "    {\n",
    "        \"empties\": temp.apply(\n",
    "            lambda x: {y: None for y in range(100, 119) if y not in x.keys()}\n",
    "        ),\n",
    "        \"parties\": temp,\n",
    "    }\n",
    ").apply(lambda row: dict(sorted({**row[\"parties\"], **row[\"empties\"]}.items())), axis=1)\n",
    "\n",
    "temp = recentBios.loc[:, \"jobPositions\"].apply(\n",
    "    lambda x: {\n",
    "        y[\"congressAffiliation\"][\"congress\"][\"congressNumber\"]: y[\"job\"][\"name\"]\n",
    "        for y in x\n",
    "        if y[\"congressAffiliation\"][\"congress\"][\"congressNumber\"] > 99\n",
    "    }\n",
    ")\n",
    "\n",
    "recentBios.loc[:, \"jobs\"] = pd.DataFrame(\n",
    "    {\n",
    "        \"empties\": temp.apply(\n",
    "            lambda x: {y: None for y in range(100, 119) if y not in x.keys()}\n",
    "        ),\n",
    "        \"jobPositions\": temp,\n",
    "    }\n",
    ").apply(\n",
    "    lambda row: dict(sorted({**row[\"jobPositions\"], **row[\"empties\"]}.items())), axis=1\n",
    ")"
   ]
  },
  {
   "cell_type": "markdown",
   "metadata": {},
   "source": [
    "...what is that at 12395?"
   ]
  },
  {
   "cell_type": "code",
   "execution_count": 399,
   "metadata": {},
   "outputs": [
    {
     "data": {
      "text/plain": [
       "'<!-- [if gte mso 9]><xml>\\n <o:OfficeDocumentSettings>\\n  <o:AllowPNG/>\\n </o:OfficeDocumentSettings>\\n</xml><![endif]--><!-- [if gte mso 9]><xml>\\n <w:WordDocument>\\n  <w:View>Normal</w:View>\\n  <w:Zoom>0</w:Zoom>\\n  <w:TrackMoves/>\\n  <w:TrackFormatting/>\\n  <w:PunctuationKerning/>\\n  <w:ValidateAgainstSchemas/>\\n  <w:SaveIfXMLInvalid>false</w:SaveIfXMLInvalid>\\n  <w:IgnoreMixedContent>false</w:IgnoreMixedContent>\\n  <w:AlwaysShowPlaceholderText>false</w:AlwaysShowPlaceholderText>\\n  <w:DoNotPromoteQF/>\\n  <w:LidThemeOther>EN-US</w:LidThemeOther>\\n  <w:LidThemeAsian>X-NONE</w:LidThemeAsian>\\n  <w:LidThemeComplexScript>X-NONE</w:LidThemeComplexScript>\\n  <w:Compatibility>\\n   <w:BreakWrappedTables/>\\n   <w:SnapToGridInCell/>\\n   <w:WrapTextWithPunct/>\\n   <w:UseAsianBreakRules/>\\n   <w:DontGrowAutofit/>\\n   <w:SplitPgBreakAndParaMark/>\\n   <w:EnableOpenTypeKerning/>\\n   <w:DontFlipMirrorIndents/>\\n   <w:OverrideTableStyleHps/>\\n  </w:Compatibility>\\n  <m:mathPr>\\n   <m:mathFont m:val=\"Cambria Math\"/>\\n   <m:brkBin m:val=\"before\"/>\\n   <m:brkBinSub m:val=\"&#45;-\"/>\\n   <m:smallFrac m:val=\"off\"/>\\n   <m:dispDef/>\\n   <m:lMargin m:val=\"0\"/>\\n   <m:rMargin m:val=\"0\"/>\\n   <m:defJc m:val=\"centerGroup\"/>\\n   <m:wrapIndent m:val=\"1440\"/>\\n   <m:intLim m:val=\"subSup\"/>\\n   <m:naryLim m:val=\"undOvr\"/>\\n  </m:mathPr></w:WordDocument>\\n</xml><![endif]--><!-- [if gte mso 9]><xml>\\n <w:LatentStyles DefLockedState=\"false\" DefUnhideWhenUsed=\"false\"\\n  DefSemiHidden=\"false\" DefQFormat=\"false\" DefPriority=\"99\"\\n  LatentStyleCount=\"371\">\\n  <w:LsdException Locked=\"false\" Priority=\"0\" QFormat=\"true\" Name=\"Normal\"/>\\n  <w:LsdException Locked=\"false\" Priority=\"9\" QFormat=\"true\" Name=\"heading 1\"/>\\n  <w:LsdException Locked=\"false\" Priority=\"9\" SemiHidden=\"true\"\\n   UnhideWhenUsed=\"true\" QFormat=\"true\" Name=\"heading 2\"/>\\n  <w:LsdException Locked=\"false\" Priority=\"9\" SemiHidden=\"true\"\\n   UnhideWhenUsed=\"true\" QFormat=\"true\" Name=\"heading 3\"/>\\n  <w:LsdException Locked=\"false\" Priority=\"9\" SemiHidden=\"true\"\\n   UnhideWhenUsed=\"true\" QFormat=\"true\" Name=\"heading 4\"/>\\n  <w:LsdException Locked=\"false\" Priority=\"9\" SemiHidden=\"true\"\\n   UnhideWhenUsed=\"true\" QFormat=\"true\" Name=\"heading 5\"/>\\n  <w:LsdException Locked=\"false\" Priority=\"9\" SemiHidden=\"true\"\\n   UnhideWhenUsed=\"true\" QFormat=\"true\" Name=\"heading 6\"/>\\n  <w:LsdException Locked=\"false\" Priority=\"9\" SemiHidden=\"true\"\\n   UnhideWhenUsed=\"true\" QFormat=\"true\" Name=\"heading 7\"/>\\n  <w:LsdException Locked=\"false\" Priority=\"9\" SemiHidden=\"true\"\\n   UnhideWhenUsed=\"true\" QFormat=\"true\" Name=\"heading 8\"/>\\n  <w:LsdException Locked=\"false\" Priority=\"9\" SemiHidden=\"true\"\\n   UnhideWhenUsed=\"true\" QFormat=\"true\" Name=\"heading 9\"/>\\n  <w:LsdException Locked=\"false\" SemiHidden=\"true\" UnhideWhenUsed=\"true\"\\n   Name=\"index 1\"/>\\n  <w:LsdException Locked=\"false\" SemiHidden=\"true\" UnhideWhenUsed=\"true\"\\n   Name=\"index 2\"/>\\n  <w:LsdException Locked=\"false\" SemiHidden=\"true\" UnhideWhenUsed=\"true\"\\n   Name=\"index 3\"/>\\n  <w:LsdException Locked=\"false\" SemiHidden=\"true\" UnhideWhenUsed=\"true\"\\n   Name=\"index 4\"/>\\n  <w:LsdException Locked=\"false\" SemiHidden=\"true\" UnhideWhenUsed=\"true\"\\n   Name=\"index 5\"/>\\n  <w:LsdException Locked=\"false\" SemiHidden=\"true\" UnhideWhenUsed=\"true\"\\n   Name=\"index 6\"/>\\n  <w:LsdException Locked=\"false\" SemiHidden=\"true\" UnhideWhenUsed=\"true\"\\n   Name=\"index 7\"/>\\n  <w:LsdException Locked=\"false\" SemiHidden=\"true\" UnhideWhenUsed=\"true\"\\n   Name=\"index 8\"/>\\n  <w:LsdException Locked=\"false\" SemiHidden=\"true\" UnhideWhenUsed=\"true\"\\n   Name=\"index 9\"/>\\n  <w:LsdException Locked=\"false\" Priority=\"39\" SemiHidden=\"true\"\\n   UnhideWhenUsed=\"true\" Name=\"toc 1\"/>\\n  <w:LsdException Locked=\"false\" Priority=\"39\" SemiHidden=\"true\"\\n   UnhideWhenUsed=\"true\" Name=\"toc 2\"/>\\n  <w:LsdException Locked=\"false\" Priority=\"39\" SemiHidden=\"true\"\\n   UnhideWhenUsed=\"true\" Name=\"toc 3\"/>\\n  <w:LsdException Locked=\"false\" Priority=\"39\" SemiHidden=\"true\"\\n   UnhideWhenUsed=\"true\" Name=\"toc 4\"/>\\n  <w:LsdException Locked=\"false\" Priority=\"39\" SemiHidden=\"true\"\\n   UnhideWhenUsed=\"true\" Name=\"toc 5\"/>\\n  <w:LsdException Locked=\"false\" Priority=\"39\" SemiHidden=\"true\"\\n   UnhideWhenUsed=\"true\" Name=\"toc 6\"/>\\n  <w:LsdException Locked=\"false\" Priority=\"39\" SemiHidden=\"true\"\\n   UnhideWhenUsed=\"true\" Name=\"toc 7\"/>\\n  <w:LsdException Locked=\"false\" Priority=\"39\" SemiHidden=\"true\"\\n   UnhideWhenUsed=\"true\" Name=\"toc 8\"/>\\n  <w:LsdException Locked=\"false\" Priority=\"39\" SemiHidden=\"true\"\\n   UnhideWhenUsed=\"true\" Name=\"toc 9\"/>\\n  <w:LsdException Locked=\"false\" SemiHidden=\"true\" UnhideWhenUsed=\"true\"\\n   Name=\"Normal Indent\"/>\\n  <w:LsdException Locked=\"false\" SemiHidden=\"true\" UnhideWhenUsed=\"true\"\\n   Name=\"footnote text\"/>\\n  <w:LsdException Locked=\"false\" SemiHidden=\"true\" UnhideWhenUsed=\"true\"\\n   Name=\"annotation text\"/>\\n  <w:LsdException Locked=\"false\" SemiHidden=\"true\" UnhideWhenUsed=\"true\"\\n   Name=\"header\"/>\\n  <w:LsdException Locked=\"false\" SemiHidden=\"true\" UnhideWhenUsed=\"true\"\\n   Name=\"footer\"/>\\n  <w:LsdException Locked=\"false\" SemiHidden=\"true\" UnhideWhenUsed=\"true\"\\n   Name=\"index heading\"/>\\n  <w:LsdException Locked=\"false\" Priority=\"35\" SemiHidden=\"true\"\\n   UnhideWhenUsed=\"true\" QFormat=\"true\" Name=\"caption\"/>\\n  <w:LsdException Locked=\"false\" SemiHidden=\"true\" UnhideWhenUsed=\"true\"\\n   Name=\"table of figures\"/>\\n  <w:LsdException Locked=\"false\" SemiHidden=\"true\" UnhideWhenUsed=\"true\"\\n   Name=\"envelope address\"/>\\n  <w:LsdException Locked=\"false\" SemiHidden=\"true\" UnhideWhenUsed=\"true\"\\n   Name=\"envelope return\"/>\\n  <w:LsdException Locked=\"false\" SemiHidden=\"true\" UnhideWhenUsed=\"true\"\\n   Name=\"footnote reference\"/>\\n  <w:LsdException Locked=\"false\" SemiHidden=\"true\" UnhideWhenUsed=\"true\"\\n   Name=\"annotation reference\"/>\\n  <w:LsdException Locked=\"false\" SemiHidden=\"true\" UnhideWhenUsed=\"true\"\\n   Name=\"line number\"/>\\n  <w:LsdException Locked=\"false\" SemiHidden=\"true\" UnhideWhenUsed=\"true\"\\n   Name=\"page number\"/>\\n  <w:LsdException Locked=\"false\" SemiHidden=\"true\" UnhideWhenUsed=\"true\"\\n   Name=\"endnote reference\"/>\\n  <w:LsdException Locked=\"false\" SemiHidden=\"true\" UnhideWhenUsed=\"true\"\\n   Name=\"endnote text\"/>\\n  <w:LsdException Locked=\"false\" SemiHidden=\"true\" UnhideWhenUsed=\"true\"\\n   Name=\"table of authorities\"/>\\n  <w:LsdException Locked=\"false\" SemiHidden=\"true\" UnhideWhenUsed=\"true\"\\n   Name=\"macro\"/>\\n  <w:LsdException Locked=\"false\" SemiHidden=\"true\" UnhideWhenUsed=\"true\"\\n   Name=\"toa heading\"/>\\n  <w:LsdException Locked=\"false\" SemiHidden=\"true\" UnhideWhenUsed=\"true\"\\n   Name=\"List\"/>\\n  <w:LsdException Locked=\"false\" SemiHidden=\"true\" UnhideWhenUsed=\"true\"\\n   Name=\"List Bullet\"/>\\n  <w:LsdException Locked=\"false\" SemiHidden=\"true\" UnhideWhenUsed=\"true\"\\n   Name=\"List Number\"/>\\n  <w:LsdException Locked=\"false\" SemiHidden=\"true\" UnhideWhenUsed=\"true\"\\n   Name=\"List 2\"/>\\n  <w:LsdException Locked=\"false\" SemiHidden=\"true\" UnhideWhenUsed=\"true\"\\n   Name=\"List 3\"/>\\n  <w:LsdException Locked=\"false\" SemiHidden=\"true\" UnhideWhenUsed=\"true\"\\n   Name=\"List 4\"/>\\n  <w:LsdException Locked=\"false\" SemiHidden=\"true\" UnhideWhenUsed=\"true\"\\n   Name=\"List 5\"/>\\n  <w:LsdException Locked=\"false\" SemiHidden=\"true\" UnhideWhenUsed=\"true\"\\n   Name=\"List Bullet 2\"/>\\n  <w:LsdException Locked=\"false\" SemiHidden=\"true\" UnhideWhenUsed=\"true\"\\n   Name=\"List Bullet 3\"/>\\n  <w:LsdException Locked=\"false\" SemiHidden=\"true\" UnhideWhenUsed=\"true\"\\n   Name=\"List Bullet 4\"/>\\n  <w:LsdException Locked=\"false\" SemiHidden=\"true\" UnhideWhenUsed=\"true\"\\n   Name=\"List Bullet 5\"/>\\n  <w:LsdException Locked=\"false\" SemiHidden=\"true\" UnhideWhenUsed=\"true\"\\n   Name=\"List Number 2\"/>\\n  <w:LsdException Locked=\"false\" SemiHidden=\"true\" UnhideWhenUsed=\"true\"\\n   Name=\"List Number 3\"/>\\n  <w:LsdException Locked=\"false\" SemiHidden=\"true\" UnhideWhenUsed=\"true\"\\n   Name=\"List Number 4\"/>\\n  <w:LsdException Locked=\"false\" SemiHidden=\"true\" UnhideWhenUsed=\"true\"\\n   Name=\"List Number 5\"/>\\n  <w:LsdException Locked=\"false\" Priority=\"10\" QFormat=\"true\" Name=\"Title\"/>\\n  <w:LsdException Locked=\"false\" SemiHidden=\"true\" UnhideWhenUsed=\"true\"\\n   Name=\"Closing\"/>\\n  <w:LsdException Locked=\"false\" SemiHidden=\"true\" UnhideWhenUsed=\"true\"\\n   Name=\"Signature\"/>\\n  <w:LsdException Locked=\"false\" Priority=\"1\" SemiHidden=\"true\"\\n   UnhideWhenUsed=\"true\" Name=\"Default Paragraph Font\"/>\\n  <w:LsdException Locked=\"false\" SemiHidden=\"true\" UnhideWhenUsed=\"true\"\\n   Name=\"Body Text\"/>\\n  <w:LsdException Locked=\"false\" SemiHidden=\"true\" UnhideWhenUsed=\"true\"\\n   Name=\"Body Text Indent\"/>\\n  <w:LsdException Locked=\"false\" SemiHidden=\"true\" UnhideWhenUsed=\"true\"\\n   Name=\"List Continue\"/>\\n  <w:LsdException Locked=\"false\" SemiHidden=\"true\" UnhideWhenUsed=\"true\"\\n   Name=\"List Continue 2\"/>\\n  <w:LsdException Locked=\"false\" SemiHidden=\"true\" UnhideWhenUsed=\"true\"\\n   Name=\"List Continue 3\"/>\\n  <w:LsdException Locked=\"false\" SemiHidden=\"true\" UnhideWhenUsed=\"true\"\\n   Name=\"List Continue 4\"/>\\n  <w:LsdException Locked=\"false\" SemiHidden=\"true\" UnhideWhenUsed=\"true\"\\n   Name=\"List Continue 5\"/>\\n  <w:LsdException Locked=\"false\" SemiHidden=\"true\" UnhideWhenUsed=\"true\"\\n   Name=\"Message Header\"/>\\n  <w:LsdException Locked=\"false\" Priority=\"11\" QFormat=\"true\" Name=\"Subtitle\"/>\\n  <w:LsdException Locked=\"false\" SemiHidden=\"true\" UnhideWhenUsed=\"true\"\\n   Name=\"Salutation\"/>\\n  <w:LsdException Locked=\"false\" SemiHidden=\"true\" UnhideWhenUsed=\"true\"\\n   Name=\"Date\"/>\\n  <w:LsdException Locked=\"false\" SemiHidden=\"true\" UnhideWhenUsed=\"true\"\\n   Name=\"Body Text First Indent\"/>\\n  <w:LsdException Locked=\"false\" SemiHidden=\"true\" UnhideWhenUsed=\"true\"\\n   Name=\"Body Text First Indent 2\"/>\\n  <w:LsdException Locked=\"false\" SemiHidden=\"true\" UnhideWhenUsed=\"true\"\\n   Name=\"Note Heading\"/>\\n  <w:LsdException Locked=\"false\" SemiHidden=\"true\" UnhideWhenUsed=\"true\"\\n   Name=\"Body Text 2\"/>\\n  <w:LsdException Locked=\"false\" SemiHidden=\"true\" UnhideWhenUsed=\"true\"\\n   Name=\"Body Text 3\"/>\\n  <w:LsdException Locked=\"false\" SemiHidden=\"true\" UnhideWhenUsed=\"true\"\\n   Name=\"Body Text Indent 2\"/>\\n  <w:LsdException Locked=\"false\" SemiHidden=\"true\" UnhideWhenUsed=\"true\"\\n   Name=\"Body Text Indent 3\"/>\\n  <w:LsdException Locked=\"false\" SemiHidden=\"true\" UnhideWhenUsed=\"true\"\\n   Name=\"Block Text\"/>\\n  <w:LsdException Locked=\"false\" SemiHidden=\"true\" UnhideWhenUsed=\"true\"\\n   Name=\"Hyperlink\"/>\\n  <w:LsdException Locked=\"false\" SemiHidden=\"true\" UnhideWhenUsed=\"true\"\\n   Name=\"FollowedHyperlink\"/>\\n  <w:LsdException Locked=\"false\" Priority=\"22\" QFormat=\"true\" Name=\"Strong\"/>\\n  <w:LsdException Locked=\"false\" Priority=\"20\" QFormat=\"true\" Name=\"Emphasis\"/>\\n  <w:LsdException Locked=\"false\" SemiHidden=\"true\" UnhideWhenUsed=\"true\"\\n   Name=\"Document Map\"/>\\n  <w:LsdException Locked=\"false\" SemiHidden=\"true\" UnhideWhenUsed=\"true\"\\n   Name=\"Plain Text\"/>\\n  <w:LsdException Locked=\"false\" SemiHidden=\"true\" UnhideWhenUsed=\"true\"\\n   Name=\"E-mail Signature\"/>\\n  <w:LsdException Locked=\"false\" SemiHidden=\"true\" UnhideWhenUsed=\"true\"\\n   Name=\"HTML Top of Form\"/>\\n  <w:LsdException Locked=\"false\" SemiHidden=\"true\" UnhideWhenUsed=\"true\"\\n   Name=\"HTML Bottom of Form\"/>\\n  <w:LsdException Locked=\"false\" SemiHidden=\"true\" UnhideWhenUsed=\"true\"\\n   Name=\"Normal (Web)\"/>\\n  <w:LsdException Locked=\"false\" SemiHidden=\"true\" UnhideWhenUsed=\"true\"\\n   Name=\"HTML Acronym\"/>\\n  <w:LsdException Locked=\"false\" SemiHidden=\"true\" UnhideWhenUsed=\"true\"\\n   Name=\"HTML Address\"/>\\n  <w:LsdException Locked=\"false\" SemiHidden=\"true\" UnhideWhenUsed=\"true\"\\n   Name=\"HTML Cite\"/>\\n  <w:LsdException Locked=\"false\" SemiHidden=\"true\" UnhideWhenUsed=\"true\"\\n   Name=\"HTML Code\"/>\\n  <w:LsdException Locked=\"false\" SemiHidden=\"true\" UnhideWhenUsed=\"true\"\\n   Name=\"HTML Definition\"/>\\n  <w:LsdException Locked=\"false\" SemiHidden=\"true\" UnhideWhenUsed=\"true\"\\n   Name=\"HTML Keyboard\"/>\\n  <w:LsdException Locked=\"false\" SemiHidden=\"true\" UnhideWhenUsed=\"true\"\\n   Name=\"HTML Preformatted\"/>\\n  <w:LsdException Locked=\"false\" SemiHidden=\"true\" UnhideWhenUsed=\"true\"\\n   Name=\"HTML Sample\"/>\\n  <w:LsdException Locked=\"false\" SemiHidden=\"true\" UnhideWhenUsed=\"true\"\\n   Name=\"HTML Typewriter\"/>\\n  <w:LsdException Locked=\"false\" SemiHidden=\"true\" UnhideWhenUsed=\"true\"\\n   Name=\"HTML Variable\"/>\\n  <w:LsdException Locked=\"false\" SemiHidden=\"true\" UnhideWhenUsed=\"true\"\\n   Name=\"Normal Table\"/>\\n  <w:LsdException Locked=\"false\" SemiHidden=\"true\" UnhideWhenUsed=\"true\"\\n   Name=\"annotation subject\"/>\\n  <w:LsdException Locked=\"false\" SemiHidden=\"true\" UnhideWhenUsed=\"true\"\\n   Name=\"No List\"/>\\n  <w:LsdException Locked=\"false\" SemiHidden=\"true\" UnhideWhenUsed=\"true\"\\n   Name=\"Outline List 1\"/>\\n  <w:LsdException Locked=\"false\" SemiHidden=\"true\" UnhideWhenUsed=\"true\"\\n   Name=\"Outline List 2\"/>\\n  <w:LsdException Locked=\"false\" SemiHidden=\"true\" UnhideWhenUsed=\"true\"\\n   Name=\"Outline List 3\"/>\\n  <w:LsdException Locked=\"false\" SemiHidden=\"true\" UnhideWhenUsed=\"true\"\\n   Name=\"Table Simple 1\"/>\\n  <w:LsdException Locked=\"false\" SemiHidden=\"true\" UnhideWhenUsed=\"true\"\\n   Name=\"Table Simple 2\"/>\\n  <w:LsdException Locked=\"false\" SemiHidden=\"true\" UnhideWhenUsed=\"true\"\\n   Name=\"Table Simple 3\"/>\\n  <w:LsdException Locked=\"false\" SemiHidden=\"true\" UnhideWhenUsed=\"true\"\\n   Name=\"Table Classic 1\"/>\\n  <w:LsdException Locked=\"false\" SemiHidden=\"true\" UnhideWhenUsed=\"true\"\\n   Name=\"Table Classic 2\"/>\\n  <w:LsdException Locked=\"false\" SemiHidden=\"true\" UnhideWhenUsed=\"true\"\\n   Name=\"Table Classic 3\"/>\\n  <w:LsdException Locked=\"false\" SemiHidden=\"true\" UnhideWhenUsed=\"true\"\\n   Name=\"Table Classic 4\"/>\\n  <w:LsdException Locked=\"false\" SemiHidden=\"true\" UnhideWhenUsed=\"true\"\\n   Name=\"Table Colorful 1\"/>\\n  <w:LsdException Locked=\"false\" SemiHidden=\"true\" UnhideWhenUsed=\"true\"\\n   Name=\"Table Colorful 2\"/>\\n  <w:LsdException Locked=\"false\" SemiHidden=\"true\" UnhideWhenUsed=\"true\"\\n   Name=\"Table Colorful 3\"/>\\n  <w:LsdException Locked=\"false\" SemiHidden=\"true\" UnhideWhenUsed=\"true\"\\n   Name=\"Table Columns 1\"/>\\n  <w:LsdException Locked=\"false\" SemiHidden=\"true\" UnhideWhenUsed=\"true\"\\n   Name=\"Table Columns 2\"/>\\n  <w:LsdException Locked=\"false\" SemiHidden=\"true\" UnhideWhenUsed=\"true\"\\n   Name=\"Table Columns 3\"/>\\n  <w:LsdException Locked=\"false\" SemiHidden=\"true\" UnhideWhenUsed=\"true\"\\n   Name=\"Table Columns 4\"/>\\n  <w:LsdException Locked=\"false\" SemiHidden=\"true\" UnhideWhenUsed=\"true\"\\n   Name=\"Table Columns 5\"/>\\n  <w:LsdException Locked=\"false\" SemiHidden=\"true\" UnhideWhenUsed=\"true\"\\n   Name=\"Table Grid 1\"/>\\n  <w:LsdException Locked=\"false\" SemiHidden=\"true\" UnhideWhenUsed=\"true\"\\n   Name=\"Table Grid 2\"/>\\n  <w:LsdException Locked=\"false\" SemiHidden=\"true\" UnhideWhenUsed=\"true\"\\n   Name=\"Table Grid 3\"/>\\n  <w:LsdException Locked=\"false\" SemiHidden=\"true\" UnhideWhenUsed=\"true\"\\n   Name=\"Table Grid 4\"/>\\n  <w:LsdException Locked=\"false\" SemiHidden=\"true\" UnhideWhenUsed=\"true\"\\n   Name=\"Table Grid 5\"/>\\n  <w:LsdException Locked=\"false\" SemiHidden=\"true\" UnhideWhenUsed=\"true\"\\n   Name=\"Table Grid 6\"/>\\n  <w:LsdException Locked=\"false\" SemiHidden=\"true\" UnhideWhenUsed=\"true\"\\n   Name=\"Table Grid 7\"/>\\n  <w:LsdException Locked=\"false\" SemiHidden=\"true\" UnhideWhenUsed=\"true\"\\n   Name=\"Table Grid 8\"/>\\n  <w:LsdException Locked=\"false\" SemiHidden=\"true\" UnhideWhenUsed=\"true\"\\n   Name=\"Table List 1\"/>\\n  <w:LsdException Locked=\"false\" SemiHidden=\"true\" UnhideWhenUsed=\"true\"\\n   Name=\"Table List 2\"/>\\n  <w:LsdException Locked=\"false\" SemiHidden=\"true\" UnhideWhenUsed=\"true\"\\n   Name=\"Table List 3\"/>\\n  <w:LsdException Locked=\"false\" SemiHidden=\"true\" UnhideWhenUsed=\"true\"\\n   Name=\"Table List 4\"/>\\n  <w:LsdException Locked=\"false\" SemiHidden=\"true\" UnhideWhenUsed=\"true\"\\n   Name=\"Table List 5\"/>\\n  <w:LsdException Locked=\"false\" SemiHidden=\"true\" UnhideWhenUsed=\"true\"\\n   Name=\"Table List 6\"/>\\n  <w:LsdException Locked=\"false\" SemiHidden=\"true\" UnhideWhenUsed=\"true\"\\n   Name=\"Table List 7\"/>\\n  <w:LsdException Locked=\"false\" SemiHidden=\"true\" UnhideWhenUsed=\"true\"\\n   Name=\"Table List 8\"/>\\n  <w:LsdException Locked=\"false\" SemiHidden=\"true\" UnhideWhenUsed=\"true\"\\n   Name=\"Table 3D effects 1\"/>\\n  <w:LsdException Locked=\"false\" SemiHidden=\"true\" UnhideWhenUsed=\"true\"\\n   Name=\"Table 3D effects 2\"/>\\n  <w:LsdException Locked=\"false\" SemiHidden=\"true\" UnhideWhenUsed=\"true\"\\n   Name=\"Table 3D effects 3\"/>\\n  <w:LsdException Locked=\"false\" SemiHidden=\"true\" UnhideWhenUsed=\"true\"\\n   Name=\"Table Contemporary\"/>\\n  <w:LsdException Locked=\"false\" SemiHidden=\"true\" UnhideWhenUsed=\"true\"\\n   Name=\"Table Elegant\"/>\\n  <w:LsdException Locked=\"false\" SemiHidden=\"true\" UnhideWhenUsed=\"true\"\\n   Name=\"Table Professional\"/>\\n  <w:LsdException Locked=\"false\" SemiHidden=\"true\" UnhideWhenUsed=\"true\"\\n   Name=\"Table Subtle 1\"/>\\n  <w:LsdException Locked=\"false\" SemiHidden=\"true\" UnhideWhenUsed=\"true\"\\n   Name=\"Table Subtle 2\"/>\\n  <w:LsdException Locked=\"false\" SemiHidden=\"true\" UnhideWhenUsed=\"true\"\\n   Name=\"Table Web 1\"/>\\n  <w:LsdException Locked=\"false\" SemiHidden=\"true\" UnhideWhenUsed=\"true\"\\n   Name=\"Table Web 2\"/>\\n  <w:LsdException Locked=\"false\" SemiHidden=\"true\" UnhideWhenUsed=\"true\"\\n   Name=\"Table Web 3\"/>\\n  <w:LsdException Locked=\"false\" SemiHidden=\"true\" UnhideWhenUsed=\"true\"\\n   Name=\"Balloon Text\"/>\\n  <w:LsdException Locked=\"false\" Priority=\"39\" Name=\"Table Grid\"/>\\n  <w:LsdException Locked=\"false\" SemiHidden=\"true\" UnhideWhenUsed=\"true\"\\n   Name=\"Table Theme\"/>\\n  <w:LsdException Locked=\"false\" SemiHidden=\"true\" Name=\"Placeholder Text\"/>\\n  <w:LsdException Locked=\"false\" Priority=\"1\" QFormat=\"true\" Name=\"No Spacing\"/>\\n  <w:LsdException Locked=\"false\" Priority=\"60\" Name=\"Light Shading\"/>\\n  <w:LsdException Locked=\"false\" Priority=\"61\" Name=\"Light List\"/>\\n  <w:LsdException Locked=\"false\" Priority=\"62\" Name=\"Light Grid\"/>\\n  <w:LsdException Locked=\"false\" Priority=\"63\" Name=\"Medium Shading 1\"/>\\n  <w:LsdException Locked=\"false\" Priority=\"64\" Name=\"Medium Shading 2\"/>\\n  <w:LsdException Locked=\"false\" Priority=\"65\" Name=\"Medium List 1\"/>\\n  <w:LsdException Locked=\"false\" Priority=\"66\" Name=\"Medium List 2\"/>\\n  <w:LsdException Locked=\"false\" Priority=\"67\" Name=\"Medium Grid 1\"/>\\n  <w:LsdException Locked=\"false\" Priority=\"68\" Name=\"Medium Grid 2\"/>\\n  <w:LsdException Locked=\"false\" Priority=\"69\" Name=\"Medium Grid 3\"/>\\n  <w:LsdException Locked=\"false\" Priority=\"70\" Name=\"Dark List\"/>\\n  <w:LsdException Locked=\"false\" Priority=\"71\" Name=\"Colorful Shading\"/>\\n  <w:LsdException Locked=\"false\" Priority=\"72\" Name=\"Colorful List\"/>\\n  <w:LsdException Locked=\"false\" Priority=\"73\" Name=\"Colorful Grid\"/>\\n  <w:LsdException Locked=\"false\" Priority=\"60\" Name=\"Light Shading Accent 1\"/>\\n  <w:LsdException Locked=\"false\" Priority=\"61\" Name=\"Light List Accent 1\"/>\\n  <w:LsdException Locked=\"false\" Priority=\"62\" Name=\"Light Grid Accent 1\"/>\\n  <w:LsdException Locked=\"false\" Priority=\"63\" Name=\"Medium Shading 1 Accent 1\"/>\\n  <w:LsdException Locked=\"false\" Priority=\"64\" Name=\"Medium Shading 2 Accent 1\"/>\\n  <w:LsdException Locked=\"false\" Priority=\"65\" Name=\"Medium List 1 Accent 1\"/>\\n  <w:LsdException Locked=\"false\" SemiHidden=\"true\" Name=\"Revision\"/>\\n  <w:LsdException Locked=\"false\" Priority=\"34\" QFormat=\"true\"\\n   Name=\"List Paragraph\"/>\\n  <w:LsdException Locked=\"false\" Priority=\"29\" QFormat=\"true\" Name=\"Quote\"/>\\n  <w:LsdException Locked=\"false\" Priority=\"30\" QFormat=\"true\"\\n   Name=\"Intense Quote\"/>\\n  <w:LsdException Locked=\"false\" Priority=\"66\" Name=\"Medium List 2 Accent 1\"/>\\n  <w:LsdException Locked=\"false\" Priority=\"67\" Name=\"Medium Grid 1 Accent 1\"/>\\n  <w:LsdException Locked=\"false\" Priority=\"68\" Name=\"Medium Grid 2 Accent 1\"/>\\n  <w:LsdException Locked=\"false\" Priority=\"69\" Name=\"Medium Grid 3 Accent 1\"/>\\n  <w:LsdException Locked=\"false\" Priority=\"70\" Name=\"Dark List Accent 1\"/>\\n  <w:LsdException Locked=\"false\" Priority=\"71\" Name=\"Colorful Shading Accent 1\"/>\\n  <w:LsdException Locked=\"false\" Priority=\"72\" Name=\"Colorful List Accent 1\"/>\\n  <w:LsdException Locked=\"false\" Priority=\"73\" Name=\"Colorful Grid Accent 1\"/>\\n  <w:LsdException Locked=\"false\" Priority=\"60\" Name=\"Light Shading Accent 2\"/>\\n  <w:LsdException Locked=\"false\" Priority=\"61\" Name=\"Light List Accent 2\"/>\\n  <w:LsdException Locked=\"false\" Priority=\"62\" Name=\"Light Grid Accent 2\"/>\\n  <w:LsdException Locked=\"false\" Priority=\"63\" Name=\"Medium Shading 1 Accent 2\"/>\\n  <w:LsdException Locked=\"false\" Priority=\"64\" Name=\"Medium Shading 2 Accent 2\"/>\\n  <w:LsdException Locked=\"false\" Priority=\"65\" Name=\"Medium List 1 Accent 2\"/>\\n  <w:LsdException Locked=\"false\" Priority=\"66\" Name=\"Medium List 2 Accent 2\"/>\\n  <w:LsdException Locked=\"false\" Priority=\"67\" Name=\"Medium Grid 1 Accent 2\"/>\\n  <w:LsdException Locked=\"false\" Priority=\"68\" Name=\"Medium Grid 2 Accent 2\"/>\\n  <w:LsdException Locked=\"false\" Priority=\"69\" Name=\"Medium Grid 3 Accent 2\"/>\\n  <w:LsdException Locked=\"false\" Priority=\"70\" Name=\"Dark List Accent 2\"/>\\n  <w:LsdException Locked=\"false\" Priority=\"71\" Name=\"Colorful Shading Accent 2\"/>\\n  <w:LsdException Locked=\"false\" Priority=\"72\" Name=\"Colorful List Accent 2\"/>\\n  <w:LsdException Locked=\"false\" Priority=\"73\" Name=\"Colorful Grid Accent 2\"/>\\n  <w:LsdException Locked=\"false\" Priority=\"60\" Name=\"Light Shading Accent 3\"/>\\n  <w:LsdException Locked=\"false\" Priority=\"61\" Name=\"Light List Accent 3\"/>\\n  <w:LsdException Locked=\"false\" Priority=\"62\" Name=\"Light Grid Accent 3\"/>\\n  <w:LsdException Locked=\"false\" Priority=\"63\" Name=\"Medium Shading 1 Accent 3\"/>\\n  <w:LsdException Locked=\"false\" Priority=\"64\" Name=\"Medium Shading 2 Accent 3\"/>\\n  <w:LsdException Locked=\"false\" Priority=\"65\" Name=\"Medium List 1 Accent 3\"/>\\n  <w:LsdException Locked=\"false\" Priority=\"66\" Name=\"Medium List 2 Accent 3\"/>\\n  <w:LsdException Locked=\"false\" Priority=\"67\" Name=\"Medium Grid 1 Accent 3\"/>\\n  <w:LsdException Locked=\"false\" Priority=\"68\" Name=\"Medium Grid 2 Accent 3\"/>\\n  <w:LsdException Locked=\"false\" Priority=\"69\" Name=\"Medium Grid 3 Accent 3\"/>\\n  <w:LsdException Locked=\"false\" Priority=\"70\" Name=\"Dark List Accent 3\"/>\\n  <w:LsdException Locked=\"false\" Priority=\"71\" Name=\"Colorful Shading Accent 3\"/>\\n  <w:LsdException Locked=\"false\" Priority=\"72\" Name=\"Colorful List Accent 3\"/>\\n  <w:LsdException Locked=\"false\" Priority=\"73\" Name=\"Colorful Grid Accent 3\"/>\\n  <w:LsdException Locked=\"false\" Priority=\"60\" Name=\"Light Shading Accent 4\"/>\\n  <w:LsdException Locked=\"false\" Priority=\"61\" Name=\"Light List Accent 4\"/>\\n  <w:LsdException Locked=\"false\" Priority=\"62\" Name=\"Light Grid Accent 4\"/>\\n  <w:LsdException Locked=\"false\" Priority=\"63\" Name=\"Medium Shading 1 Accent 4\"/>\\n  <w:LsdException Locked=\"false\" Priority=\"64\" Name=\"Medium Shading 2 Accent 4\"/>\\n  <w:LsdException Locked=\"false\" Priority=\"65\" Name=\"Medium List 1 Accent 4\"/>\\n  <w:LsdException Locked=\"false\" Priority=\"66\" Name=\"Medium List 2 Accent 4\"/>\\n  <w:LsdException Locked=\"false\" Priority=\"67\" Name=\"Medium Grid 1 Accent 4\"/>\\n  <w:LsdException Locked=\"false\" Priority=\"68\" Name=\"Medium Grid 2 Accent 4\"/>\\n  <w:LsdException Locked=\"false\" Priority=\"69\" Name=\"Medium Grid 3 Accent 4\"/>\\n  <w:LsdException Locked=\"false\" Priority=\"70\" Name=\"Dark List Accent 4\"/>\\n  <w:LsdException Locked=\"false\" Priority=\"71\" Name=\"Colorful Shading Accent 4\"/>\\n  <w:LsdException Locked=\"false\" Priority=\"72\" Name=\"Colorful List Accent 4\"/>\\n  <w:LsdException Locked=\"false\" Priority=\"73\" Name=\"Colorful Grid Accent 4\"/>\\n  <w:LsdException Locked=\"false\" Priority=\"60\" Name=\"Light Shading Accent 5\"/>\\n  <w:LsdException Locked=\"false\" Priority=\"61\" Name=\"Light List Accent 5\"/>\\n  <w:LsdException Locked=\"false\" Priority=\"62\" Name=\"Light Grid Accent 5\"/>\\n  <w:LsdException Locked=\"false\" Priority=\"63\" Name=\"Medium Shading 1 Accent 5\"/>\\n  <w:LsdException Locked=\"false\" Priority=\"64\" Name=\"Medium Shading 2 Accent 5\"/>\\n  <w:LsdException Locked=\"false\" Priority=\"65\" Name=\"Medium List 1 Accent 5\"/>\\n  <w:LsdException Locked=\"false\" Priority=\"66\" Name=\"Medium List 2 Accent 5\"/>\\n  <w:LsdException Locked=\"false\" Priority=\"67\" Name=\"Medium Grid 1 Accent 5\"/>\\n  <w:LsdException Locked=\"false\" Priority=\"68\" Name=\"Medium Grid 2 Accent 5\"/>\\n  <w:LsdException Locked=\"false\" Priority=\"69\" Name=\"Medium Grid 3 Accent 5\"/>\\n  <w:LsdException Locked=\"false\" Priority=\"70\" Name=\"Dark List Accent 5\"/>\\n  <w:LsdException Locked=\"false\" Priority=\"71\" Name=\"Colorful Shading Accent 5\"/>\\n  <w:LsdException Locked=\"false\" Priority=\"72\" Name=\"Colorful List Accent 5\"/>\\n  <w:LsdException Locked=\"false\" Priority=\"73\" Name=\"Colorful Grid Accent 5\"/>\\n  <w:LsdException Locked=\"false\" Priority=\"60\" Name=\"Light Shading Accent 6\"/>\\n  <w:LsdException Locked=\"false\" Priority=\"61\" Name=\"Light List Accent 6\"/>\\n  <w:LsdException Locked=\"false\" Priority=\"62\" Name=\"Light Grid Accent 6\"/>\\n  <w:LsdException Locked=\"false\" Priority=\"63\" Name=\"Medium Shading 1 Accent 6\"/>\\n  <w:LsdException Locked=\"false\" Priority=\"64\" Name=\"Medium Shading 2 Accent 6\"/>\\n  <w:LsdException Locked=\"false\" Priority=\"65\" Name=\"Medium List 1 Accent 6\"/>\\n  <w:LsdException Locked=\"false\" Priority=\"66\" Name=\"Medium List 2 Accent 6\"/>\\n  <w:LsdException Locked=\"false\" Priority=\"67\" Name=\"Medium Grid 1 Accent 6\"/>\\n  <w:LsdException Locked=\"false\" Priority=\"68\" Name=\"Medium Grid 2 Accent 6\"/>\\n  <w:LsdException Locked=\"false\" Priority=\"69\" Name=\"Medium Grid 3 Accent 6\"/>\\n  <w:LsdException Locked=\"false\" Priority=\"70\" Name=\"Dark List Accent 6\"/>\\n  <w:LsdException Locked=\"false\" Priority=\"71\" Name=\"Colorful Shading Accent 6\"/>\\n  <w:LsdException Locked=\"false\" Priority=\"72\" Name=\"Colorful List Accent 6\"/>\\n  <w:LsdException Locked=\"false\" Priority=\"73\" Name=\"Colorful Grid Accent 6\"/>\\n  <w:LsdException Locked=\"false\" Priority=\"19\" QFormat=\"true\"\\n   Name=\"Subtle Emphasis\"/>\\n  <w:LsdException Locked=\"false\" Priority=\"21\" QFormat=\"true\"\\n   Name=\"Intense Emphasis\"/>\\n  <w:LsdException Locked=\"false\" Priority=\"31\" QFormat=\"true\"\\n   Name=\"Subtle Reference\"/>\\n  <w:LsdException Locked=\"false\" Priority=\"32\" QFormat=\"true\"\\n   Name=\"Intense Reference\"/>\\n  <w:LsdException Locked=\"false\" Priority=\"33\" QFormat=\"true\" Name=\"Book Title\"/>\\n  <w:LsdException Locked=\"false\" Priority=\"37\" SemiHidden=\"true\"\\n   UnhideWhenUsed=\"true\" Name=\"Bibliography\"/>\\n  <w:LsdException Locked=\"false\" Priority=\"39\" SemiHidden=\"true\"\\n   UnhideWhenUsed=\"true\" QFormat=\"true\" Name=\"TOC Heading\"/>\\n  <w:LsdException Locked=\"false\" Priority=\"41\" Name=\"Plain Table 1\"/>\\n  <w:LsdException Locked=\"false\" Priority=\"42\" Name=\"Plain Table 2\"/>\\n  <w:LsdException Locked=\"false\" Priority=\"43\" Name=\"Plain Table 3\"/>\\n  <w:LsdException Locked=\"false\" Priority=\"44\" Name=\"Plain Table 4\"/>\\n  <w:LsdException Locked=\"false\" Priority=\"45\" Name=\"Plain Table 5\"/>\\n  <w:LsdException Locked=\"false\" Priority=\"40\" Name=\"Grid Table Light\"/>\\n  <w:LsdException Locked=\"false\" Priority=\"46\" Name=\"Grid Table 1 Light\"/>\\n  <w:LsdException Locked=\"false\" Priority=\"47\" Name=\"Grid Table 2\"/>\\n  <w:LsdException Locked=\"false\" Priority=\"48\" Name=\"Grid Table 3\"/>\\n  <w:LsdException Locked=\"false\" Priority=\"49\" Name=\"Grid Table 4\"/>\\n  <w:LsdException Locked=\"false\" Priority=\"50\" Name=\"Grid Table 5 Dark\"/>\\n  <w:LsdException Locked=\"false\" Priority=\"51\" Name=\"Grid Table 6 Colorful\"/>\\n  <w:LsdException Locked=\"false\" Priority=\"52\" Name=\"Grid Table 7 Colorful\"/>\\n  <w:LsdException Locked=\"false\" Priority=\"46\"\\n   Name=\"Grid Table 1 Light Accent 1\"/>\\n  <w:LsdException Locked=\"false\" Priority=\"47\" Name=\"Grid Table 2 Accent 1\"/>\\n  <w:LsdException Locked=\"false\" Priority=\"48\" Name=\"Grid Table 3 Accent 1\"/>\\n  <w:LsdException Locked=\"false\" Priority=\"49\" Name=\"Grid Table 4 Accent 1\"/>\\n  <w:LsdException Locked=\"false\" Priority=\"50\" Name=\"Grid Table 5 Dark Accent 1\"/>\\n  <w:LsdException Locked=\"false\" Priority=\"51\"\\n   Name=\"Grid Table 6 Colorful Accent 1\"/>\\n  <w:LsdException Locked=\"false\" Priority=\"52\"\\n   Name=\"Grid Table 7 Colorful Accent 1\"/>\\n  <w:LsdException Locked=\"false\" Priority=\"46\"\\n   Name=\"Grid Table 1 Light Accent 2\"/>\\n  <w:LsdException Locked=\"false\" Priority=\"47\" Name=\"Grid Table 2 Accent 2\"/>\\n  <w:LsdException Locked=\"false\" Priority=\"48\" Name=\"Grid Table 3 Accent 2\"/>\\n  <w:LsdException Locked=\"false\" Priority=\"49\" Name=\"Grid Table 4 Accent 2\"/>\\n  <w:LsdException Locked=\"false\" Priority=\"50\" Name=\"Grid Table 5 Dark Accent 2\"/>\\n  <w:LsdException Locked=\"false\" Priority=\"51\"\\n   Name=\"Grid Table 6 Colorful Accent 2\"/>\\n  <w:LsdException Locked=\"false\" Priority=\"52\"\\n   Name=\"Grid Table 7 Colorful Accent 2\"/>\\n  <w:LsdException Locked=\"false\" Priority=\"46\"\\n   Name=\"Grid Table 1 Light Accent 3\"/>\\n  <w:LsdException Locked=\"false\" Priority=\"47\" Name=\"Grid Table 2 Accent 3\"/>\\n  <w:LsdException Locked=\"false\" Priority=\"48\" Name=\"Grid Table 3 Accent 3\"/>\\n  <w:LsdException Locked=\"false\" Priority=\"49\" Name=\"Grid Table 4 Accent 3\"/>\\n  <w:LsdException Locked=\"false\" Priority=\"50\" Name=\"Grid Table 5 Dark Accent 3\"/>\\n  <w:LsdException Locked=\"false\" Priority=\"51\"\\n   Name=\"Grid Table 6 Colorful Accent 3\"/>\\n  <w:LsdException Locked=\"false\" Priority=\"52\"\\n   Name=\"Grid Table 7 Colorful Accent 3\"/>\\n  <w:LsdException Locked=\"false\" Priority=\"46\"\\n   Name=\"Grid Table 1 Light Accent 4\"/>\\n  <w:LsdException Locked=\"false\" Priority=\"47\" Name=\"Grid Table 2 Accent 4\"/>\\n  <w:LsdException Locked=\"false\" Priority=\"48\" Name=\"Grid Table 3 Accent 4\"/>\\n  <w:LsdException Locked=\"false\" Priority=\"49\" Name=\"Grid Table 4 Accent 4\"/>\\n  <w:LsdException Locked=\"false\" Priority=\"50\" Name=\"Grid Table 5 Dark Accent 4\"/>\\n  <w:LsdException Locked=\"false\" Priority=\"51\"\\n   Name=\"Grid Table 6 Colorful Accent 4\"/>\\n  <w:LsdException Locked=\"false\" Priority=\"52\"\\n   Name=\"Grid Table 7 Colorful Accent 4\"/>\\n  <w:LsdException Locked=\"false\" Priority=\"46\"\\n   Name=\"Grid Table 1 Light Accent 5\"/>\\n  <w:LsdException Locked=\"false\" Priority=\"47\" Name=\"Grid Table 2 Accent 5\"/>\\n  <w:LsdException Locked=\"false\" Priority=\"48\" Name=\"Grid Table 3 Accent 5\"/>\\n  <w:LsdException Locked=\"false\" Priority=\"49\" Name=\"Grid Table 4 Accent 5\"/>\\n  <w:LsdException Locked=\"false\" Priority=\"50\" Name=\"Grid Table 5 Dark Accent 5\"/>\\n  <w:LsdException Locked=\"false\" Priority=\"51\"\\n   Name=\"Grid Table 6 Colorful Accent 5\"/>\\n  <w:LsdException Locked=\"false\" Priority=\"52\"\\n   Name=\"Grid Table 7 Colorful Accent 5\"/>\\n  <w:LsdException Locked=\"false\" Priority=\"46\"\\n   Name=\"Grid Table 1 Light Accent 6\"/>\\n  <w:LsdException Locked=\"false\" Priority=\"47\" Name=\"Grid Table 2 Accent 6\"/>\\n  <w:LsdException Locked=\"false\" Priority=\"48\" Name=\"Grid Table 3 Accent 6\"/>\\n  <w:LsdException Locked=\"false\" Priority=\"49\" Name=\"Grid Table 4 Accent 6\"/>\\n  <w:LsdException Locked=\"false\" Priority=\"50\" Name=\"Grid Table 5 Dark Accent 6\"/>\\n  <w:LsdException Locked=\"false\" Priority=\"51\"\\n   Name=\"Grid Table 6 Colorful Accent 6\"/>\\n  <w:LsdException Locked=\"false\" Priority=\"52\"\\n   Name=\"Grid Table 7 Colorful Accent 6\"/>\\n  <w:LsdException Locked=\"false\" Priority=\"46\" Name=\"List Table 1 Light\"/>\\n  <w:LsdException Locked=\"false\" Priority=\"47\" Name=\"List Table 2\"/>\\n  <w:LsdException Locked=\"false\" Priority=\"48\" Name=\"List Table 3\"/>\\n  <w:LsdException Locked=\"false\" Priority=\"49\" Name=\"List Table 4\"/>\\n  <w:LsdException Locked=\"false\" Priority=\"50\" Name=\"List Table 5 Dark\"/>\\n  <w:LsdException Locked=\"false\" Priority=\"51\" Name=\"List Table 6 Colorful\"/>\\n  <w:LsdException Locked=\"false\" Priority=\"52\" Name=\"List Table 7 Colorful\"/>\\n  <w:LsdException Locked=\"false\" Priority=\"46\"\\n   Name=\"List Table 1 Light Accent 1\"/>\\n  <w:LsdException Locked=\"false\" Priority=\"47\" Name=\"List Table 2 Accent 1\"/>\\n  <w:LsdException Locked=\"false\" Priority=\"48\" Name=\"List Table 3 Accent 1\"/>\\n  <w:LsdException Locked=\"false\" Priority=\"49\" Name=\"List Table 4 Accent 1\"/>\\n  <w:LsdException Locked=\"false\" Priority=\"50\" Name=\"List Table 5 Dark Accent 1\"/>\\n  <w:LsdException Locked=\"false\" Priority=\"51\"\\n   Name=\"List Table 6 Colorful Accent 1\"/>\\n  <w:LsdException Locked=\"false\" Priority=\"52\"\\n   Name=\"List Table 7 Colorful Accent 1\"/>\\n  <w:LsdException Locked=\"false\" Priority=\"46\"\\n   Name=\"List Table 1 Light Accent 2\"/>\\n  <w:LsdException Locked=\"false\" Priority=\"47\" Name=\"List Table 2 Accent 2\"/>\\n  <w:LsdException Locked=\"false\" Priority=\"48\" Name=\"List Table 3 Accent 2\"/>\\n  <w:LsdException Locked=\"false\" Priority=\"49\" Name=\"List Table 4 Accent 2\"/>\\n  <w:LsdException Locked=\"false\" Priority=\"50\" Name=\"List Table 5 Dark Accent 2\"/>\\n  <w:LsdException Locked=\"false\" Priority=\"51\"\\n   Name=\"List Table 6 Colorful Accent 2\"/>\\n  <w:LsdException Locked=\"false\" Priority=\"52\"\\n   Name=\"List Table 7 Colorful Accent 2\"/>\\n  <w:LsdException Locked=\"false\" Priority=\"46\"\\n   Name=\"List Table 1 Light Accent 3\"/>\\n  <w:LsdException Locked=\"false\" Priority=\"47\" Name=\"List Table 2 Accent 3\"/>\\n  <w:LsdException Locked=\"false\" Priority=\"48\" Name=\"List Table 3 Accent 3\"/>\\n  <w:LsdException Locked=\"false\" Priority=\"49\" Name=\"List Table 4 Accent 3\"/>\\n  <w:LsdException Locked=\"false\" Priority=\"50\" Name=\"List Table 5 Dark Accent 3\"/>\\n  <w:LsdException Locked=\"false\" Priority=\"51\"\\n   Name=\"List Table 6 Colorful Accent 3\"/>\\n  <w:LsdException Locked=\"false\" Priority=\"52\"\\n   Name=\"List Table 7 Colorful Accent 3\"/>\\n  <w:LsdException Locked=\"false\" Priority=\"46\"\\n   Name=\"List Table 1 Light Accent 4\"/>\\n  <w:LsdException Locked=\"false\" Priority=\"47\" Name=\"List Table 2 Accent 4\"/>\\n  <w:LsdException Locked=\"false\" Priority=\"48\" Name=\"List Table 3 Accent 4\"/>\\n  <w:LsdException Locked=\"false\" Priority=\"49\" Name=\"List Table 4 Accent 4\"/>\\n  <w:LsdException Locked=\"false\" Priority=\"50\" Name=\"List Table 5 Dark Accent 4\"/>\\n  <w:LsdException Locked=\"false\" Priority=\"51\"\\n   Name=\"List Table 6 Colorful Accent 4\"/>\\n  <w:LsdException Locked=\"false\" Priority=\"52\"\\n   Name=\"List Table 7 Colorful Accent 4\"/>\\n  <w:LsdException Locked=\"false\" Priority=\"46\"\\n   Name=\"List Table 1 Light Accent 5\"/>\\n  <w:LsdException Locked=\"false\" Priority=\"47\" Name=\"List Table 2 Accent 5\"/>\\n  <w:LsdException Locked=\"false\" Priority=\"48\" Name=\"List Table 3 Accent 5\"/>\\n  <w:LsdException Locked=\"false\" Priority=\"49\" Name=\"List Table 4 Accent 5\"/>\\n  <w:LsdException Locked=\"false\" Priority=\"50\" Name=\"List Table 5 Dark Accent 5\"/>\\n  <w:LsdException Locked=\"false\" Priority=\"51\"\\n   Name=\"List Table 6 Colorful Accent 5\"/>\\n  <w:LsdException Locked=\"false\" Priority=\"52\"\\n   Name=\"List Table 7 Colorful Accent 5\"/>\\n  <w:LsdException Locked=\"false\" Priority=\"46\"\\n   Name=\"List Table 1 Light Accent 6\"/>\\n  <w:LsdException Locked=\"false\" Priority=\"47\" Name=\"List Table 2 Accent 6\"/>\\n  <w:LsdException Locked=\"false\" Priority=\"48\" Name=\"List Table 3 Accent 6\"/>\\n  <w:LsdException Locked=\"false\" Priority=\"49\" Name=\"List Table 4 Accent 6\"/>\\n  <w:LsdException Locked=\"false\" Priority=\"50\" Name=\"List Table 5 Dark Accent 6\"/>\\n  <w:LsdException Locked=\"false\" Priority=\"51\"\\n   Name=\"List Table 6 Colorful Accent 6\"/>\\n  <w:LsdException Locked=\"false\" Priority=\"52\"\\n   Name=\"List Table 7 Colorful Accent 6\"/>\\n </w:LatentStyles>\\n</xml><![endif]--><!-- [if gte mso 10]>\\n<style>\\n /* Style Definitions */\\n table.MsoNormalTable\\n\\t{mso-style-name:\"Table Normal\";\\n\\tmso-tstyle-rowband-size:0;\\n\\tmso-tstyle-colband-size:0;\\n\\tmso-style-noshow:yes;\\n\\tmso-style-priority:99;\\n\\tmso-style-parent:\"\";\\n\\tmso-padding-alt:0in 5.4pt 0in 5.4pt;\\n\\tmso-para-margin-top:0in;\\n\\tmso-para-margin-right:0in;\\n\\tmso-para-margin-bottom:8.0pt;\\n\\tmso-para-margin-left:0in;\\n\\tline-height:107%;\\n\\tmso-pagination:widow-orphan;\\n\\tfont-size:11.0pt;\\n\\tfont-family:\"Calibri\",sans-serif;\\n\\tmso-ascii-font-family:Calibri;\\n\\tmso-ascii-theme-font:minor-latin;\\n\\tmso-hansi-font-family:Calibri;\\n\\tmso-hansi-theme-font:minor-latin;\\n\\tmso-bidi-font-family:\"Times New Roman\";\\n\\tmso-bidi-theme-font:minor-bidi;}\\n</style>\\n<![endif]--><span style=\"font-size: 11.0pt; line-height: 106%; font-family: \\'Calibri\\',sans-serif; mso-ascii-theme-font: minor-latin; mso-fareast-font-family: Calibri; mso-fareast-theme-font: minor-latin; mso-hansi-theme-font: minor-latin; mso-bidi-font-family: \\'Times New Roman\\'; mso-bidi-theme-font: minor-bidi; mso-ansi-language: EN-US; mso-fareast-language: EN-US; mso-bidi-language: AR-SA;\">a Senator from Nebraska; born in Nebraska City, Nebr., August 19, 1964; graduated Westside High School, Omaha, Nebr., 1982; B.A., biology, University of Chicago, 1986; M.B.A., marketing and finance, University of Chicago, 1991; online brokerage firm president and chief operating officer; co-owner of Chicago Cubs baseball team; unsuccessful candidate for the United States Senate in 2006; governor of Nebraska 2015-2023; appointed as a Republican to the United States Senate on January 12, 2023, to fill the vacancy caused by the resignation of Benjamin Sasse; took the oath of office on January 23, 2023.</span>'"
      ]
     },
     "metadata": {},
     "output_type": "display_data"
    }
   ],
   "source": [
    "display(recentBios[\"profileText\"][12395])\n",
    "\n",
    "# darn it, Ben Sasse!\n",
    "\n",
    "str12395 = (\n",
    "    \"a Senator from Nebraska; born in Nebraska City, Nebr., August 19, 1964; graduated\"\n",
    "    \" Westside High School, Omaha, Nebr., 1982; B.A., biology, University of Chicago,\"\n",
    "    \" 1986; M.B.A., marketing and finance, University of Chicago, 1991; online\"\n",
    "    \" brokerage firm president and chief operating officer; co-owner of Chicago Cubs\"\n",
    "    \" baseball team; unsuccessful candidate for the United States Senate in 2006;\"\n",
    "    \" governor of Nebraska 2015-2023; appointed as a Republican to the United States\"\n",
    "    \" Senate on January 12, 2023, to fill the vacancy caused by the resignation of\"\n",
    "    \" Benjamin Sasse; took the oath of office on January 23, 2023.\"\n",
    ")\n",
    "recentBios.loc[12395, \"profileText\"] = str12395"
   ]
  },
  {
   "cell_type": "code",
   "execution_count": 400,
   "metadata": {},
   "outputs": [],
   "source": [
    "recentBios = recentBios[\n",
    "    [\"givenName\", \"familyName\", \"congresses\", \"profileText\", \"jobPositions\"]\n",
    "]"
   ]
  },
  {
   "cell_type": "code",
   "execution_count": 401,
   "metadata": {},
   "outputs": [],
   "source": [
    "def get_state_abbrev(text):\n",
    "    for state in utils.state_list:\n",
    "        if state.lower() in text.lower():\n",
    "            return utils.state_dict[state]\n",
    "\n",
    "    return None\n",
    "\n",
    "\n",
    "recentBios.loc[:, \"state\"] = recentBios.profileText.apply(\n",
    "    lambda x: get_state_abbrev(x.split(\";\")[0])\n",
    ")"
   ]
  },
  {
   "cell_type": "code",
   "execution_count": 402,
   "metadata": {},
   "outputs": [
    {
     "data": {
      "text/html": [
       "<div>\n",
       "<style scoped>\n",
       "    .dataframe tbody tr th:only-of-type {\n",
       "        vertical-align: middle;\n",
       "    }\n",
       "\n",
       "    .dataframe tbody tr th {\n",
       "        vertical-align: top;\n",
       "    }\n",
       "\n",
       "    .dataframe thead th {\n",
       "        text-align: right;\n",
       "    }\n",
       "</style>\n",
       "<table border=\"1\" class=\"dataframe\">\n",
       "  <thead>\n",
       "    <tr style=\"text-align: right;\">\n",
       "      <th></th>\n",
       "      <th>givenName</th>\n",
       "      <th>familyName</th>\n",
       "      <th>congresses</th>\n",
       "      <th>profileText</th>\n",
       "      <th>jobPositions</th>\n",
       "      <th>state</th>\n",
       "    </tr>\n",
       "  </thead>\n",
       "  <tbody>\n",
       "    <tr>\n",
       "      <th>8439</th>\n",
       "      <td>Walt</td>\n",
       "      <td>Minnick</td>\n",
       "      <td>[111]</td>\n",
       "      <td>A Representative from Idaho; born in Walla Wal...</td>\n",
       "      <td>[{'job': {'name': 'Representative', 'jobType':...</td>\n",
       "      <td>ID</td>\n",
       "    </tr>\n",
       "    <tr>\n",
       "      <th>2902</th>\n",
       "      <td>William</td>\n",
       "      <td>Bradley</td>\n",
       "      <td>[96, 97, 98, 99, 100, 101, 102, 103, 104]</td>\n",
       "      <td>A Senator from New Jersey; born in Crystal Cit...</td>\n",
       "      <td>[{'job': {'name': 'Senator', 'jobType': 'Congr...</td>\n",
       "      <td>NJ</td>\n",
       "    </tr>\n",
       "    <tr>\n",
       "      <th>2759</th>\n",
       "      <td>Peter</td>\n",
       "      <td>Rodino</td>\n",
       "      <td>[81, 82, 83, 84, 85, 86, 87, 88, 89, 90, 91, 9...</td>\n",
       "      <td>A Representative from New Jersey; born in Newa...</td>\n",
       "      <td>[{'job': {'name': 'Representative', 'jobType':...</td>\n",
       "      <td>NJ</td>\n",
       "    </tr>\n",
       "    <tr>\n",
       "      <th>9532</th>\n",
       "      <td>Brad</td>\n",
       "      <td>Ellsworth</td>\n",
       "      <td>[110, 111]</td>\n",
       "      <td>A Representative from Indiana; born in Jasper,...</td>\n",
       "      <td>[{'job': {'name': 'Representative', 'jobType':...</td>\n",
       "      <td>IN</td>\n",
       "    </tr>\n",
       "    <tr>\n",
       "      <th>2425</th>\n",
       "      <td>Timothy</td>\n",
       "      <td>Hutchinson</td>\n",
       "      <td>[103, 104, 105, 106, 107]</td>\n",
       "      <td>a Representative and a Senator from Arkansas; ...</td>\n",
       "      <td>[{'job': {'name': 'Representative', 'jobType':...</td>\n",
       "      <td>AR</td>\n",
       "    </tr>\n",
       "  </tbody>\n",
       "</table>\n",
       "</div>"
      ],
      "text/plain": [
       "     givenName  familyName                                         congresses  \\\n",
       "8439      Walt     Minnick                                              [111]   \n",
       "2902   William     Bradley          [96, 97, 98, 99, 100, 101, 102, 103, 104]   \n",
       "2759     Peter      Rodino  [81, 82, 83, 84, 85, 86, 87, 88, 89, 90, 91, 9...   \n",
       "9532      Brad   Ellsworth                                         [110, 111]   \n",
       "2425   Timothy  Hutchinson                          [103, 104, 105, 106, 107]   \n",
       "\n",
       "                                            profileText  \\\n",
       "8439  A Representative from Idaho; born in Walla Wal...   \n",
       "2902  A Senator from New Jersey; born in Crystal Cit...   \n",
       "2759  A Representative from New Jersey; born in Newa...   \n",
       "9532  A Representative from Indiana; born in Jasper,...   \n",
       "2425  a Representative and a Senator from Arkansas; ...   \n",
       "\n",
       "                                           jobPositions state  \n",
       "8439  [{'job': {'name': 'Representative', 'jobType':...    ID  \n",
       "2902  [{'job': {'name': 'Senator', 'jobType': 'Congr...    NJ  \n",
       "2759  [{'job': {'name': 'Representative', 'jobType':...    NJ  \n",
       "9532  [{'job': {'name': 'Representative', 'jobType':...    IN  \n",
       "2425  [{'job': {'name': 'Representative', 'jobType':...    AR  "
      ]
     },
     "execution_count": 402,
     "metadata": {},
     "output_type": "execute_result"
    }
   ],
   "source": [
    "recentBios.sample(5)"
   ]
  },
  {
   "cell_type": "markdown",
   "metadata": {},
   "source": [
    "### Let's confirm that there are 2 senators from each State:\n",
    "\n",
    "Still need to rewrite the code here to account for the fact that future senators\n",
    "will still show up as senators"
   ]
  },
  {
   "cell_type": "code",
   "execution_count": 403,
   "metadata": {},
   "outputs": [
    {
     "ename": "AttributeError",
     "evalue": "'DataFrame' object has no attribute 'state'",
     "output_type": "error",
     "traceback": [
      "\u001b[0;31m---------------------------------------------------------------------------\u001b[0m",
      "\u001b[0;31mAttributeError\u001b[0m                            Traceback (most recent call last)",
      "\u001b[0;32m/var/folders/j9/cgws7l217tl7gwgvk9x0ckf80000gn/T/ipykernel_63474/2892771095.py\u001b[0m in \u001b[0;36m?\u001b[0;34m()\u001b[0m\n\u001b[1;32m      3\u001b[0m         \u001b[0mcurrentBios\u001b[0m\u001b[0;34m.\u001b[0m\u001b[0mprofileText\u001b[0m\u001b[0;34m.\u001b[0m\u001b[0mstr\u001b[0m\u001b[0;34m.\u001b[0m\u001b[0mlower\u001b[0m\u001b[0;34m(\u001b[0m\u001b[0;34m)\u001b[0m\u001b[0;34m.\u001b[0m\u001b[0mstr\u001b[0m\u001b[0;34m.\u001b[0m\u001b[0mcontains\u001b[0m\u001b[0;34m(\u001b[0m\u001b[0;34m\"a senator from\"\u001b[0m\u001b[0;34m)\u001b[0m\u001b[0;34m\u001b[0m\u001b[0;34m\u001b[0m\u001b[0m\n\u001b[1;32m      4\u001b[0m         \u001b[0;34m|\u001b[0m \u001b[0mcurrentBios\u001b[0m\u001b[0;34m.\u001b[0m\u001b[0mprofileText\u001b[0m\u001b[0;34m.\u001b[0m\u001b[0mstr\u001b[0m\u001b[0;34m.\u001b[0m\u001b[0mlower\u001b[0m\u001b[0;34m(\u001b[0m\u001b[0;34m)\u001b[0m\u001b[0;34m.\u001b[0m\u001b[0mstr\u001b[0m\u001b[0;34m.\u001b[0m\u001b[0mcontains\u001b[0m\u001b[0;34m(\u001b[0m\u001b[0;34m\"a senator and a represent\"\u001b[0m\u001b[0;34m)\u001b[0m\u001b[0;34m\u001b[0m\u001b[0;34m\u001b[0m\u001b[0m\n\u001b[1;32m      5\u001b[0m         \u001b[0;34m|\u001b[0m \u001b[0mcurrentBios\u001b[0m\u001b[0;34m.\u001b[0m\u001b[0mprofileText\u001b[0m\u001b[0;34m.\u001b[0m\u001b[0mstr\u001b[0m\u001b[0;34m.\u001b[0m\u001b[0mlower\u001b[0m\u001b[0;34m(\u001b[0m\u001b[0;34m)\u001b[0m\u001b[0;34m.\u001b[0m\u001b[0mstr\u001b[0m\u001b[0;34m.\u001b[0m\u001b[0mcontains\u001b[0m\u001b[0;34m(\u001b[0m\u001b[0;34m\"a senator and represent\"\u001b[0m\u001b[0;34m)\u001b[0m\u001b[0;34m\u001b[0m\u001b[0;34m\u001b[0m\u001b[0m\n\u001b[1;32m      6\u001b[0m     \u001b[0;34m)\u001b[0m\u001b[0;34m\u001b[0m\u001b[0;34m\u001b[0m\u001b[0m\n\u001b[0;32m----> 7\u001b[0;31m \u001b[0;34m]\u001b[0m\u001b[0;34m.\u001b[0m\u001b[0mstate\u001b[0m\u001b[0;34m.\u001b[0m\u001b[0mvalue_counts\u001b[0m\u001b[0;34m(\u001b[0m\u001b[0;34m)\u001b[0m\u001b[0;34m.\u001b[0m\u001b[0mloc\u001b[0m\u001b[0;34m[\u001b[0m\u001b[0;32mlambda\u001b[0m \u001b[0mx\u001b[0m\u001b[0;34m:\u001b[0m \u001b[0mx\u001b[0m \u001b[0;34m!=\u001b[0m \u001b[0;36m2\u001b[0m\u001b[0;34m]\u001b[0m\u001b[0;34m\u001b[0m\u001b[0;34m\u001b[0m\u001b[0m\n\u001b[0m",
      "\u001b[0;32m~/uchicago/4.1-Autumn-2024/Data Viz/congress-project/.venv/lib/python3.12/site-packages/pandas/core/generic.py\u001b[0m in \u001b[0;36m?\u001b[0;34m(self, name)\u001b[0m\n\u001b[1;32m   6295\u001b[0m             \u001b[0;32mand\u001b[0m \u001b[0mname\u001b[0m \u001b[0;32mnot\u001b[0m \u001b[0;32min\u001b[0m \u001b[0mself\u001b[0m\u001b[0;34m.\u001b[0m\u001b[0m_accessors\u001b[0m\u001b[0;34m\u001b[0m\u001b[0;34m\u001b[0m\u001b[0m\n\u001b[1;32m   6296\u001b[0m             \u001b[0;32mand\u001b[0m \u001b[0mself\u001b[0m\u001b[0;34m.\u001b[0m\u001b[0m_info_axis\u001b[0m\u001b[0;34m.\u001b[0m\u001b[0m_can_hold_identifiers_and_holds_name\u001b[0m\u001b[0;34m(\u001b[0m\u001b[0mname\u001b[0m\u001b[0;34m)\u001b[0m\u001b[0;34m\u001b[0m\u001b[0;34m\u001b[0m\u001b[0m\n\u001b[1;32m   6297\u001b[0m         \u001b[0;34m)\u001b[0m\u001b[0;34m:\u001b[0m\u001b[0;34m\u001b[0m\u001b[0;34m\u001b[0m\u001b[0m\n\u001b[1;32m   6298\u001b[0m             \u001b[0;32mreturn\u001b[0m \u001b[0mself\u001b[0m\u001b[0;34m[\u001b[0m\u001b[0mname\u001b[0m\u001b[0;34m]\u001b[0m\u001b[0;34m\u001b[0m\u001b[0;34m\u001b[0m\u001b[0m\n\u001b[0;32m-> 6299\u001b[0;31m         \u001b[0;32mreturn\u001b[0m \u001b[0mobject\u001b[0m\u001b[0;34m.\u001b[0m\u001b[0m__getattribute__\u001b[0m\u001b[0;34m(\u001b[0m\u001b[0mself\u001b[0m\u001b[0;34m,\u001b[0m \u001b[0mname\u001b[0m\u001b[0;34m)\u001b[0m\u001b[0;34m\u001b[0m\u001b[0;34m\u001b[0m\u001b[0m\n\u001b[0m",
      "\u001b[0;31mAttributeError\u001b[0m: 'DataFrame' object has no attribute 'state'"
     ]
    }
   ],
   "source": [
    "currentBios.loc[\n",
    "    (\n",
    "        currentBios.profileText.str.lower().str.contains(\"a senator from\")\n",
    "        | currentBios.profileText.str.lower().str.contains(\"a senator and a represent\")\n",
    "        | currentBios.profileText.str.lower().str.contains(\"a senator and represent\")\n",
    "    )\n",
    "].state.value_counts().loc[lambda x: x != 2]"
   ]
  },
  {
   "cell_type": "markdown",
   "metadata": {},
   "source": [
    "Okay, I assume that the NE and CA anomalies are Ben Sasse retiring and Diane\n",
    "Feinstein passing away, since the two of them were both members of the 118th\n",
    "Congress. Let's check on that real quick:"
   ]
  },
  {
   "cell_type": "code",
   "execution_count": 404,
   "metadata": {},
   "outputs": [
    {
     "data": {
      "text/plain": [
       "Index([6720, 12640], dtype='int64')"
      ]
     },
     "execution_count": 404,
     "metadata": {},
     "output_type": "execute_result"
    }
   ],
   "source": [
    "recentBios.loc[\n",
    "    (recentBios.familyName == \"Sasse\") | (recentBios.familyName == \"Feinstein\")\n",
    "].index"
   ]
  },
  {
   "cell_type": "markdown",
   "metadata": {},
   "source": [
    "I'm not going to drop either of them, since they were technically parts of the 118th Congress. But that still leaves the question of what's going on in VT, OK, and NC."
   ]
  },
  {
   "cell_type": "code",
   "execution_count": 405,
   "metadata": {},
   "outputs": [
    {
     "ename": "AttributeError",
     "evalue": "'DataFrame' object has no attribute 'state'",
     "output_type": "error",
     "traceback": [
      "\u001b[0;31m---------------------------------------------------------------------------\u001b[0m",
      "\u001b[0;31mAttributeError\u001b[0m                            Traceback (most recent call last)",
      "\u001b[0;32m/var/folders/j9/cgws7l217tl7gwgvk9x0ckf80000gn/T/ipykernel_63474/3933961998.py\u001b[0m in \u001b[0;36m?\u001b[0;34m()\u001b[0m\n\u001b[0;32m----> 1\u001b[0;31m currentBios.loc[\n\u001b[0m\u001b[1;32m      2\u001b[0m     (\n\u001b[1;32m      3\u001b[0m         \u001b[0mcurrentBios\u001b[0m\u001b[0;34m.\u001b[0m\u001b[0mprofileText\u001b[0m\u001b[0;34m.\u001b[0m\u001b[0mstr\u001b[0m\u001b[0;34m.\u001b[0m\u001b[0mlower\u001b[0m\u001b[0;34m(\u001b[0m\u001b[0;34m)\u001b[0m\u001b[0;34m.\u001b[0m\u001b[0mstr\u001b[0m\u001b[0;34m.\u001b[0m\u001b[0mcontains\u001b[0m\u001b[0;34m(\u001b[0m\u001b[0;34m\"a senator from\"\u001b[0m\u001b[0;34m)\u001b[0m\u001b[0;34m\u001b[0m\u001b[0;34m\u001b[0m\u001b[0m\n\u001b[1;32m      4\u001b[0m         \u001b[0;34m|\u001b[0m \u001b[0mcurrentBios\u001b[0m\u001b[0;34m.\u001b[0m\u001b[0mprofileText\u001b[0m\u001b[0;34m.\u001b[0m\u001b[0mstr\u001b[0m\u001b[0;34m.\u001b[0m\u001b[0mlower\u001b[0m\u001b[0;34m(\u001b[0m\u001b[0;34m)\u001b[0m\u001b[0;34m.\u001b[0m\u001b[0mstr\u001b[0m\u001b[0;34m.\u001b[0m\u001b[0mcontains\u001b[0m\u001b[0;34m(\u001b[0m\u001b[0;34m\"a senator and a represent\"\u001b[0m\u001b[0;34m)\u001b[0m\u001b[0;34m\u001b[0m\u001b[0;34m\u001b[0m\u001b[0m\n",
      "\u001b[0;32m~/uchicago/4.1-Autumn-2024/Data Viz/congress-project/.venv/lib/python3.12/site-packages/pandas/core/indexing.py\u001b[0m in \u001b[0;36m?\u001b[0;34m(self, key)\u001b[0m\n\u001b[1;32m   1185\u001b[0m         \u001b[0;32melse\u001b[0m\u001b[0;34m:\u001b[0m\u001b[0;34m\u001b[0m\u001b[0;34m\u001b[0m\u001b[0m\n\u001b[1;32m   1186\u001b[0m             \u001b[0;31m# we by definition only have the 0th axis\u001b[0m\u001b[0;34m\u001b[0m\u001b[0;34m\u001b[0m\u001b[0m\n\u001b[1;32m   1187\u001b[0m             \u001b[0maxis\u001b[0m \u001b[0;34m=\u001b[0m \u001b[0mself\u001b[0m\u001b[0;34m.\u001b[0m\u001b[0maxis\u001b[0m \u001b[0;32mor\u001b[0m \u001b[0;36m0\u001b[0m\u001b[0;34m\u001b[0m\u001b[0;34m\u001b[0m\u001b[0m\n\u001b[1;32m   1188\u001b[0m \u001b[0;34m\u001b[0m\u001b[0m\n\u001b[0;32m-> 1189\u001b[0;31m             \u001b[0mmaybe_callable\u001b[0m \u001b[0;34m=\u001b[0m \u001b[0mcom\u001b[0m\u001b[0;34m.\u001b[0m\u001b[0mapply_if_callable\u001b[0m\u001b[0;34m(\u001b[0m\u001b[0mkey\u001b[0m\u001b[0;34m,\u001b[0m \u001b[0mself\u001b[0m\u001b[0;34m.\u001b[0m\u001b[0mobj\u001b[0m\u001b[0;34m)\u001b[0m\u001b[0;34m\u001b[0m\u001b[0;34m\u001b[0m\u001b[0m\n\u001b[0m\u001b[1;32m   1190\u001b[0m             \u001b[0mmaybe_callable\u001b[0m \u001b[0;34m=\u001b[0m \u001b[0mself\u001b[0m\u001b[0;34m.\u001b[0m\u001b[0m_check_deprecated_callable_usage\u001b[0m\u001b[0;34m(\u001b[0m\u001b[0mkey\u001b[0m\u001b[0;34m,\u001b[0m \u001b[0mmaybe_callable\u001b[0m\u001b[0;34m)\u001b[0m\u001b[0;34m\u001b[0m\u001b[0;34m\u001b[0m\u001b[0m\n\u001b[1;32m   1191\u001b[0m             \u001b[0;32mreturn\u001b[0m \u001b[0mself\u001b[0m\u001b[0;34m.\u001b[0m\u001b[0m_getitem_axis\u001b[0m\u001b[0;34m(\u001b[0m\u001b[0mmaybe_callable\u001b[0m\u001b[0;34m,\u001b[0m \u001b[0maxis\u001b[0m\u001b[0;34m=\u001b[0m\u001b[0maxis\u001b[0m\u001b[0;34m)\u001b[0m\u001b[0;34m\u001b[0m\u001b[0;34m\u001b[0m\u001b[0m\n",
      "\u001b[0;32m~/uchicago/4.1-Autumn-2024/Data Viz/congress-project/.venv/lib/python3.12/site-packages/pandas/core/common.py\u001b[0m in \u001b[0;36m?\u001b[0;34m(maybe_callable, obj, **kwargs)\u001b[0m\n\u001b[1;32m    380\u001b[0m     \u001b[0mobj\u001b[0m \u001b[0;34m:\u001b[0m \u001b[0mNDFrame\u001b[0m\u001b[0;34m\u001b[0m\u001b[0;34m\u001b[0m\u001b[0m\n\u001b[1;32m    381\u001b[0m     \u001b[0;34m**\u001b[0m\u001b[0mkwargs\u001b[0m\u001b[0;34m\u001b[0m\u001b[0;34m\u001b[0m\u001b[0m\n\u001b[1;32m    382\u001b[0m     \"\"\"\n\u001b[1;32m    383\u001b[0m     \u001b[0;32mif\u001b[0m \u001b[0mcallable\u001b[0m\u001b[0;34m(\u001b[0m\u001b[0mmaybe_callable\u001b[0m\u001b[0;34m)\u001b[0m\u001b[0;34m:\u001b[0m\u001b[0;34m\u001b[0m\u001b[0;34m\u001b[0m\u001b[0m\n\u001b[0;32m--> 384\u001b[0;31m         \u001b[0;32mreturn\u001b[0m \u001b[0mmaybe_callable\u001b[0m\u001b[0;34m(\u001b[0m\u001b[0mobj\u001b[0m\u001b[0;34m,\u001b[0m \u001b[0;34m**\u001b[0m\u001b[0mkwargs\u001b[0m\u001b[0;34m)\u001b[0m\u001b[0;34m\u001b[0m\u001b[0;34m\u001b[0m\u001b[0m\n\u001b[0m\u001b[1;32m    385\u001b[0m \u001b[0;34m\u001b[0m\u001b[0m\n\u001b[1;32m    386\u001b[0m     \u001b[0;32mreturn\u001b[0m \u001b[0mmaybe_callable\u001b[0m\u001b[0;34m\u001b[0m\u001b[0;34m\u001b[0m\u001b[0m\n",
      "\u001b[0;32m/var/folders/j9/cgws7l217tl7gwgvk9x0ckf80000gn/T/ipykernel_63474/3933961998.py\u001b[0m in \u001b[0;36m?\u001b[0;34m(x)\u001b[0m\n\u001b[0;32m----> 7\u001b[0;31m \u001b[0;34m]\u001b[0m\u001b[0;34m.\u001b[0m\u001b[0mloc\u001b[0m\u001b[0;34m[\u001b[0m\u001b[0;32mlambda\u001b[0m \u001b[0mx\u001b[0m\u001b[0;34m:\u001b[0m \u001b[0mx\u001b[0m\u001b[0;34m.\u001b[0m\u001b[0mstate\u001b[0m \u001b[0;34m==\u001b[0m \u001b[0;34m\"VT\"\u001b[0m\u001b[0;34m]\u001b[0m\u001b[0;34m\u001b[0m\u001b[0;34m\u001b[0m\u001b[0m\n\u001b[0m",
      "\u001b[0;32m~/uchicago/4.1-Autumn-2024/Data Viz/congress-project/.venv/lib/python3.12/site-packages/pandas/core/generic.py\u001b[0m in \u001b[0;36m?\u001b[0;34m(self, name)\u001b[0m\n\u001b[1;32m   6295\u001b[0m             \u001b[0;32mand\u001b[0m \u001b[0mname\u001b[0m \u001b[0;32mnot\u001b[0m \u001b[0;32min\u001b[0m \u001b[0mself\u001b[0m\u001b[0;34m.\u001b[0m\u001b[0m_accessors\u001b[0m\u001b[0;34m\u001b[0m\u001b[0;34m\u001b[0m\u001b[0m\n\u001b[1;32m   6296\u001b[0m             \u001b[0;32mand\u001b[0m \u001b[0mself\u001b[0m\u001b[0;34m.\u001b[0m\u001b[0m_info_axis\u001b[0m\u001b[0;34m.\u001b[0m\u001b[0m_can_hold_identifiers_and_holds_name\u001b[0m\u001b[0;34m(\u001b[0m\u001b[0mname\u001b[0m\u001b[0;34m)\u001b[0m\u001b[0;34m\u001b[0m\u001b[0;34m\u001b[0m\u001b[0m\n\u001b[1;32m   6297\u001b[0m         \u001b[0;34m)\u001b[0m\u001b[0;34m:\u001b[0m\u001b[0;34m\u001b[0m\u001b[0;34m\u001b[0m\u001b[0m\n\u001b[1;32m   6298\u001b[0m             \u001b[0;32mreturn\u001b[0m \u001b[0mself\u001b[0m\u001b[0;34m[\u001b[0m\u001b[0mname\u001b[0m\u001b[0;34m]\u001b[0m\u001b[0;34m\u001b[0m\u001b[0;34m\u001b[0m\u001b[0m\n\u001b[0;32m-> 6299\u001b[0;31m         \u001b[0;32mreturn\u001b[0m \u001b[0mobject\u001b[0m\u001b[0;34m.\u001b[0m\u001b[0m__getattribute__\u001b[0m\u001b[0;34m(\u001b[0m\u001b[0mself\u001b[0m\u001b[0;34m,\u001b[0m \u001b[0mname\u001b[0m\u001b[0;34m)\u001b[0m\u001b[0;34m\u001b[0m\u001b[0;34m\u001b[0m\u001b[0m\n\u001b[0m",
      "\u001b[0;31mAttributeError\u001b[0m: 'DataFrame' object has no attribute 'state'"
     ]
    }
   ],
   "source": [
    "currentBios.loc[\n",
    "    (\n",
    "        currentBios.profileText.str.lower().str.contains(\"a senator from\")\n",
    "        | currentBios.profileText.str.lower().str.contains(\"a senator and a represent\")\n",
    "        | currentBios.profileText.str.lower().str.contains(\"a senator and represent\")\n",
    "    )\n",
    "].loc[lambda x: x.state == \"VT\"]"
   ]
  },
  {
   "cell_type": "markdown",
   "metadata": {},
   "source": [
    "Okay, looks like [Peter Welch](https://en.wikipedia.org/wiki/Peter_Welch) is missing..."
   ]
  },
  {
   "cell_type": "code",
   "execution_count": 406,
   "metadata": {},
   "outputs": [
    {
     "data": {
      "text/html": [
       "<div>\n",
       "<style scoped>\n",
       "    .dataframe tbody tr th:only-of-type {\n",
       "        vertical-align: middle;\n",
       "    }\n",
       "\n",
       "    .dataframe tbody tr th {\n",
       "        vertical-align: top;\n",
       "    }\n",
       "\n",
       "    .dataframe thead th {\n",
       "        text-align: right;\n",
       "    }\n",
       "</style>\n",
       "<table border=\"1\" class=\"dataframe\">\n",
       "  <thead>\n",
       "    <tr style=\"text-align: right;\">\n",
       "      <th></th>\n",
       "      <th>givenName</th>\n",
       "      <th>familyName</th>\n",
       "      <th>congresses</th>\n",
       "      <th>profileText</th>\n",
       "      <th>jobPositions</th>\n",
       "      <th>state</th>\n",
       "    </tr>\n",
       "  </thead>\n",
       "  <tbody>\n",
       "    <tr>\n",
       "      <th>2107</th>\n",
       "      <td>Peter</td>\n",
       "      <td>Welch</td>\n",
       "      <td>[110, 111, 112, 113, 114, 115, 116, 117, 118]</td>\n",
       "      <td>A Representative from Vermont; born in Springf...</td>\n",
       "      <td>[{'job': {'name': 'Representative', 'jobType':...</td>\n",
       "      <td>VT</td>\n",
       "    </tr>\n",
       "  </tbody>\n",
       "</table>\n",
       "</div>"
      ],
      "text/plain": [
       "     givenName familyName                                     congresses  \\\n",
       "2107     Peter      Welch  [110, 111, 112, 113, 114, 115, 116, 117, 118]   \n",
       "\n",
       "                                            profileText  \\\n",
       "2107  A Representative from Vermont; born in Springf...   \n",
       "\n",
       "                                           jobPositions state  \n",
       "2107  [{'job': {'name': 'Representative', 'jobType':...    VT  "
      ]
     },
     "execution_count": 406,
     "metadata": {},
     "output_type": "execute_result"
    }
   ],
   "source": [
    "recentBios.loc[lambda x: (x.givenName == \"Peter\") & (x.familyName == \"Welch\")]"
   ]
  },
  {
   "cell_type": "markdown",
   "metadata": {},
   "source": [
    "I guess they didn't update him in the Congressional Bioguide when he replaced Patrick Leahy? Luckily, this is an easy fix: I'll just do what I did with that massive misencoded html bio from earlier."
   ]
  },
  {
   "cell_type": "code",
   "execution_count": 407,
   "metadata": {},
   "outputs": [
    {
     "data": {
      "text/plain": [
       "'A Representative from Vermont; born in Springfield, Hampden County, Mass., May 2, 1947; graduated from Cathedral High School, Springfield, Mass.; A.B., College of the Holy Cross, Worcester, Mass.; 1969; J.D., University of California, Berkeley, Calif., 1973; lawyer, private practice; member of the Vermont state senate, 1981-1989, 2002-2007, minority leader, 1983-1985, president pro tempore, 1985-1989, 2003-2007; unsuccessful candidate for nomination to the One Hundred First Congress in 1988; elected as a Democrat to the One Hundred Tenth and to the seven succeeding Congresses (January 3, 2007-January 3, 2023); was not a candidate for reelection to the House of Representatives but was elected as a Democrat to the United States Senate in 2022 for the term ending January 3, 2029.'"
      ]
     },
     "execution_count": 407,
     "metadata": {},
     "output_type": "execute_result"
    }
   ],
   "source": [
    "recentBios.loc[2107, \"profileText\"]"
   ]
  },
  {
   "cell_type": "markdown",
   "metadata": {},
   "source": [
    "They even note that he was elected as a Democrat to the Senate at the end of his bio! If I were less lazy, I'd rewrite some code to use \"elected as a x to the United States Senate,\" but I figure so many people get appointed that the way I'm doing it now is easier."
   ]
  },
  {
   "cell_type": "code",
   "execution_count": 408,
   "metadata": {},
   "outputs": [],
   "source": [
    "welchBio = (\n",
    "    \"A Senator and a Representative from Vermont; born in Springfield, Hampden County,\"\n",
    "    \" Mass., May 2, 1947; graduated from Cathedral High School, Springfield, Mass.;\"\n",
    "    \" A.B., College of the Holy Cross, Worcester, Mass.; 1969; J.D., University of\"\n",
    "    \" California, Berkeley, Calif., 1973; lawyer, private practice; member of the\"\n",
    "    \" Vermont state senate, 1981-1989, 2002-2007, minority leader, 1983-1985, president\"\n",
    "    \" pro tempore, 1985-1989, 2003-2007; unsuccessful candidate for nomination to the\"\n",
    "    \" One Hundred First Congress in 1988; elected as a Democrat to the One Hundred\"\n",
    "    \" Tenth and to the seven succeeding Congresses (January 3, 2007-January 3, 2023);\"\n",
    "    \" was not a candidate for reelection to the House of Representatives but was\"\n",
    "    \" elected as a Democrat to the United States Senate in 2022 for the term ending\"\n",
    "    \" January 3, 2029.\"\n",
    ")\n",
    "recentBios.loc[2107, \"profileText\"] = welchBio"
   ]
  },
  {
   "cell_type": "code",
   "execution_count": 409,
   "metadata": {},
   "outputs": [
    {
     "ename": "AttributeError",
     "evalue": "'DataFrame' object has no attribute 'state'",
     "output_type": "error",
     "traceback": [
      "\u001b[0;31m---------------------------------------------------------------------------\u001b[0m",
      "\u001b[0;31mAttributeError\u001b[0m                            Traceback (most recent call last)",
      "\u001b[0;32m/var/folders/j9/cgws7l217tl7gwgvk9x0ckf80000gn/T/ipykernel_63474/304930071.py\u001b[0m in \u001b[0;36m?\u001b[0;34m()\u001b[0m\n\u001b[1;32m      3\u001b[0m         \u001b[0mcurrentBios\u001b[0m\u001b[0;34m.\u001b[0m\u001b[0mprofileText\u001b[0m\u001b[0;34m.\u001b[0m\u001b[0mstr\u001b[0m\u001b[0;34m.\u001b[0m\u001b[0mlower\u001b[0m\u001b[0;34m(\u001b[0m\u001b[0;34m)\u001b[0m\u001b[0;34m.\u001b[0m\u001b[0mstr\u001b[0m\u001b[0;34m.\u001b[0m\u001b[0mcontains\u001b[0m\u001b[0;34m(\u001b[0m\u001b[0;34m\"a senator from\"\u001b[0m\u001b[0;34m)\u001b[0m\u001b[0;34m\u001b[0m\u001b[0;34m\u001b[0m\u001b[0m\n\u001b[1;32m      4\u001b[0m         \u001b[0;34m|\u001b[0m \u001b[0mcurrentBios\u001b[0m\u001b[0;34m.\u001b[0m\u001b[0mprofileText\u001b[0m\u001b[0;34m.\u001b[0m\u001b[0mstr\u001b[0m\u001b[0;34m.\u001b[0m\u001b[0mlower\u001b[0m\u001b[0;34m(\u001b[0m\u001b[0;34m)\u001b[0m\u001b[0;34m.\u001b[0m\u001b[0mstr\u001b[0m\u001b[0;34m.\u001b[0m\u001b[0mcontains\u001b[0m\u001b[0;34m(\u001b[0m\u001b[0;34m\"a senator and a represent\"\u001b[0m\u001b[0;34m)\u001b[0m\u001b[0;34m\u001b[0m\u001b[0;34m\u001b[0m\u001b[0m\n\u001b[1;32m      5\u001b[0m         \u001b[0;34m|\u001b[0m \u001b[0mcurrentBios\u001b[0m\u001b[0;34m.\u001b[0m\u001b[0mprofileText\u001b[0m\u001b[0;34m.\u001b[0m\u001b[0mstr\u001b[0m\u001b[0;34m.\u001b[0m\u001b[0mlower\u001b[0m\u001b[0;34m(\u001b[0m\u001b[0;34m)\u001b[0m\u001b[0;34m.\u001b[0m\u001b[0mstr\u001b[0m\u001b[0;34m.\u001b[0m\u001b[0mcontains\u001b[0m\u001b[0;34m(\u001b[0m\u001b[0;34m\"a senator and represent\"\u001b[0m\u001b[0;34m)\u001b[0m\u001b[0;34m\u001b[0m\u001b[0;34m\u001b[0m\u001b[0m\n\u001b[1;32m      6\u001b[0m     \u001b[0;34m)\u001b[0m\u001b[0;34m\u001b[0m\u001b[0;34m\u001b[0m\u001b[0m\n\u001b[0;32m----> 7\u001b[0;31m \u001b[0;34m]\u001b[0m\u001b[0;34m.\u001b[0m\u001b[0mstate\u001b[0m\u001b[0;34m.\u001b[0m\u001b[0mvalue_counts\u001b[0m\u001b[0;34m(\u001b[0m\u001b[0;34m)\u001b[0m\u001b[0;34m.\u001b[0m\u001b[0mloc\u001b[0m\u001b[0;34m[\u001b[0m\u001b[0;32mlambda\u001b[0m \u001b[0mx\u001b[0m\u001b[0;34m:\u001b[0m \u001b[0mx\u001b[0m \u001b[0;34m==\u001b[0m \u001b[0;36m1\u001b[0m\u001b[0;34m]\u001b[0m\u001b[0;34m\u001b[0m\u001b[0;34m\u001b[0m\u001b[0m\n\u001b[0m",
      "\u001b[0;32m~/uchicago/4.1-Autumn-2024/Data Viz/congress-project/.venv/lib/python3.12/site-packages/pandas/core/generic.py\u001b[0m in \u001b[0;36m?\u001b[0;34m(self, name)\u001b[0m\n\u001b[1;32m   6295\u001b[0m             \u001b[0;32mand\u001b[0m \u001b[0mname\u001b[0m \u001b[0;32mnot\u001b[0m \u001b[0;32min\u001b[0m \u001b[0mself\u001b[0m\u001b[0;34m.\u001b[0m\u001b[0m_accessors\u001b[0m\u001b[0;34m\u001b[0m\u001b[0;34m\u001b[0m\u001b[0m\n\u001b[1;32m   6296\u001b[0m             \u001b[0;32mand\u001b[0m \u001b[0mself\u001b[0m\u001b[0;34m.\u001b[0m\u001b[0m_info_axis\u001b[0m\u001b[0;34m.\u001b[0m\u001b[0m_can_hold_identifiers_and_holds_name\u001b[0m\u001b[0;34m(\u001b[0m\u001b[0mname\u001b[0m\u001b[0;34m)\u001b[0m\u001b[0;34m\u001b[0m\u001b[0;34m\u001b[0m\u001b[0m\n\u001b[1;32m   6297\u001b[0m         \u001b[0;34m)\u001b[0m\u001b[0;34m:\u001b[0m\u001b[0;34m\u001b[0m\u001b[0;34m\u001b[0m\u001b[0m\n\u001b[1;32m   6298\u001b[0m             \u001b[0;32mreturn\u001b[0m \u001b[0mself\u001b[0m\u001b[0;34m[\u001b[0m\u001b[0mname\u001b[0m\u001b[0;34m]\u001b[0m\u001b[0;34m\u001b[0m\u001b[0;34m\u001b[0m\u001b[0m\n\u001b[0;32m-> 6299\u001b[0;31m         \u001b[0;32mreturn\u001b[0m \u001b[0mobject\u001b[0m\u001b[0;34m.\u001b[0m\u001b[0m__getattribute__\u001b[0m\u001b[0;34m(\u001b[0m\u001b[0mself\u001b[0m\u001b[0;34m,\u001b[0m \u001b[0mname\u001b[0m\u001b[0;34m)\u001b[0m\u001b[0;34m\u001b[0m\u001b[0;34m\u001b[0m\u001b[0m\n\u001b[0m",
      "\u001b[0;31mAttributeError\u001b[0m: 'DataFrame' object has no attribute 'state'"
     ]
    }
   ],
   "source": [
    "currentBios.loc[\n",
    "    (\n",
    "        currentBios.profileText.str.lower().str.contains(\"a senator from\")\n",
    "        | currentBios.profileText.str.lower().str.contains(\"a senator and a represent\")\n",
    "        | currentBios.profileText.str.lower().str.contains(\"a senator and represent\")\n",
    "    )\n",
    "].state.value_counts().loc[lambda x: x == 1]"
   ]
  },
  {
   "cell_type": "markdown",
   "metadata": {},
   "source": [
    "Alright, that's VT down, now just Oklahoma and NC. My bet is that the same thing happened to Markwayne Mullin and Ted Budd."
   ]
  },
  {
   "cell_type": "code",
   "execution_count": 410,
   "metadata": {},
   "outputs": [
    {
     "ename": "AttributeError",
     "evalue": "'DataFrame' object has no attribute 'state'",
     "output_type": "error",
     "traceback": [
      "\u001b[0;31m---------------------------------------------------------------------------\u001b[0m",
      "\u001b[0;31mAttributeError\u001b[0m                            Traceback (most recent call last)",
      "\u001b[0;32m/var/folders/j9/cgws7l217tl7gwgvk9x0ckf80000gn/T/ipykernel_63474/105179185.py\u001b[0m in \u001b[0;36m?\u001b[0;34m()\u001b[0m\n\u001b[0;32m----> 1\u001b[0;31m currentBios.loc[\n\u001b[0m\u001b[1;32m      2\u001b[0m     (\n\u001b[1;32m      3\u001b[0m         \u001b[0mcurrentBios\u001b[0m\u001b[0;34m.\u001b[0m\u001b[0mprofileText\u001b[0m\u001b[0;34m.\u001b[0m\u001b[0mstr\u001b[0m\u001b[0;34m.\u001b[0m\u001b[0mlower\u001b[0m\u001b[0;34m(\u001b[0m\u001b[0;34m)\u001b[0m\u001b[0;34m.\u001b[0m\u001b[0mstr\u001b[0m\u001b[0;34m.\u001b[0m\u001b[0mcontains\u001b[0m\u001b[0;34m(\u001b[0m\u001b[0;34m\"a senator from\"\u001b[0m\u001b[0;34m)\u001b[0m\u001b[0;34m\u001b[0m\u001b[0;34m\u001b[0m\u001b[0m\n\u001b[1;32m      4\u001b[0m         \u001b[0;34m|\u001b[0m \u001b[0mcurrentBios\u001b[0m\u001b[0;34m.\u001b[0m\u001b[0mprofileText\u001b[0m\u001b[0;34m.\u001b[0m\u001b[0mstr\u001b[0m\u001b[0;34m.\u001b[0m\u001b[0mlower\u001b[0m\u001b[0;34m(\u001b[0m\u001b[0;34m)\u001b[0m\u001b[0;34m.\u001b[0m\u001b[0mstr\u001b[0m\u001b[0;34m.\u001b[0m\u001b[0mcontains\u001b[0m\u001b[0;34m(\u001b[0m\u001b[0;34m\"a senator and a represent\"\u001b[0m\u001b[0;34m)\u001b[0m\u001b[0;34m\u001b[0m\u001b[0;34m\u001b[0m\u001b[0m\n",
      "\u001b[0;32m~/uchicago/4.1-Autumn-2024/Data Viz/congress-project/.venv/lib/python3.12/site-packages/pandas/core/indexing.py\u001b[0m in \u001b[0;36m?\u001b[0;34m(self, key)\u001b[0m\n\u001b[1;32m   1185\u001b[0m         \u001b[0;32melse\u001b[0m\u001b[0;34m:\u001b[0m\u001b[0;34m\u001b[0m\u001b[0;34m\u001b[0m\u001b[0m\n\u001b[1;32m   1186\u001b[0m             \u001b[0;31m# we by definition only have the 0th axis\u001b[0m\u001b[0;34m\u001b[0m\u001b[0;34m\u001b[0m\u001b[0m\n\u001b[1;32m   1187\u001b[0m             \u001b[0maxis\u001b[0m \u001b[0;34m=\u001b[0m \u001b[0mself\u001b[0m\u001b[0;34m.\u001b[0m\u001b[0maxis\u001b[0m \u001b[0;32mor\u001b[0m \u001b[0;36m0\u001b[0m\u001b[0;34m\u001b[0m\u001b[0;34m\u001b[0m\u001b[0m\n\u001b[1;32m   1188\u001b[0m \u001b[0;34m\u001b[0m\u001b[0m\n\u001b[0;32m-> 1189\u001b[0;31m             \u001b[0mmaybe_callable\u001b[0m \u001b[0;34m=\u001b[0m \u001b[0mcom\u001b[0m\u001b[0;34m.\u001b[0m\u001b[0mapply_if_callable\u001b[0m\u001b[0;34m(\u001b[0m\u001b[0mkey\u001b[0m\u001b[0;34m,\u001b[0m \u001b[0mself\u001b[0m\u001b[0;34m.\u001b[0m\u001b[0mobj\u001b[0m\u001b[0;34m)\u001b[0m\u001b[0;34m\u001b[0m\u001b[0;34m\u001b[0m\u001b[0m\n\u001b[0m\u001b[1;32m   1190\u001b[0m             \u001b[0mmaybe_callable\u001b[0m \u001b[0;34m=\u001b[0m \u001b[0mself\u001b[0m\u001b[0;34m.\u001b[0m\u001b[0m_check_deprecated_callable_usage\u001b[0m\u001b[0;34m(\u001b[0m\u001b[0mkey\u001b[0m\u001b[0;34m,\u001b[0m \u001b[0mmaybe_callable\u001b[0m\u001b[0;34m)\u001b[0m\u001b[0;34m\u001b[0m\u001b[0;34m\u001b[0m\u001b[0m\n\u001b[1;32m   1191\u001b[0m             \u001b[0;32mreturn\u001b[0m \u001b[0mself\u001b[0m\u001b[0;34m.\u001b[0m\u001b[0m_getitem_axis\u001b[0m\u001b[0;34m(\u001b[0m\u001b[0mmaybe_callable\u001b[0m\u001b[0;34m,\u001b[0m \u001b[0maxis\u001b[0m\u001b[0;34m=\u001b[0m\u001b[0maxis\u001b[0m\u001b[0;34m)\u001b[0m\u001b[0;34m\u001b[0m\u001b[0;34m\u001b[0m\u001b[0m\n",
      "\u001b[0;32m~/uchicago/4.1-Autumn-2024/Data Viz/congress-project/.venv/lib/python3.12/site-packages/pandas/core/common.py\u001b[0m in \u001b[0;36m?\u001b[0;34m(maybe_callable, obj, **kwargs)\u001b[0m\n\u001b[1;32m    380\u001b[0m     \u001b[0mobj\u001b[0m \u001b[0;34m:\u001b[0m \u001b[0mNDFrame\u001b[0m\u001b[0;34m\u001b[0m\u001b[0;34m\u001b[0m\u001b[0m\n\u001b[1;32m    381\u001b[0m     \u001b[0;34m**\u001b[0m\u001b[0mkwargs\u001b[0m\u001b[0;34m\u001b[0m\u001b[0;34m\u001b[0m\u001b[0m\n\u001b[1;32m    382\u001b[0m     \"\"\"\n\u001b[1;32m    383\u001b[0m     \u001b[0;32mif\u001b[0m \u001b[0mcallable\u001b[0m\u001b[0;34m(\u001b[0m\u001b[0mmaybe_callable\u001b[0m\u001b[0;34m)\u001b[0m\u001b[0;34m:\u001b[0m\u001b[0;34m\u001b[0m\u001b[0;34m\u001b[0m\u001b[0m\n\u001b[0;32m--> 384\u001b[0;31m         \u001b[0;32mreturn\u001b[0m \u001b[0mmaybe_callable\u001b[0m\u001b[0;34m(\u001b[0m\u001b[0mobj\u001b[0m\u001b[0;34m,\u001b[0m \u001b[0;34m**\u001b[0m\u001b[0mkwargs\u001b[0m\u001b[0;34m)\u001b[0m\u001b[0;34m\u001b[0m\u001b[0;34m\u001b[0m\u001b[0m\n\u001b[0m\u001b[1;32m    385\u001b[0m \u001b[0;34m\u001b[0m\u001b[0m\n\u001b[1;32m    386\u001b[0m     \u001b[0;32mreturn\u001b[0m \u001b[0mmaybe_callable\u001b[0m\u001b[0;34m\u001b[0m\u001b[0;34m\u001b[0m\u001b[0m\n",
      "\u001b[0;32m/var/folders/j9/cgws7l217tl7gwgvk9x0ckf80000gn/T/ipykernel_63474/105179185.py\u001b[0m in \u001b[0;36m?\u001b[0;34m(x)\u001b[0m\n\u001b[0;32m----> 7\u001b[0;31m \u001b[0;34m]\u001b[0m\u001b[0;34m.\u001b[0m\u001b[0mloc\u001b[0m\u001b[0;34m[\u001b[0m\u001b[0;32mlambda\u001b[0m \u001b[0mx\u001b[0m\u001b[0;34m:\u001b[0m \u001b[0;34m(\u001b[0m\u001b[0mx\u001b[0m\u001b[0;34m.\u001b[0m\u001b[0mstate\u001b[0m \u001b[0;34m==\u001b[0m \u001b[0;34m\"OK\"\u001b[0m\u001b[0;34m)\u001b[0m \u001b[0;34m|\u001b[0m \u001b[0;34m(\u001b[0m\u001b[0mx\u001b[0m\u001b[0;34m.\u001b[0m\u001b[0mstate\u001b[0m \u001b[0;34m==\u001b[0m \u001b[0;34m\"NC\"\u001b[0m\u001b[0;34m)\u001b[0m\u001b[0;34m]\u001b[0m\u001b[0;34m\u001b[0m\u001b[0;34m\u001b[0m\u001b[0m\n\u001b[0m",
      "\u001b[0;32m~/uchicago/4.1-Autumn-2024/Data Viz/congress-project/.venv/lib/python3.12/site-packages/pandas/core/generic.py\u001b[0m in \u001b[0;36m?\u001b[0;34m(self, name)\u001b[0m\n\u001b[1;32m   6295\u001b[0m             \u001b[0;32mand\u001b[0m \u001b[0mname\u001b[0m \u001b[0;32mnot\u001b[0m \u001b[0;32min\u001b[0m \u001b[0mself\u001b[0m\u001b[0;34m.\u001b[0m\u001b[0m_accessors\u001b[0m\u001b[0;34m\u001b[0m\u001b[0;34m\u001b[0m\u001b[0m\n\u001b[1;32m   6296\u001b[0m             \u001b[0;32mand\u001b[0m \u001b[0mself\u001b[0m\u001b[0;34m.\u001b[0m\u001b[0m_info_axis\u001b[0m\u001b[0;34m.\u001b[0m\u001b[0m_can_hold_identifiers_and_holds_name\u001b[0m\u001b[0;34m(\u001b[0m\u001b[0mname\u001b[0m\u001b[0;34m)\u001b[0m\u001b[0;34m\u001b[0m\u001b[0;34m\u001b[0m\u001b[0m\n\u001b[1;32m   6297\u001b[0m         \u001b[0;34m)\u001b[0m\u001b[0;34m:\u001b[0m\u001b[0;34m\u001b[0m\u001b[0;34m\u001b[0m\u001b[0m\n\u001b[1;32m   6298\u001b[0m             \u001b[0;32mreturn\u001b[0m \u001b[0mself\u001b[0m\u001b[0;34m[\u001b[0m\u001b[0mname\u001b[0m\u001b[0;34m]\u001b[0m\u001b[0;34m\u001b[0m\u001b[0;34m\u001b[0m\u001b[0m\n\u001b[0;32m-> 6299\u001b[0;31m         \u001b[0;32mreturn\u001b[0m \u001b[0mobject\u001b[0m\u001b[0;34m.\u001b[0m\u001b[0m__getattribute__\u001b[0m\u001b[0;34m(\u001b[0m\u001b[0mself\u001b[0m\u001b[0;34m,\u001b[0m \u001b[0mname\u001b[0m\u001b[0;34m)\u001b[0m\u001b[0;34m\u001b[0m\u001b[0;34m\u001b[0m\u001b[0m\n\u001b[0m",
      "\u001b[0;31mAttributeError\u001b[0m: 'DataFrame' object has no attribute 'state'"
     ]
    }
   ],
   "source": [
    "currentBios.loc[\n",
    "    (\n",
    "        currentBios.profileText.str.lower().str.contains(\"a senator from\")\n",
    "        | currentBios.profileText.str.lower().str.contains(\"a senator and a represent\")\n",
    "        | currentBios.profileText.str.lower().str.contains(\"a senator and represent\")\n",
    "    )\n",
    "].loc[lambda x: (x.state == \"OK\") | (x.state == \"NC\")]"
   ]
  },
  {
   "cell_type": "markdown",
   "metadata": {},
   "source": [
    "Yep, my hunch was right."
   ]
  },
  {
   "cell_type": "code",
   "execution_count": 411,
   "metadata": {},
   "outputs": [
    {
     "data": {
      "text/html": [
       "<div>\n",
       "<style scoped>\n",
       "    .dataframe tbody tr th:only-of-type {\n",
       "        vertical-align: middle;\n",
       "    }\n",
       "\n",
       "    .dataframe tbody tr th {\n",
       "        vertical-align: top;\n",
       "    }\n",
       "\n",
       "    .dataframe thead th {\n",
       "        text-align: right;\n",
       "    }\n",
       "</style>\n",
       "<table border=\"1\" class=\"dataframe\">\n",
       "  <thead>\n",
       "    <tr style=\"text-align: right;\">\n",
       "      <th></th>\n",
       "      <th>givenName</th>\n",
       "      <th>familyName</th>\n",
       "      <th>congresses</th>\n",
       "      <th>profileText</th>\n",
       "      <th>jobPositions</th>\n",
       "      <th>state</th>\n",
       "    </tr>\n",
       "  </thead>\n",
       "  <tbody>\n",
       "    <tr>\n",
       "      <th>11757</th>\n",
       "      <td>Markwayne</td>\n",
       "      <td>Mullin</td>\n",
       "      <td>[113, 114, 115, 116, 117, 118]</td>\n",
       "      <td>a Representative from Oklahoma; born in Tulsa,...</td>\n",
       "      <td>[{'job': {'name': 'Representative', 'jobType':...</td>\n",
       "      <td>OK</td>\n",
       "    </tr>\n",
       "  </tbody>\n",
       "</table>\n",
       "</div>"
      ],
      "text/plain": [
       "       givenName familyName                      congresses  \\\n",
       "11757  Markwayne     Mullin  [113, 114, 115, 116, 117, 118]   \n",
       "\n",
       "                                             profileText  \\\n",
       "11757  a Representative from Oklahoma; born in Tulsa,...   \n",
       "\n",
       "                                            jobPositions state  \n",
       "11757  [{'job': {'name': 'Representative', 'jobType':...    OK  "
      ]
     },
     "metadata": {},
     "output_type": "display_data"
    },
    {
     "data": {
      "text/html": [
       "<div>\n",
       "<style scoped>\n",
       "    .dataframe tbody tr th:only-of-type {\n",
       "        vertical-align: middle;\n",
       "    }\n",
       "\n",
       "    .dataframe tbody tr th {\n",
       "        vertical-align: top;\n",
       "    }\n",
       "\n",
       "    .dataframe thead th {\n",
       "        text-align: right;\n",
       "    }\n",
       "</style>\n",
       "<table border=\"1\" class=\"dataframe\">\n",
       "  <thead>\n",
       "    <tr style=\"text-align: right;\">\n",
       "      <th></th>\n",
       "      <th>givenName</th>\n",
       "      <th>familyName</th>\n",
       "      <th>congresses</th>\n",
       "      <th>profileText</th>\n",
       "      <th>jobPositions</th>\n",
       "      <th>state</th>\n",
       "    </tr>\n",
       "  </thead>\n",
       "  <tbody>\n",
       "    <tr>\n",
       "      <th>11757</th>\n",
       "      <td>Markwayne</td>\n",
       "      <td>Mullin</td>\n",
       "      <td>[113, 114, 115, 116, 117, 118]</td>\n",
       "      <td>a Senator and a Representative from Oklahoma; ...</td>\n",
       "      <td>[{'job': {'name': 'Representative', 'jobType':...</td>\n",
       "      <td>OK</td>\n",
       "    </tr>\n",
       "  </tbody>\n",
       "</table>\n",
       "</div>"
      ],
      "text/plain": [
       "       givenName familyName                      congresses  \\\n",
       "11757  Markwayne     Mullin  [113, 114, 115, 116, 117, 118]   \n",
       "\n",
       "                                             profileText  \\\n",
       "11757  a Senator and a Representative from Oklahoma; ...   \n",
       "\n",
       "                                            jobPositions state  \n",
       "11757  [{'job': {'name': 'Representative', 'jobType':...    OK  "
      ]
     },
     "metadata": {},
     "output_type": "display_data"
    }
   ],
   "source": [
    "display(\n",
    "    recentBios.loc[lambda x: (x.givenName == \"Markwayne\") & (x.familyName == \"Mullin\")]\n",
    ")\n",
    "recentBios.loc[11757, \"profileText\"] = recentBios.loc[11757, \"profileText\"].replace(\n",
    "    \"a Representative from\", \"a Senator and a Representative from\"\n",
    ")\n",
    "\n",
    "display(\n",
    "    recentBios.loc[lambda x: (x.givenName == \"Markwayne\") & (x.familyName == \"Mullin\")]\n",
    ")"
   ]
  },
  {
   "cell_type": "code",
   "execution_count": 412,
   "metadata": {},
   "outputs": [
    {
     "data": {
      "text/html": [
       "<div>\n",
       "<style scoped>\n",
       "    .dataframe tbody tr th:only-of-type {\n",
       "        vertical-align: middle;\n",
       "    }\n",
       "\n",
       "    .dataframe tbody tr th {\n",
       "        vertical-align: top;\n",
       "    }\n",
       "\n",
       "    .dataframe thead th {\n",
       "        text-align: right;\n",
       "    }\n",
       "</style>\n",
       "<table border=\"1\" class=\"dataframe\">\n",
       "  <thead>\n",
       "    <tr style=\"text-align: right;\">\n",
       "      <th></th>\n",
       "      <th>givenName</th>\n",
       "      <th>familyName</th>\n",
       "      <th>congresses</th>\n",
       "      <th>profileText</th>\n",
       "      <th>jobPositions</th>\n",
       "      <th>state</th>\n",
       "    </tr>\n",
       "  </thead>\n",
       "  <tbody>\n",
       "    <tr>\n",
       "      <th>9656</th>\n",
       "      <td>Theodore</td>\n",
       "      <td>Budd</td>\n",
       "      <td>[115, 116, 117, 118]</td>\n",
       "      <td>a Representative from North Carolina; born in ...</td>\n",
       "      <td>[{'job': {'name': 'Representative', 'jobType':...</td>\n",
       "      <td>NC</td>\n",
       "    </tr>\n",
       "  </tbody>\n",
       "</table>\n",
       "</div>"
      ],
      "text/plain": [
       "     givenName familyName            congresses  \\\n",
       "9656  Theodore       Budd  [115, 116, 117, 118]   \n",
       "\n",
       "                                            profileText  \\\n",
       "9656  a Representative from North Carolina; born in ...   \n",
       "\n",
       "                                           jobPositions state  \n",
       "9656  [{'job': {'name': 'Representative', 'jobType':...    NC  "
      ]
     },
     "metadata": {},
     "output_type": "display_data"
    },
    {
     "data": {
      "text/html": [
       "<div>\n",
       "<style scoped>\n",
       "    .dataframe tbody tr th:only-of-type {\n",
       "        vertical-align: middle;\n",
       "    }\n",
       "\n",
       "    .dataframe tbody tr th {\n",
       "        vertical-align: top;\n",
       "    }\n",
       "\n",
       "    .dataframe thead th {\n",
       "        text-align: right;\n",
       "    }\n",
       "</style>\n",
       "<table border=\"1\" class=\"dataframe\">\n",
       "  <thead>\n",
       "    <tr style=\"text-align: right;\">\n",
       "      <th></th>\n",
       "      <th>givenName</th>\n",
       "      <th>familyName</th>\n",
       "      <th>congresses</th>\n",
       "      <th>profileText</th>\n",
       "      <th>jobPositions</th>\n",
       "      <th>state</th>\n",
       "    </tr>\n",
       "  </thead>\n",
       "  <tbody>\n",
       "    <tr>\n",
       "      <th>9656</th>\n",
       "      <td>Theodore</td>\n",
       "      <td>Budd</td>\n",
       "      <td>[115, 116, 117, 118]</td>\n",
       "      <td>a Senator and a Representative from North Caro...</td>\n",
       "      <td>[{'job': {'name': 'Representative', 'jobType':...</td>\n",
       "      <td>NC</td>\n",
       "    </tr>\n",
       "  </tbody>\n",
       "</table>\n",
       "</div>"
      ],
      "text/plain": [
       "     givenName familyName            congresses  \\\n",
       "9656  Theodore       Budd  [115, 116, 117, 118]   \n",
       "\n",
       "                                            profileText  \\\n",
       "9656  a Senator and a Representative from North Caro...   \n",
       "\n",
       "                                           jobPositions state  \n",
       "9656  [{'job': {'name': 'Representative', 'jobType':...    NC  "
      ]
     },
     "metadata": {},
     "output_type": "display_data"
    }
   ],
   "source": [
    "display(\n",
    "    recentBios.loc[lambda x: (x.givenName == \"Theodore\") & (x.familyName == \"Budd\")]\n",
    ")\n",
    "recentBios.loc[9656, \"profileText\"] = recentBios.loc[9656, \"profileText\"].replace(\n",
    "    \"a Representative from\", \"a Senator and a Representative from\"\n",
    ")\n",
    "\n",
    "display(\n",
    "    recentBios.loc[lambda x: (x.givenName == \"Theodore\") & (x.familyName == \"Budd\")]\n",
    ")"
   ]
  },
  {
   "cell_type": "code",
   "execution_count": 413,
   "metadata": {},
   "outputs": [
    {
     "ename": "AttributeError",
     "evalue": "'DataFrame' object has no attribute 'state'",
     "output_type": "error",
     "traceback": [
      "\u001b[0;31m---------------------------------------------------------------------------\u001b[0m",
      "\u001b[0;31mAttributeError\u001b[0m                            Traceback (most recent call last)",
      "\u001b[0;32m/var/folders/j9/cgws7l217tl7gwgvk9x0ckf80000gn/T/ipykernel_63474/304930071.py\u001b[0m in \u001b[0;36m?\u001b[0;34m()\u001b[0m\n\u001b[1;32m      3\u001b[0m         \u001b[0mcurrentBios\u001b[0m\u001b[0;34m.\u001b[0m\u001b[0mprofileText\u001b[0m\u001b[0;34m.\u001b[0m\u001b[0mstr\u001b[0m\u001b[0;34m.\u001b[0m\u001b[0mlower\u001b[0m\u001b[0;34m(\u001b[0m\u001b[0;34m)\u001b[0m\u001b[0;34m.\u001b[0m\u001b[0mstr\u001b[0m\u001b[0;34m.\u001b[0m\u001b[0mcontains\u001b[0m\u001b[0;34m(\u001b[0m\u001b[0;34m\"a senator from\"\u001b[0m\u001b[0;34m)\u001b[0m\u001b[0;34m\u001b[0m\u001b[0;34m\u001b[0m\u001b[0m\n\u001b[1;32m      4\u001b[0m         \u001b[0;34m|\u001b[0m \u001b[0mcurrentBios\u001b[0m\u001b[0;34m.\u001b[0m\u001b[0mprofileText\u001b[0m\u001b[0;34m.\u001b[0m\u001b[0mstr\u001b[0m\u001b[0;34m.\u001b[0m\u001b[0mlower\u001b[0m\u001b[0;34m(\u001b[0m\u001b[0;34m)\u001b[0m\u001b[0;34m.\u001b[0m\u001b[0mstr\u001b[0m\u001b[0;34m.\u001b[0m\u001b[0mcontains\u001b[0m\u001b[0;34m(\u001b[0m\u001b[0;34m\"a senator and a represent\"\u001b[0m\u001b[0;34m)\u001b[0m\u001b[0;34m\u001b[0m\u001b[0;34m\u001b[0m\u001b[0m\n\u001b[1;32m      5\u001b[0m         \u001b[0;34m|\u001b[0m \u001b[0mcurrentBios\u001b[0m\u001b[0;34m.\u001b[0m\u001b[0mprofileText\u001b[0m\u001b[0;34m.\u001b[0m\u001b[0mstr\u001b[0m\u001b[0;34m.\u001b[0m\u001b[0mlower\u001b[0m\u001b[0;34m(\u001b[0m\u001b[0;34m)\u001b[0m\u001b[0;34m.\u001b[0m\u001b[0mstr\u001b[0m\u001b[0;34m.\u001b[0m\u001b[0mcontains\u001b[0m\u001b[0;34m(\u001b[0m\u001b[0;34m\"a senator and represent\"\u001b[0m\u001b[0;34m)\u001b[0m\u001b[0;34m\u001b[0m\u001b[0;34m\u001b[0m\u001b[0m\n\u001b[1;32m      6\u001b[0m     \u001b[0;34m)\u001b[0m\u001b[0;34m\u001b[0m\u001b[0;34m\u001b[0m\u001b[0m\n\u001b[0;32m----> 7\u001b[0;31m \u001b[0;34m]\u001b[0m\u001b[0;34m.\u001b[0m\u001b[0mstate\u001b[0m\u001b[0;34m.\u001b[0m\u001b[0mvalue_counts\u001b[0m\u001b[0;34m(\u001b[0m\u001b[0;34m)\u001b[0m\u001b[0;34m.\u001b[0m\u001b[0mloc\u001b[0m\u001b[0;34m[\u001b[0m\u001b[0;32mlambda\u001b[0m \u001b[0mx\u001b[0m\u001b[0;34m:\u001b[0m \u001b[0mx\u001b[0m \u001b[0;34m==\u001b[0m \u001b[0;36m1\u001b[0m\u001b[0;34m]\u001b[0m\u001b[0;34m\u001b[0m\u001b[0;34m\u001b[0m\u001b[0m\n\u001b[0m",
      "\u001b[0;32m~/uchicago/4.1-Autumn-2024/Data Viz/congress-project/.venv/lib/python3.12/site-packages/pandas/core/generic.py\u001b[0m in \u001b[0;36m?\u001b[0;34m(self, name)\u001b[0m\n\u001b[1;32m   6295\u001b[0m             \u001b[0;32mand\u001b[0m \u001b[0mname\u001b[0m \u001b[0;32mnot\u001b[0m \u001b[0;32min\u001b[0m \u001b[0mself\u001b[0m\u001b[0;34m.\u001b[0m\u001b[0m_accessors\u001b[0m\u001b[0;34m\u001b[0m\u001b[0;34m\u001b[0m\u001b[0m\n\u001b[1;32m   6296\u001b[0m             \u001b[0;32mand\u001b[0m \u001b[0mself\u001b[0m\u001b[0;34m.\u001b[0m\u001b[0m_info_axis\u001b[0m\u001b[0;34m.\u001b[0m\u001b[0m_can_hold_identifiers_and_holds_name\u001b[0m\u001b[0;34m(\u001b[0m\u001b[0mname\u001b[0m\u001b[0;34m)\u001b[0m\u001b[0;34m\u001b[0m\u001b[0;34m\u001b[0m\u001b[0m\n\u001b[1;32m   6297\u001b[0m         \u001b[0;34m)\u001b[0m\u001b[0;34m:\u001b[0m\u001b[0;34m\u001b[0m\u001b[0;34m\u001b[0m\u001b[0m\n\u001b[1;32m   6298\u001b[0m             \u001b[0;32mreturn\u001b[0m \u001b[0mself\u001b[0m\u001b[0;34m[\u001b[0m\u001b[0mname\u001b[0m\u001b[0;34m]\u001b[0m\u001b[0;34m\u001b[0m\u001b[0;34m\u001b[0m\u001b[0m\n\u001b[0;32m-> 6299\u001b[0;31m         \u001b[0;32mreturn\u001b[0m \u001b[0mobject\u001b[0m\u001b[0;34m.\u001b[0m\u001b[0m__getattribute__\u001b[0m\u001b[0;34m(\u001b[0m\u001b[0mself\u001b[0m\u001b[0;34m,\u001b[0m \u001b[0mname\u001b[0m\u001b[0;34m)\u001b[0m\u001b[0;34m\u001b[0m\u001b[0;34m\u001b[0m\u001b[0m\n\u001b[0m",
      "\u001b[0;31mAttributeError\u001b[0m: 'DataFrame' object has no attribute 'state'"
     ]
    }
   ],
   "source": [
    "currentBios.loc[\n",
    "    (\n",
    "        currentBios.profileText.str.lower().str.contains(\"a senator from\")\n",
    "        | currentBios.profileText.str.lower().str.contains(\"a senator and a represent\")\n",
    "        | currentBios.profileText.str.lower().str.contains(\"a senator and represent\")\n",
    "    )\n",
    "].state.value_counts().loc[lambda x: x == 1]"
   ]
  },
  {
   "cell_type": "markdown",
   "metadata": {},
   "source": [
    "Alright, now we can easily flag everyone who was a senator in the 118th congress! Let's make an indicator real quick:"
   ]
  },
  {
   "cell_type": "code",
   "execution_count": 414,
   "metadata": {},
   "outputs": [
    {
     "name": "stderr",
     "output_type": "stream",
     "text": [
      "/var/folders/j9/cgws7l217tl7gwgvk9x0ckf80000gn/T/ipykernel_63474/820753479.py:1: SettingWithCopyWarning: \n",
      "A value is trying to be set on a copy of a slice from a DataFrame.\n",
      "Try using .loc[row_indexer,col_indexer] = value instead\n",
      "\n",
      "See the caveats in the documentation: https://pandas.pydata.org/pandas-docs/stable/user_guide/indexing.html#returning-a-view-versus-a-copy\n",
      "  currentBios[\"senator\"] = (\n"
     ]
    }
   ],
   "source": [
    "currentBios[\"senator\"] = (\n",
    "    currentBios.profileText.str.lower().str.contains(\"a senator from\")\n",
    "    | currentBios.profileText.str.lower().str.contains(\"a senator and a represent\")\n",
    "    | currentBios.profileText.str.lower().str.contains(\"a senator and represent\")\n",
    ").astype(bool)"
   ]
  },
  {
   "cell_type": "markdown",
   "metadata": {},
   "source": [
    "### Checking representatives"
   ]
  },
  {
   "cell_type": "code",
   "execution_count": 415,
   "metadata": {},
   "outputs": [
    {
     "data": {
      "text/plain": [
       "np.int64(444)"
      ]
     },
     "execution_count": 415,
     "metadata": {},
     "output_type": "execute_result"
    }
   ],
   "source": [
    "currentBios.senator.apply(lambda x: not x).sum()"
   ]
  },
  {
   "cell_type": "markdown",
   "metadata": {},
   "source": [
    "Okay, this is what I expected! There are, after all, [6 non-voting members of the House of Representatives](https://en.wikipedia.org/wiki/Non-voting_members_of_the_United_States_House_of_Representatives), and 435 = 441 - 6. I don't really care about the non-voting members, though (no offense), so I'll be dropping them (as well as making sure each state has the correct number of reps).\n",
    "\n",
    "I might want to write a more robust script to handle Congresses before 1960 (i.e. more robust \"was this state a state at the time\" handling), but that isn't a problem right now."
   ]
  },
  {
   "cell_type": "code",
   "execution_count": 416,
   "metadata": {},
   "outputs": [
    {
     "ename": "AttributeError",
     "evalue": "'DataFrame' object has no attribute 'state'",
     "output_type": "error",
     "traceback": [
      "\u001b[0;31m---------------------------------------------------------------------------\u001b[0m",
      "\u001b[0;31mAttributeError\u001b[0m                            Traceback (most recent call last)",
      "\u001b[0;32m/var/folders/j9/cgws7l217tl7gwgvk9x0ckf80000gn/T/ipykernel_63474/2347573852.py\u001b[0m in \u001b[0;36m?\u001b[0;34m()\u001b[0m\n\u001b[0;32m----> 1\u001b[0;31m \u001b[0mcurrentBios\u001b[0m\u001b[0;34m.\u001b[0m\u001b[0mloc\u001b[0m\u001b[0;34m[\u001b[0m\u001b[0mcurrentBios\u001b[0m\u001b[0;34m.\u001b[0m\u001b[0msenator\u001b[0m\u001b[0;34m.\u001b[0m\u001b[0mapply\u001b[0m\u001b[0;34m(\u001b[0m\u001b[0;32mlambda\u001b[0m \u001b[0mx\u001b[0m\u001b[0;34m:\u001b[0m \u001b[0;32mnot\u001b[0m \u001b[0mx\u001b[0m\u001b[0;34m)\u001b[0m \u001b[0;34m&\u001b[0m \u001b[0mcurrentBios\u001b[0m\u001b[0;34m.\u001b[0m\u001b[0mstate\u001b[0m\u001b[0;34m.\u001b[0m\u001b[0misna\u001b[0m\u001b[0;34m(\u001b[0m\u001b[0;34m)\u001b[0m\u001b[0;34m]\u001b[0m\u001b[0;34m\u001b[0m\u001b[0;34m\u001b[0m\u001b[0m\n\u001b[0m",
      "\u001b[0;32m~/uchicago/4.1-Autumn-2024/Data Viz/congress-project/.venv/lib/python3.12/site-packages/pandas/core/generic.py\u001b[0m in \u001b[0;36m?\u001b[0;34m(self, name)\u001b[0m\n\u001b[1;32m   6295\u001b[0m             \u001b[0;32mand\u001b[0m \u001b[0mname\u001b[0m \u001b[0;32mnot\u001b[0m \u001b[0;32min\u001b[0m \u001b[0mself\u001b[0m\u001b[0;34m.\u001b[0m\u001b[0m_accessors\u001b[0m\u001b[0;34m\u001b[0m\u001b[0;34m\u001b[0m\u001b[0m\n\u001b[1;32m   6296\u001b[0m             \u001b[0;32mand\u001b[0m \u001b[0mself\u001b[0m\u001b[0;34m.\u001b[0m\u001b[0m_info_axis\u001b[0m\u001b[0;34m.\u001b[0m\u001b[0m_can_hold_identifiers_and_holds_name\u001b[0m\u001b[0;34m(\u001b[0m\u001b[0mname\u001b[0m\u001b[0;34m)\u001b[0m\u001b[0;34m\u001b[0m\u001b[0;34m\u001b[0m\u001b[0m\n\u001b[1;32m   6297\u001b[0m         \u001b[0;34m)\u001b[0m\u001b[0;34m:\u001b[0m\u001b[0;34m\u001b[0m\u001b[0;34m\u001b[0m\u001b[0m\n\u001b[1;32m   6298\u001b[0m             \u001b[0;32mreturn\u001b[0m \u001b[0mself\u001b[0m\u001b[0;34m[\u001b[0m\u001b[0mname\u001b[0m\u001b[0;34m]\u001b[0m\u001b[0;34m\u001b[0m\u001b[0;34m\u001b[0m\u001b[0m\n\u001b[0;32m-> 6299\u001b[0;31m         \u001b[0;32mreturn\u001b[0m \u001b[0mobject\u001b[0m\u001b[0;34m.\u001b[0m\u001b[0m__getattribute__\u001b[0m\u001b[0;34m(\u001b[0m\u001b[0mself\u001b[0m\u001b[0;34m,\u001b[0m \u001b[0mname\u001b[0m\u001b[0;34m)\u001b[0m\u001b[0;34m\u001b[0m\u001b[0;34m\u001b[0m\u001b[0m\n\u001b[0m",
      "\u001b[0;31mAttributeError\u001b[0m: 'DataFrame' object has no attribute 'state'"
     ]
    }
   ],
   "source": [
    "currentBios.loc[currentBios.senator.apply(lambda x: not x) & currentBios.state.isna()]"
   ]
  },
  {
   "cell_type": "code",
   "execution_count": 417,
   "metadata": {},
   "outputs": [
    {
     "ename": "AttributeError",
     "evalue": "'DataFrame' object has no attribute 'state'",
     "output_type": "error",
     "traceback": [
      "\u001b[0;31m---------------------------------------------------------------------------\u001b[0m",
      "\u001b[0;31mAttributeError\u001b[0m                            Traceback (most recent call last)",
      "\u001b[0;32m/var/folders/j9/cgws7l217tl7gwgvk9x0ckf80000gn/T/ipykernel_63474/884963755.py\u001b[0m in \u001b[0;36m?\u001b[0;34m()\u001b[0m\n\u001b[1;32m      1\u001b[0m currentBios.drop(\n\u001b[1;32m      2\u001b[0m     currentBios.loc[\n\u001b[0;32m----> 3\u001b[0;31m         \u001b[0mcurrentBios\u001b[0m\u001b[0;34m.\u001b[0m\u001b[0msenator\u001b[0m\u001b[0;34m.\u001b[0m\u001b[0mapply\u001b[0m\u001b[0;34m(\u001b[0m\u001b[0;32mlambda\u001b[0m \u001b[0mx\u001b[0m\u001b[0;34m:\u001b[0m \u001b[0;32mnot\u001b[0m \u001b[0mx\u001b[0m\u001b[0;34m)\u001b[0m \u001b[0;34m&\u001b[0m \u001b[0mcurrentBios\u001b[0m\u001b[0;34m.\u001b[0m\u001b[0mstate\u001b[0m\u001b[0;34m.\u001b[0m\u001b[0misna\u001b[0m\u001b[0;34m(\u001b[0m\u001b[0;34m)\u001b[0m\u001b[0;34m\u001b[0m\u001b[0;34m\u001b[0m\u001b[0m\n\u001b[0m\u001b[1;32m      4\u001b[0m     \u001b[0;34m]\u001b[0m\u001b[0;34m.\u001b[0m\u001b[0mindex\u001b[0m\u001b[0;34m,\u001b[0m\u001b[0;34m\u001b[0m\u001b[0;34m\u001b[0m\u001b[0m\n\u001b[1;32m      5\u001b[0m     \u001b[0minplace\u001b[0m\u001b[0;34m=\u001b[0m\u001b[0;32mTrue\u001b[0m\u001b[0;34m,\u001b[0m\u001b[0;34m\u001b[0m\u001b[0;34m\u001b[0m\u001b[0m\n\u001b[1;32m      6\u001b[0m \u001b[0;34m)\u001b[0m\u001b[0;34m\u001b[0m\u001b[0;34m\u001b[0m\u001b[0m\n",
      "\u001b[0;32m~/uchicago/4.1-Autumn-2024/Data Viz/congress-project/.venv/lib/python3.12/site-packages/pandas/core/generic.py\u001b[0m in \u001b[0;36m?\u001b[0;34m(self, name)\u001b[0m\n\u001b[1;32m   6295\u001b[0m             \u001b[0;32mand\u001b[0m \u001b[0mname\u001b[0m \u001b[0;32mnot\u001b[0m \u001b[0;32min\u001b[0m \u001b[0mself\u001b[0m\u001b[0;34m.\u001b[0m\u001b[0m_accessors\u001b[0m\u001b[0;34m\u001b[0m\u001b[0;34m\u001b[0m\u001b[0m\n\u001b[1;32m   6296\u001b[0m             \u001b[0;32mand\u001b[0m \u001b[0mself\u001b[0m\u001b[0;34m.\u001b[0m\u001b[0m_info_axis\u001b[0m\u001b[0;34m.\u001b[0m\u001b[0m_can_hold_identifiers_and_holds_name\u001b[0m\u001b[0;34m(\u001b[0m\u001b[0mname\u001b[0m\u001b[0;34m)\u001b[0m\u001b[0;34m\u001b[0m\u001b[0;34m\u001b[0m\u001b[0m\n\u001b[1;32m   6297\u001b[0m         \u001b[0;34m)\u001b[0m\u001b[0;34m:\u001b[0m\u001b[0;34m\u001b[0m\u001b[0;34m\u001b[0m\u001b[0m\n\u001b[1;32m   6298\u001b[0m             \u001b[0;32mreturn\u001b[0m \u001b[0mself\u001b[0m\u001b[0;34m[\u001b[0m\u001b[0mname\u001b[0m\u001b[0;34m]\u001b[0m\u001b[0;34m\u001b[0m\u001b[0;34m\u001b[0m\u001b[0m\n\u001b[0;32m-> 6299\u001b[0;31m         \u001b[0;32mreturn\u001b[0m \u001b[0mobject\u001b[0m\u001b[0;34m.\u001b[0m\u001b[0m__getattribute__\u001b[0m\u001b[0;34m(\u001b[0m\u001b[0mself\u001b[0m\u001b[0;34m,\u001b[0m \u001b[0mname\u001b[0m\u001b[0;34m)\u001b[0m\u001b[0;34m\u001b[0m\u001b[0;34m\u001b[0m\u001b[0m\n\u001b[0m",
      "\u001b[0;31mAttributeError\u001b[0m: 'DataFrame' object has no attribute 'state'"
     ]
    }
   ],
   "source": [
    "currentBios.drop(\n",
    "    currentBios.loc[\n",
    "        currentBios.senator.apply(lambda x: not x) & currentBios.state.isna()\n",
    "    ].index,\n",
    "    inplace=True,\n",
    ")"
   ]
  },
  {
   "cell_type": "code",
   "execution_count": 418,
   "metadata": {},
   "outputs": [],
   "source": [
    "reps = {\n",
    "    get_state_abbrev(k): v\n",
    "    for k, v in zip(utils.number_of_reps.keys(), utils.number_of_reps.values())\n",
    "}"
   ]
  },
  {
   "cell_type": "code",
   "execution_count": 419,
   "metadata": {},
   "outputs": [
    {
     "ename": "AttributeError",
     "evalue": "'DataFrame' object has no attribute 'state'",
     "output_type": "error",
     "traceback": [
      "\u001b[0;31m---------------------------------------------------------------------------\u001b[0m",
      "\u001b[0;31mAttributeError\u001b[0m                            Traceback (most recent call last)",
      "\u001b[0;32m/var/folders/j9/cgws7l217tl7gwgvk9x0ckf80000gn/T/ipykernel_63474/1865419566.py\u001b[0m in \u001b[0;36m?\u001b[0;34m()\u001b[0m\n\u001b[1;32m      2\u001b[0m \u001b[0;34m\u001b[0m\u001b[0m\n\u001b[1;32m      3\u001b[0m [\n\u001b[1;32m      4\u001b[0m     \u001b[0mstate\u001b[0m\u001b[0;34m\u001b[0m\u001b[0;34m\u001b[0m\u001b[0m\n\u001b[1;32m      5\u001b[0m     \u001b[0;32mfor\u001b[0m \u001b[0mstate\u001b[0m \u001b[0;32min\u001b[0m \u001b[0mcurrentBios\u001b[0m\u001b[0;34m.\u001b[0m\u001b[0mloc\u001b[0m\u001b[0;34m[\u001b[0m\u001b[0mcurrentBios\u001b[0m\u001b[0;34m.\u001b[0m\u001b[0msenator\u001b[0m\u001b[0;34m.\u001b[0m\u001b[0mapply\u001b[0m\u001b[0;34m(\u001b[0m\u001b[0;32mlambda\u001b[0m \u001b[0mx\u001b[0m\u001b[0;34m:\u001b[0m \u001b[0;32mnot\u001b[0m \u001b[0mx\u001b[0m\u001b[0;34m)\u001b[0m\u001b[0;34m]\u001b[0m\u001b[0;34m\u001b[0m\u001b[0;34m\u001b[0m\u001b[0m\n\u001b[0;32m----> 6\u001b[0;31m     \u001b[0;34m.\u001b[0m\u001b[0mstate\u001b[0m\u001b[0;34m.\u001b[0m\u001b[0mvalue_counts\u001b[0m\u001b[0;34m(\u001b[0m\u001b[0;34m)\u001b[0m\u001b[0;34m\u001b[0m\u001b[0;34m\u001b[0m\u001b[0m\n\u001b[0m\u001b[1;32m      7\u001b[0m     \u001b[0;34m.\u001b[0m\u001b[0mindex\u001b[0m\u001b[0;34m\u001b[0m\u001b[0;34m\u001b[0m\u001b[0m\n\u001b[1;32m      8\u001b[0m     \u001b[0;32mif\u001b[0m \u001b[0mcurrentBios\u001b[0m\u001b[0;34m.\u001b[0m\u001b[0mloc\u001b[0m\u001b[0;34m[\u001b[0m\u001b[0mcurrentBios\u001b[0m\u001b[0;34m.\u001b[0m\u001b[0msenator\u001b[0m\u001b[0;34m.\u001b[0m\u001b[0mapply\u001b[0m\u001b[0;34m(\u001b[0m\u001b[0;32mlambda\u001b[0m \u001b[0mx\u001b[0m\u001b[0;34m:\u001b[0m \u001b[0;32mnot\u001b[0m \u001b[0mx\u001b[0m\u001b[0;34m)\u001b[0m\u001b[0;34m]\u001b[0m\u001b[0;34m\u001b[0m\u001b[0;34m\u001b[0m\u001b[0m\n\u001b[1;32m      9\u001b[0m     \u001b[0;34m.\u001b[0m\u001b[0mstate\u001b[0m\u001b[0;34m.\u001b[0m\u001b[0mvalue_counts\u001b[0m\u001b[0;34m(\u001b[0m\u001b[0;34m)\u001b[0m\u001b[0;34m\u001b[0m\u001b[0;34m\u001b[0m\u001b[0m\n",
      "\u001b[0;32m~/uchicago/4.1-Autumn-2024/Data Viz/congress-project/.venv/lib/python3.12/site-packages/pandas/core/generic.py\u001b[0m in \u001b[0;36m?\u001b[0;34m(self, name)\u001b[0m\n\u001b[1;32m   6295\u001b[0m             \u001b[0;32mand\u001b[0m \u001b[0mname\u001b[0m \u001b[0;32mnot\u001b[0m \u001b[0;32min\u001b[0m \u001b[0mself\u001b[0m\u001b[0;34m.\u001b[0m\u001b[0m_accessors\u001b[0m\u001b[0;34m\u001b[0m\u001b[0;34m\u001b[0m\u001b[0m\n\u001b[1;32m   6296\u001b[0m             \u001b[0;32mand\u001b[0m \u001b[0mself\u001b[0m\u001b[0;34m.\u001b[0m\u001b[0m_info_axis\u001b[0m\u001b[0;34m.\u001b[0m\u001b[0m_can_hold_identifiers_and_holds_name\u001b[0m\u001b[0;34m(\u001b[0m\u001b[0mname\u001b[0m\u001b[0;34m)\u001b[0m\u001b[0;34m\u001b[0m\u001b[0;34m\u001b[0m\u001b[0m\n\u001b[1;32m   6297\u001b[0m         \u001b[0;34m)\u001b[0m\u001b[0;34m:\u001b[0m\u001b[0;34m\u001b[0m\u001b[0;34m\u001b[0m\u001b[0m\n\u001b[1;32m   6298\u001b[0m             \u001b[0;32mreturn\u001b[0m \u001b[0mself\u001b[0m\u001b[0;34m[\u001b[0m\u001b[0mname\u001b[0m\u001b[0;34m]\u001b[0m\u001b[0;34m\u001b[0m\u001b[0;34m\u001b[0m\u001b[0m\n\u001b[0;32m-> 6299\u001b[0;31m         \u001b[0;32mreturn\u001b[0m \u001b[0mobject\u001b[0m\u001b[0;34m.\u001b[0m\u001b[0m__getattribute__\u001b[0m\u001b[0;34m(\u001b[0m\u001b[0mself\u001b[0m\u001b[0;34m,\u001b[0m \u001b[0mname\u001b[0m\u001b[0;34m)\u001b[0m\u001b[0;34m\u001b[0m\u001b[0;34m\u001b[0m\u001b[0m\n\u001b[0m",
      "\u001b[0;31mAttributeError\u001b[0m: 'DataFrame' object has no attribute 'state'"
     ]
    }
   ],
   "source": [
    "# confirming that every state has the correct number of reps\n",
    "\n",
    "[\n",
    "    state\n",
    "    for state in currentBios.loc[currentBios.senator.apply(lambda x: not x)]\n",
    "    .state.value_counts()\n",
    "    .index\n",
    "    if currentBios.loc[currentBios.senator.apply(lambda x: not x)]\n",
    "    .state.value_counts()\n",
    "    .loc[state]\n",
    "    != reps[state]\n",
    "]"
   ]
  },
  {
   "cell_type": "code",
   "execution_count": 420,
   "metadata": {},
   "outputs": [
    {
     "ename": "AttributeError",
     "evalue": "'Series' object has no attribute 'party'",
     "output_type": "error",
     "traceback": [
      "\u001b[0;31m---------------------------------------------------------------------------\u001b[0m",
      "\u001b[0;31mAttributeError\u001b[0m                            Traceback (most recent call last)",
      "\u001b[0;32m/var/folders/j9/cgws7l217tl7gwgvk9x0ckf80000gn/T/ipykernel_63474/2581044129.py\u001b[0m in \u001b[0;36m?\u001b[0;34m()\u001b[0m\n\u001b[0;32m----> 1\u001b[0;31m currentBios[\"congressLabels\"] = currentBios.apply(\n\u001b[0m\u001b[1;32m      2\u001b[0m     \u001b[0;32mlambda\u001b[0m \u001b[0mrow\u001b[0m\u001b[0;34m:\u001b[0m \u001b[0;34mf\"\u001b[0m\u001b[0;34m{\u001b[0m\u001b[0mrow\u001b[0m\u001b[0;34m.\u001b[0m\u001b[0mgivenName\u001b[0m\u001b[0;34m}\u001b[0m\u001b[0;34m \u001b[0m\u001b[0;34m{\u001b[0m\u001b[0mrow\u001b[0m\u001b[0;34m.\u001b[0m\u001b[0mfamilyName\u001b[0m\u001b[0;34m}\u001b[0m\u001b[0;34m (\u001b[0m\u001b[0;34m{\u001b[0m\u001b[0mrow\u001b[0m\u001b[0;34m.\u001b[0m\u001b[0mparty\u001b[0m\u001b[0;34m}\u001b[0m\u001b[0;34m-\u001b[0m\u001b[0;34m{\u001b[0m\u001b[0mrow\u001b[0m\u001b[0;34m.\u001b[0m\u001b[0mstate\u001b[0m\u001b[0;34m}\u001b[0m\u001b[0;34m)\u001b[0m\u001b[0;34m\"\u001b[0m\u001b[0;34m,\u001b[0m\u001b[0;34m\u001b[0m\u001b[0;34m\u001b[0m\u001b[0m\n\u001b[1;32m      3\u001b[0m     \u001b[0maxis\u001b[0m\u001b[0;34m=\u001b[0m\u001b[0;36m1\u001b[0m\u001b[0;34m,\u001b[0m\u001b[0;34m\u001b[0m\u001b[0;34m\u001b[0m\u001b[0m\n\u001b[1;32m      4\u001b[0m \u001b[0;34m)\u001b[0m\u001b[0;34m\u001b[0m\u001b[0;34m\u001b[0m\u001b[0m\n",
      "\u001b[0;32m~/uchicago/4.1-Autumn-2024/Data Viz/congress-project/.venv/lib/python3.12/site-packages/pandas/core/frame.py\u001b[0m in \u001b[0;36m?\u001b[0;34m(self, func, axis, raw, result_type, args, by_row, engine, engine_kwargs, **kwargs)\u001b[0m\n\u001b[1;32m  10370\u001b[0m             \u001b[0mengine_kwargs\u001b[0m\u001b[0;34m=\u001b[0m\u001b[0mengine_kwargs\u001b[0m\u001b[0;34m,\u001b[0m\u001b[0;34m\u001b[0m\u001b[0;34m\u001b[0m\u001b[0m\n\u001b[1;32m  10371\u001b[0m             \u001b[0margs\u001b[0m\u001b[0;34m=\u001b[0m\u001b[0margs\u001b[0m\u001b[0;34m,\u001b[0m\u001b[0;34m\u001b[0m\u001b[0;34m\u001b[0m\u001b[0m\n\u001b[1;32m  10372\u001b[0m             \u001b[0mkwargs\u001b[0m\u001b[0;34m=\u001b[0m\u001b[0mkwargs\u001b[0m\u001b[0;34m,\u001b[0m\u001b[0;34m\u001b[0m\u001b[0;34m\u001b[0m\u001b[0m\n\u001b[1;32m  10373\u001b[0m         \u001b[0;34m)\u001b[0m\u001b[0;34m\u001b[0m\u001b[0;34m\u001b[0m\u001b[0m\n\u001b[0;32m> 10374\u001b[0;31m         \u001b[0;32mreturn\u001b[0m \u001b[0mop\u001b[0m\u001b[0;34m.\u001b[0m\u001b[0mapply\u001b[0m\u001b[0;34m(\u001b[0m\u001b[0;34m)\u001b[0m\u001b[0;34m.\u001b[0m\u001b[0m__finalize__\u001b[0m\u001b[0;34m(\u001b[0m\u001b[0mself\u001b[0m\u001b[0;34m,\u001b[0m \u001b[0mmethod\u001b[0m\u001b[0;34m=\u001b[0m\u001b[0;34m\"apply\"\u001b[0m\u001b[0;34m)\u001b[0m\u001b[0;34m\u001b[0m\u001b[0;34m\u001b[0m\u001b[0m\n\u001b[0m",
      "\u001b[0;32m~/uchicago/4.1-Autumn-2024/Data Viz/congress-project/.venv/lib/python3.12/site-packages/pandas/core/apply.py\u001b[0m in \u001b[0;36m?\u001b[0;34m(self)\u001b[0m\n\u001b[1;32m    912\u001b[0m         \u001b[0;31m# raw\u001b[0m\u001b[0;34m\u001b[0m\u001b[0;34m\u001b[0m\u001b[0m\n\u001b[1;32m    913\u001b[0m         \u001b[0;32melif\u001b[0m \u001b[0mself\u001b[0m\u001b[0;34m.\u001b[0m\u001b[0mraw\u001b[0m\u001b[0;34m:\u001b[0m\u001b[0;34m\u001b[0m\u001b[0;34m\u001b[0m\u001b[0m\n\u001b[1;32m    914\u001b[0m             \u001b[0;32mreturn\u001b[0m \u001b[0mself\u001b[0m\u001b[0;34m.\u001b[0m\u001b[0mapply_raw\u001b[0m\u001b[0;34m(\u001b[0m\u001b[0mengine\u001b[0m\u001b[0;34m=\u001b[0m\u001b[0mself\u001b[0m\u001b[0;34m.\u001b[0m\u001b[0mengine\u001b[0m\u001b[0;34m,\u001b[0m \u001b[0mengine_kwargs\u001b[0m\u001b[0;34m=\u001b[0m\u001b[0mself\u001b[0m\u001b[0;34m.\u001b[0m\u001b[0mengine_kwargs\u001b[0m\u001b[0;34m)\u001b[0m\u001b[0;34m\u001b[0m\u001b[0;34m\u001b[0m\u001b[0m\n\u001b[1;32m    915\u001b[0m \u001b[0;34m\u001b[0m\u001b[0m\n\u001b[0;32m--> 916\u001b[0;31m         \u001b[0;32mreturn\u001b[0m \u001b[0mself\u001b[0m\u001b[0;34m.\u001b[0m\u001b[0mapply_standard\u001b[0m\u001b[0;34m(\u001b[0m\u001b[0;34m)\u001b[0m\u001b[0;34m\u001b[0m\u001b[0;34m\u001b[0m\u001b[0m\n\u001b[0m",
      "\u001b[0;32m~/uchicago/4.1-Autumn-2024/Data Viz/congress-project/.venv/lib/python3.12/site-packages/pandas/core/apply.py\u001b[0m in \u001b[0;36m?\u001b[0;34m(self)\u001b[0m\n\u001b[1;32m   1061\u001b[0m     \u001b[0;32mdef\u001b[0m \u001b[0mapply_standard\u001b[0m\u001b[0;34m(\u001b[0m\u001b[0mself\u001b[0m\u001b[0;34m)\u001b[0m\u001b[0;34m:\u001b[0m\u001b[0;34m\u001b[0m\u001b[0;34m\u001b[0m\u001b[0m\n\u001b[1;32m   1062\u001b[0m         \u001b[0;32mif\u001b[0m \u001b[0mself\u001b[0m\u001b[0;34m.\u001b[0m\u001b[0mengine\u001b[0m \u001b[0;34m==\u001b[0m \u001b[0;34m\"python\"\u001b[0m\u001b[0;34m:\u001b[0m\u001b[0;34m\u001b[0m\u001b[0;34m\u001b[0m\u001b[0m\n\u001b[0;32m-> 1063\u001b[0;31m             \u001b[0mresults\u001b[0m\u001b[0;34m,\u001b[0m \u001b[0mres_index\u001b[0m \u001b[0;34m=\u001b[0m \u001b[0mself\u001b[0m\u001b[0;34m.\u001b[0m\u001b[0mapply_series_generator\u001b[0m\u001b[0;34m(\u001b[0m\u001b[0;34m)\u001b[0m\u001b[0;34m\u001b[0m\u001b[0;34m\u001b[0m\u001b[0m\n\u001b[0m\u001b[1;32m   1064\u001b[0m         \u001b[0;32melse\u001b[0m\u001b[0;34m:\u001b[0m\u001b[0;34m\u001b[0m\u001b[0;34m\u001b[0m\u001b[0m\n\u001b[1;32m   1065\u001b[0m             \u001b[0mresults\u001b[0m\u001b[0;34m,\u001b[0m \u001b[0mres_index\u001b[0m \u001b[0;34m=\u001b[0m \u001b[0mself\u001b[0m\u001b[0;34m.\u001b[0m\u001b[0mapply_series_numba\u001b[0m\u001b[0;34m(\u001b[0m\u001b[0;34m)\u001b[0m\u001b[0;34m\u001b[0m\u001b[0;34m\u001b[0m\u001b[0m\n\u001b[1;32m   1066\u001b[0m \u001b[0;34m\u001b[0m\u001b[0m\n",
      "\u001b[0;32m~/uchicago/4.1-Autumn-2024/Data Viz/congress-project/.venv/lib/python3.12/site-packages/pandas/core/apply.py\u001b[0m in \u001b[0;36m?\u001b[0;34m(self)\u001b[0m\n\u001b[1;32m   1077\u001b[0m \u001b[0;34m\u001b[0m\u001b[0m\n\u001b[1;32m   1078\u001b[0m         \u001b[0;32mwith\u001b[0m \u001b[0moption_context\u001b[0m\u001b[0;34m(\u001b[0m\u001b[0;34m\"mode.chained_assignment\"\u001b[0m\u001b[0;34m,\u001b[0m \u001b[0;32mNone\u001b[0m\u001b[0;34m)\u001b[0m\u001b[0;34m:\u001b[0m\u001b[0;34m\u001b[0m\u001b[0;34m\u001b[0m\u001b[0m\n\u001b[1;32m   1079\u001b[0m             \u001b[0;32mfor\u001b[0m \u001b[0mi\u001b[0m\u001b[0;34m,\u001b[0m \u001b[0mv\u001b[0m \u001b[0;32min\u001b[0m \u001b[0menumerate\u001b[0m\u001b[0;34m(\u001b[0m\u001b[0mseries_gen\u001b[0m\u001b[0;34m)\u001b[0m\u001b[0;34m:\u001b[0m\u001b[0;34m\u001b[0m\u001b[0;34m\u001b[0m\u001b[0m\n\u001b[1;32m   1080\u001b[0m                 \u001b[0;31m# ignore SettingWithCopy here in case the user mutates\u001b[0m\u001b[0;34m\u001b[0m\u001b[0;34m\u001b[0m\u001b[0m\n\u001b[0;32m-> 1081\u001b[0;31m                 \u001b[0mresults\u001b[0m\u001b[0;34m[\u001b[0m\u001b[0mi\u001b[0m\u001b[0;34m]\u001b[0m \u001b[0;34m=\u001b[0m \u001b[0mself\u001b[0m\u001b[0;34m.\u001b[0m\u001b[0mfunc\u001b[0m\u001b[0;34m(\u001b[0m\u001b[0mv\u001b[0m\u001b[0;34m,\u001b[0m \u001b[0;34m*\u001b[0m\u001b[0mself\u001b[0m\u001b[0;34m.\u001b[0m\u001b[0margs\u001b[0m\u001b[0;34m,\u001b[0m \u001b[0;34m**\u001b[0m\u001b[0mself\u001b[0m\u001b[0;34m.\u001b[0m\u001b[0mkwargs\u001b[0m\u001b[0;34m)\u001b[0m\u001b[0;34m\u001b[0m\u001b[0;34m\u001b[0m\u001b[0m\n\u001b[0m\u001b[1;32m   1082\u001b[0m                 \u001b[0;32mif\u001b[0m \u001b[0misinstance\u001b[0m\u001b[0;34m(\u001b[0m\u001b[0mresults\u001b[0m\u001b[0;34m[\u001b[0m\u001b[0mi\u001b[0m\u001b[0;34m]\u001b[0m\u001b[0;34m,\u001b[0m \u001b[0mABCSeries\u001b[0m\u001b[0;34m)\u001b[0m\u001b[0;34m:\u001b[0m\u001b[0;34m\u001b[0m\u001b[0;34m\u001b[0m\u001b[0m\n\u001b[1;32m   1083\u001b[0m                     \u001b[0;31m# If we have a view on v, we need to make a copy because\u001b[0m\u001b[0;34m\u001b[0m\u001b[0;34m\u001b[0m\u001b[0m\n\u001b[1;32m   1084\u001b[0m                     \u001b[0;31m#  series_generator will swap out the underlying data\u001b[0m\u001b[0;34m\u001b[0m\u001b[0;34m\u001b[0m\u001b[0m\n",
      "\u001b[0;32m/var/folders/j9/cgws7l217tl7gwgvk9x0ckf80000gn/T/ipykernel_63474/2581044129.py\u001b[0m in \u001b[0;36m?\u001b[0;34m(row)\u001b[0m\n\u001b[0;32m----> 2\u001b[0;31m     \u001b[0;32mlambda\u001b[0m \u001b[0mrow\u001b[0m\u001b[0;34m:\u001b[0m \u001b[0;34mf\"\u001b[0m\u001b[0;34m{\u001b[0m\u001b[0mrow\u001b[0m\u001b[0;34m.\u001b[0m\u001b[0mgivenName\u001b[0m\u001b[0;34m}\u001b[0m\u001b[0;34m \u001b[0m\u001b[0;34m{\u001b[0m\u001b[0mrow\u001b[0m\u001b[0;34m.\u001b[0m\u001b[0mfamilyName\u001b[0m\u001b[0;34m}\u001b[0m\u001b[0;34m (\u001b[0m\u001b[0;34m{\u001b[0m\u001b[0mrow\u001b[0m\u001b[0;34m.\u001b[0m\u001b[0mparty\u001b[0m\u001b[0;34m}\u001b[0m\u001b[0;34m-\u001b[0m\u001b[0;34m{\u001b[0m\u001b[0mrow\u001b[0m\u001b[0;34m.\u001b[0m\u001b[0mstate\u001b[0m\u001b[0;34m}\u001b[0m\u001b[0;34m)\u001b[0m\u001b[0;34m\"\u001b[0m\u001b[0;34m,\u001b[0m\u001b[0;34m\u001b[0m\u001b[0;34m\u001b[0m\u001b[0m\n\u001b[0m",
      "\u001b[0;32m~/uchicago/4.1-Autumn-2024/Data Viz/congress-project/.venv/lib/python3.12/site-packages/pandas/core/generic.py\u001b[0m in \u001b[0;36m?\u001b[0;34m(self, name)\u001b[0m\n\u001b[1;32m   6295\u001b[0m             \u001b[0;32mand\u001b[0m \u001b[0mname\u001b[0m \u001b[0;32mnot\u001b[0m \u001b[0;32min\u001b[0m \u001b[0mself\u001b[0m\u001b[0;34m.\u001b[0m\u001b[0m_accessors\u001b[0m\u001b[0;34m\u001b[0m\u001b[0;34m\u001b[0m\u001b[0m\n\u001b[1;32m   6296\u001b[0m             \u001b[0;32mand\u001b[0m \u001b[0mself\u001b[0m\u001b[0;34m.\u001b[0m\u001b[0m_info_axis\u001b[0m\u001b[0;34m.\u001b[0m\u001b[0m_can_hold_identifiers_and_holds_name\u001b[0m\u001b[0;34m(\u001b[0m\u001b[0mname\u001b[0m\u001b[0;34m)\u001b[0m\u001b[0;34m\u001b[0m\u001b[0;34m\u001b[0m\u001b[0m\n\u001b[1;32m   6297\u001b[0m         \u001b[0;34m)\u001b[0m\u001b[0;34m:\u001b[0m\u001b[0;34m\u001b[0m\u001b[0;34m\u001b[0m\u001b[0m\n\u001b[1;32m   6298\u001b[0m             \u001b[0;32mreturn\u001b[0m \u001b[0mself\u001b[0m\u001b[0;34m[\u001b[0m\u001b[0mname\u001b[0m\u001b[0;34m]\u001b[0m\u001b[0;34m\u001b[0m\u001b[0;34m\u001b[0m\u001b[0m\n\u001b[0;32m-> 6299\u001b[0;31m         \u001b[0;32mreturn\u001b[0m \u001b[0mobject\u001b[0m\u001b[0;34m.\u001b[0m\u001b[0m__getattribute__\u001b[0m\u001b[0;34m(\u001b[0m\u001b[0mself\u001b[0m\u001b[0;34m,\u001b[0m \u001b[0mname\u001b[0m\u001b[0;34m)\u001b[0m\u001b[0;34m\u001b[0m\u001b[0;34m\u001b[0m\u001b[0m\n\u001b[0m",
      "\u001b[0;31mAttributeError\u001b[0m: 'Series' object has no attribute 'party'"
     ]
    }
   ],
   "source": [
    "currentBios[\"congressLabels\"] = currentBios.apply(\n",
    "    lambda row: f\"{row.givenName} {row.familyName} ({row.party}-{row.state})\",\n",
    "    axis=1,\n",
    ")"
   ]
  },
  {
   "cell_type": "markdown",
   "metadata": {},
   "source": [
    "### Applying categories"
   ]
  },
  {
   "cell_type": "code",
   "execution_count": 472,
   "metadata": {},
   "outputs": [],
   "source": [
    "import json\n",
    "import re\n",
    "\n",
    "from anthropic import Anthropic\n",
    "from anthropic.types.beta.message_create_params import (\n",
    "    MessageCreateParamsNonStreaming,\n",
    ")\n",
    "from anthropic.types.beta.messages.batch_create_params import Request\n",
    "from dotenv import load_dotenv\n",
    "\n",
    "load_dotenv()\n",
    "\n",
    "client = Anthropic()\n",
    "\n",
    "SYSTEM_PROMPT = \"\"\"You're a data analyst, tasked with analyzing whether certain\n",
    "career milestones pertain based upon a biography you're given. I will give you\n",
    "a biography, a list of JSON keys, and a brief description for each key. Your\n",
    "job will be to read through the biography, then, for each JSON key, return\n",
    "either the part of the biography that makes you think that key pertains or the\n",
    "boolean `false`. If there's more than one part of the biography that makes you\n",
    "think the key pertains, return only the first part of the biography that makes\n",
    "you think the key pertains.\n",
    "\n",
    "For example, with JSON keys\n",
    "    ['communityCollege', 'eliteCollege', 'publicCollege', 'privateCollege', 'noBA']\n",
    "and a biography that starts:\n",
    "    \"a Representative from Missouri; born in Baytown, Harris County, Tex., October 4, 1963; graduated from Ross S. Sterling High School, Baytown, Tex., 1982; attended Lee College, Baytown, Tex.; attended Southwest Texas State College, San Marcos, Tex.; attended University of Texas, Austin, Tex.; television news anchor;...\"\n",
    "\n",
    "Your response should be as follows:\n",
    "{\n",
    "    \"communityCollege\": \"Lee College, Baytown, Tex.\",\n",
    "    \"eliteCollege\": false,\n",
    "    \"publicCollege\": \"attended Southwest Texas State College, San Marcos, Tex.\",\n",
    "    \"privateCollege\": false,\n",
    "    \"noBA\": false\n",
    "}\n",
    "\"\"\"\n",
    "\n",
    "KEYS_AND_EXPLANATIONS = \"\"\"\n",
    "    'communityCollege', # does this person have an associates degree and/or attend a community college?\n",
    "    'eliteCollege', # did this person complete their UNDERGRAD education at an Ivy League School, Stanford, UChicago, Duke, or MIT? say False if it's a grad degree\n",
    "    'publicCollege', # undergrad at public school\n",
    "    'privateCollege', # ud\n",
    "    'noBA', # no bachelors degree\n",
    "    'lawSchool', # JD, LLM, or any other law degree\n",
    "    'medDegree', # include DOs and nursing degrees, too\n",
    "    'doctorate',\n",
    "    'mba',\n",
    "    'otherMasters',\n",
    "    'military',\n",
    "    'lawyerPrivatePractice',\n",
    "    'publicLawyerOrJudge',\n",
    "    'prevUnsuccessfulCandidate',\n",
    "    'partyPolitics', # did they ever work for the local/state/national branch of Democratic/Republican/third party? don't include \"elected as a Democrat\" or \"elected as a Republican\"\n",
    "    'sciOrEng', # ever have a job\n",
    "    'religion',\n",
    "    'healthcare',\n",
    "    'blueCollarOrServiceJob',\n",
    "    'education', # only include people who were teachers / professors / administrators\n",
    "    'nonprofitsAndUnions',\n",
    "    'sports', # both players and coaches\n",
    "    'media',\n",
    "    'realEstate',\n",
    "    'lawEnforcement',\n",
    "    'farmingOrRanching',\n",
    "    'businessOrManagement',\n",
    "    'lobbyingOrPacs',\n",
    "    'localGov',\n",
    "    'stateLeg',\n",
    "    'electedFedOrStateOffice', # don't include being in the state legislature, DO NOT include being elected to congress. CA high speed rail authority isn't elected.\n",
    "    'nonElectedGovJob' # everything from staffer/aide in a legislature to being an appointed official\n",
    "\"\"\"\n",
    "\n",
    "message_batch = client.beta.messages.batches.create(\n",
    "    requests=[\n",
    "        Request(\n",
    "            custom_id=f\"{i}\",\n",
    "            params=MessageCreateParamsNonStreaming(\n",
    "                model=\"claude-3-5-sonnet-20241022\",\n",
    "                max_tokens=512,\n",
    "                temperature=0.1,\n",
    "                system=SYSTEM_PROMPT,\n",
    "                messages=[\n",
    "                    {\n",
    "                        \"role\": \"user\",\n",
    "                        \"content\": [\n",
    "                            {\n",
    "                                \"type\": \"text\",\n",
    "                                \"text\": KEYS_AND_EXPLANATIONS,\n",
    "                            },\n",
    "                            {\n",
    "                                \"type\": \"text\",\n",
    "                                \"text\": \"Here's the biography:\\n\\n\" + x[\"profileText\"],\n",
    "                            },\n",
    "                        ],\n",
    "                    },\n",
    "                    {\n",
    "                        \"role\": \"assistant\",\n",
    "                        \"content\": [\n",
    "                            {\n",
    "                                \"type\": \"text\",\n",
    "                                \"text\": '{\"communityCollege\":',\n",
    "                            },\n",
    "                        ],\n",
    "                    },\n",
    "                ],\n",
    "            ),\n",
    "        )\n",
    "        for i, x in recentBios.iterrows()\n",
    "    ]\n",
    ")"
   ]
  },
  {
   "cell_type": "code",
   "execution_count": 473,
   "metadata": {},
   "outputs": [],
   "source": [
    "batch_id = message_batch.id"
   ]
  },
  {
   "cell_type": "code",
   "execution_count": 474,
   "metadata": {},
   "outputs": [
    {
     "name": "stdout",
     "output_type": "stream",
     "text": [
      "Batch msgbatch_01KHU5j68SjBcd2KVApCYd9s is still processing...\n",
      "Batch msgbatch_01KHU5j68SjBcd2KVApCYd9s is still processing...\n",
      "Batch msgbatch_01KHU5j68SjBcd2KVApCYd9s is still processing...\n",
      "BetaMessageBatch(id='msgbatch_01KHU5j68SjBcd2KVApCYd9s', archived_at=None, cancel_initiated_at=None, created_at=datetime.datetime(2024, 12, 1, 5, 13, 41, 927231, tzinfo=datetime.timezone.utc), ended_at=datetime.datetime(2024, 12, 1, 5, 16, 2, 891574, tzinfo=TzInfo(UTC)), expires_at=datetime.datetime(2024, 12, 2, 5, 13, 41, 927231, tzinfo=datetime.timezone.utc), processing_status='ended', request_counts=BetaMessageBatchRequestCounts(canceled=0, errored=0, expired=0, processing=0, succeeded=1939), results_url='https://api.anthropic.com/v1/messages/batches/msgbatch_01KHU5j68SjBcd2KVApCYd9s/results', type='message_batch')\n"
     ]
    }
   ],
   "source": [
    "import time\n",
    "\n",
    "while True:\n",
    "    message_batch = client.beta.messages.batches.retrieve(batch_id)\n",
    "    if message_batch.processing_status == \"ended\":\n",
    "        break\n",
    "\n",
    "    print(f\"Batch {batch_id} is still processing...\")\n",
    "    time.sleep(60)\n",
    "print(message_batch)"
   ]
  },
  {
   "cell_type": "code",
   "execution_count": 475,
   "metadata": {},
   "outputs": [],
   "source": [
    "def remove_comments(text):\n",
    "    pattern = r\"(\\\\|#).*\\n\"\n",
    "    text = re.sub(pattern, \"\", text)\n",
    "\n",
    "    return text\n",
    "\n",
    "\n",
    "flags = []\n",
    "\n",
    "for result in client.beta.messages.batches.results(\n",
    "    batch_id,\n",
    "):\n",
    "    flags.append(\n",
    "        json.loads(\n",
    "            '{\"communityCollege\": '\n",
    "            + remove_comments(result.result.message.content[0].text)\n",
    "        )\n",
    "    )"
   ]
  },
  {
   "cell_type": "code",
   "execution_count": 476,
   "metadata": {},
   "outputs": [],
   "source": [
    "df = pd.merge(\n",
    "    recentBios,\n",
    "    pd.DataFrame(flags, index=recentBios.index),\n",
    "    left_index=True,\n",
    "    right_index=True,\n",
    ")"
   ]
  },
  {
   "cell_type": "code",
   "execution_count": null,
   "metadata": {},
   "outputs": [],
   "source": [
    "import ast\n",
    "\n",
    "df = pd.read_csv(\"../../data/processed-bios.csv\", index_col=0).drop(\n",
    "    columns=[\"Unnamed: 3\"]\n",
    ")\n",
    "\n",
    "\n",
    "df.loc[:, \"congresses\"] = df.loc[:, \"congresses\"].apply(ast.literal_eval)\n",
    "df.loc[:, \"jobPositions\"] = df.loc[:, \"jobPositions\"].apply(ast.literal_eval)\n",
    "\n",
    "df.loc[:, \"parties\"] = (\n",
    "    df.loc[:, \"parties\"]\n",
    "    .apply(ast.literal_eval)\n",
    "    .apply(lambda d: {int(k): v for k, v in d.items()})\n",
    ")\n",
    "\n",
    "df.loc[:, \"jobs\"] = (\n",
    "    df.loc[:, \"jobs\"]\n",
    "    .apply(ast.literal_eval)\n",
    "    .apply(lambda d: {int(k): v for k, v in d.items()})\n",
    ")\n",
    "\n",
    "df = df.replace(\"FALSE\", False)\n",
    "df.to_json(\"../../data/processed-bios.json\", orient=\"index\")"
   ]
  },
  {
   "cell_type": "code",
   "execution_count": 522,
   "metadata": {},
   "outputs": [],
   "source": [
    "df = pd.read_json(\"../../data/processed-bios.json\").T"
   ]
  },
  {
   "cell_type": "code",
   "execution_count": null,
   "metadata": {},
   "outputs": [],
   "source": [
    "df.drop(df[df[\"state\"].isna()].index).to_json(\n",
    "    \"../../data/processed-bios.json\", orient=\"index\"\n",
    ")"
   ]
  },
  {
   "cell_type": "code",
   "execution_count": 553,
   "metadata": {},
   "outputs": [],
   "source": [
    "df = pd.read_json(\"../../data/processed-bios.json\").T"
   ]
  },
  {
   "cell_type": "code",
   "execution_count": null,
   "metadata": {},
   "outputs": [],
   "source": [
    "df.loc[:, \"givenName\"] = bios.givenName[df.index]\n",
    "df.loc[:, \"familyName\"] = bios.familyName[df.index]\n",
    "\n",
    "df.loc[:, \"unaccentedFamilyName\"] = bios[\"unaccentedFamilyName\"][df.index]\n",
    "df.loc[:, \"unaccentedGivenName\"] = bios[\"unaccentedGivenName\"][df.index]"
   ]
  },
  {
   "cell_type": "code",
   "execution_count": 567,
   "metadata": {},
   "outputs": [],
   "source": [
    "df.to_json(\"../../data/processed-bios.json\", orient=\"index\")"
   ]
  },
  {
   "cell_type": "markdown",
   "metadata": {},
   "source": [
    "### (deprecated) Applying categories\n",
    "\n",
    "Here, I put the csv into Google Sheets and did a whole lot more work on it — basically all manual, which wasn't fun. Turns out it's tough to hard-code which things ought to count as which categories. I tried some GPT-4 api calls, but I didn't end up doing too well. Good news is that, after poking around there, I can do it more efficiently here below.\n",
    "\n",
    "The labels below are almost entirely the originals from the [New York Times piece](https://www.nytimes.com/interactive/2019/01/26/opinion/sunday/paths-to-congress.html) except that I added\n",
    "- previously unsuccessful candidate for office,\n",
    "- more specific master's degrees,\n",
    "- previous experience in party politics.\n",
    "\n",
    "I think I was also more generous with what counts as a medical degree, including nursing and osteopathic degrees.\n",
    "\n",
    "You can see what I checked for each thing by examining the flags I've added for each category in in the `utils` module, though. "
   ]
  },
  {
   "cell_type": "code",
   "execution_count": 25,
   "metadata": {},
   "outputs": [],
   "source": [
    "def splitAndTest(profileText, contains, doesntContain=[]):\n",
    "    bioItems = profileText.lower().split(\";\")\n",
    "    if doesntContain:\n",
    "        for bioItem in bioItems:\n",
    "            for c in contains:\n",
    "                if c.lower() in bioItem:\n",
    "                    if not any(dc.lower() in bioItem for dc in doesntContain):\n",
    "                        return bioItem\n",
    "                    else:\n",
    "                        continue\n",
    "        return False\n",
    "\n",
    "    else:\n",
    "        for bioItem in bioItems:\n",
    "            for c in contains:\n",
    "                if c.lower() in bioItem:\n",
    "                    return bioItem\n",
    "        return False"
   ]
  },
  {
   "cell_type": "code",
   "execution_count": 26,
   "metadata": {},
   "outputs": [],
   "source": [
    "currentBios[\"communityCollege\"] = currentBios.profileText.apply(\n",
    "    lambda x: splitAndTest(\n",
    "        x, utils.communityCollege, [\"board\", \"professor\", \"instructor\", \"president\"]\n",
    "    )\n",
    ")"
   ]
  },
  {
   "cell_type": "code",
   "execution_count": 27,
   "metadata": {},
   "outputs": [],
   "source": [
    "currentBios[\"eliteCollege\"] = currentBios.profileText.apply(\n",
    "    lambda x: splitAndTest(\n",
    "        x,\n",
    "        utils.eliteCollege,\n",
    "        utils.otherMasters\n",
    "        + utils.mba\n",
    "        + utils.medDegree\n",
    "        + utils.doctorate\n",
    "        + utils.lawSchool\n",
    "        + [\n",
    "            \"county\",\n",
    "            \"post-graduate studies\",\n",
    "            \"fellow\",\n",
    "            \"high school\",\n",
    "            \"medical school\",\n",
    "            \"hospital\",\n",
    "            \"texas southmost college\",\n",
    "            \"extension school\",\n",
    "        ],\n",
    "    )\n",
    ")"
   ]
  },
  {
   "cell_type": "code",
   "execution_count": 28,
   "metadata": {},
   "outputs": [],
   "source": [
    "currentBios[\"publicCollege\"] = currentBios.profileText.apply(\n",
    "    lambda x: splitAndTest(\n",
    "        x,\n",
    "        utils.publicCollege,\n",
    "        utils.otherMasters\n",
    "        + utils.mba\n",
    "        + utils.medDegree\n",
    "        + utils.doctorate\n",
    "        + utils.lawSchool\n",
    "        + utils.education\n",
    "        + [\n",
    "            # \"county\",\n",
    "            \"post-graduate studies\",\n",
    "            \"fellow\",\n",
    "            \"high school\",\n",
    "            \"medical school\",\n",
    "            \"hospital\",\n",
    "            \"texas southmost college\",\n",
    "            \"extension school\",\n",
    "            \"board of governors\",\n",
    "            \"a.a.s.\",\n",
    "        ],\n",
    "    )\n",
    ")"
   ]
  },
  {
   "cell_type": "code",
   "execution_count": 29,
   "metadata": {},
   "outputs": [],
   "source": [
    "currentBios[\"privateCollege\"] = currentBios.profileText.apply(\n",
    "    lambda x: splitAndTest(\n",
    "        x,\n",
    "        utils.privateCollege,\n",
    "        utils.otherMasters\n",
    "        + utils.mba\n",
    "        + utils.medDegree\n",
    "        + utils.doctorate\n",
    "        + utils.lawSchool\n",
    "        + utils.education\n",
    "        + [\n",
    "            \"county\",\n",
    "            \"post-graduate studies\",\n",
    "            \"fellow\",\n",
    "            \"high school\",\n",
    "            \"medical school\",\n",
    "            \"hospital\",\n",
    "            \"texas southmost college\",\n",
    "            \"extension school\",\n",
    "            \"board of governors\",\n",
    "            \"a.a.s.\",\n",
    "        ],\n",
    "    )\n",
    ")"
   ]
  },
  {
   "cell_type": "code",
   "execution_count": 30,
   "metadata": {},
   "outputs": [],
   "source": [
    "currentBios[\"noBA\"] = currentBios.apply(\n",
    "    lambda x: (\n",
    "        (not x[\"communityCollege\"])\n",
    "        & (not x[\"eliteCollege\"])\n",
    "        & (not x[\"publicCollege\"])\n",
    "        & (not x[\"privateCollege\"])\n",
    "    ),\n",
    "    axis=1,\n",
    ")"
   ]
  },
  {
   "cell_type": "code",
   "execution_count": 31,
   "metadata": {},
   "outputs": [],
   "source": [
    "currentBios[\"lawSchool\"] = currentBios.profileText.apply(\n",
    "    lambda x: splitAndTest(x, utils.lawSchool)\n",
    ")"
   ]
  },
  {
   "cell_type": "code",
   "execution_count": 32,
   "metadata": {},
   "outputs": [],
   "source": [
    "currentBios[\"medDegree\"] = currentBios.profileText.apply(\n",
    "    lambda x: splitAndTest(x, utils.medDegree)\n",
    ")"
   ]
  },
  {
   "cell_type": "code",
   "execution_count": 33,
   "metadata": {},
   "outputs": [],
   "source": [
    "currentBios[\"doctorate\"] = currentBios.profileText.apply(\n",
    "    lambda x: splitAndTest(x, utils.doctorate)\n",
    ")"
   ]
  },
  {
   "cell_type": "code",
   "execution_count": 34,
   "metadata": {},
   "outputs": [],
   "source": [
    "currentBios[\"mba\"] = currentBios.profileText.apply(lambda x: splitAndTest(x, utils.mba))"
   ]
  },
  {
   "cell_type": "code",
   "execution_count": 35,
   "metadata": {},
   "outputs": [],
   "source": [
    "currentBios[\"otherMasters\"] = currentBios.profileText.apply(\n",
    "    lambda x: splitAndTest(x, utils.otherMasters)\n",
    ")"
   ]
  },
  {
   "cell_type": "code",
   "execution_count": 36,
   "metadata": {},
   "outputs": [],
   "source": [
    "currentBios[\"military\"] = currentBios.profileText.apply(\n",
    "    lambda x: splitAndTest(x, utils.military, [\"academy\", \"college\"])\n",
    ")"
   ]
  },
  {
   "cell_type": "code",
   "execution_count": 37,
   "metadata": {},
   "outputs": [],
   "source": [
    "currentBios[\"lawyerPrivatePractice\"] = currentBios.profileText.apply(\n",
    "    lambda x: splitAndTest(x, utils.lawyerPrivatePractice)\n",
    ")\n",
    "currentBios[\"lawyerPrivatePractice\"] = [\n",
    "    (\n",
    "        currentBios.lawyerPrivatePractice.iloc[i]\n",
    "        if currentBios.lawyerPrivatePractice.iloc[i]\n",
    "        else (\n",
    "            \"lawyer\"\n",
    "            if any(\n",
    "                [\n",
    "                    (\n",
    "                        bioItem\n",
    "                        if (bioItem.strip() == \"lawyer\")\n",
    "                        | (bioItem.strip() == \"attorney\")\n",
    "                        else False\n",
    "                    )\n",
    "                    for bioItem in currentBios.profileText.iloc[i].lower().split(\";\")\n",
    "                ]\n",
    "            )\n",
    "            else False\n",
    "        )\n",
    "    )\n",
    "    for i in range(len(currentBios))\n",
    "]"
   ]
  },
  {
   "cell_type": "code",
   "execution_count": 38,
   "metadata": {},
   "outputs": [],
   "source": [
    "currentBios[\"publicLawyerOrJudge\"] = currentBios.profileText.apply(\n",
    "    lambda x: splitAndTest(\n",
    "        x, utils.publicLawyerOrJudge, [\"college counselor\", \"one of the managers\"]\n",
    "    )\n",
    ")"
   ]
  },
  {
   "cell_type": "code",
   "execution_count": 39,
   "metadata": {},
   "outputs": [],
   "source": [
    "currentBios[\"prevUnsuccessfulCandidate\"] = currentBios.profileText.apply(\n",
    "    lambda x: splitAndTest(x, utils.prevUnsuccessfulCandidate)\n",
    ")"
   ]
  },
  {
   "cell_type": "code",
   "execution_count": 40,
   "metadata": {},
   "outputs": [],
   "source": [
    "currentBios[\"partyPolitics\"] = currentBios.profileText.apply(\n",
    "    lambda x: splitAndTest(\n",
    "        x,\n",
    "        utils.partyPolitics + [\"democratic\", \"republican\"],\n",
    "        [\n",
    "            \"elected as a republican\",\n",
    "            \"united states\",\n",
    "            \"unsuccessful\",\n",
    "            \"independent\",\n",
    "            \"select committee on the strategic competition\",\n",
    "            \"governor of maine\",\n",
    "        ],\n",
    "    )\n",
    ")"
   ]
  },
  {
   "cell_type": "code",
   "execution_count": 41,
   "metadata": {},
   "outputs": [],
   "source": [
    "currentBios[\"sciOrEng\"] = currentBios.profileText.apply(\n",
    "    lambda x: splitAndTest(x, utils.sciOrEng, [\"b.s.\", \"m.s.\"])\n",
    ")"
   ]
  },
  {
   "cell_type": "code",
   "execution_count": 42,
   "metadata": {},
   "outputs": [],
   "source": [
    "currentBios[\"religion\"] = currentBios.profileText.apply(\n",
    "    lambda x: splitAndTest(x, utils.religion, [\"b.s.\", \"m.s.\"])\n",
    ")"
   ]
  },
  {
   "cell_type": "code",
   "execution_count": 43,
   "metadata": {},
   "outputs": [],
   "source": [
    "currentBios[\"healthcare\"] = currentBios.profileText.apply(\n",
    "    lambda x: splitAndTest(x, utils.healthcare, [\"b.s.\", \"m.s.\", \"m.d.\"])\n",
    ")"
   ]
  },
  {
   "cell_type": "code",
   "execution_count": 44,
   "metadata": {},
   "outputs": [],
   "source": [
    "currentBios[\"blueCollarOrServiceJob\"] = currentBios.profileText.apply(\n",
    "    lambda x: splitAndTest(x, utils.blueCollarOrServiceJob, [\"academy\"])\n",
    ")"
   ]
  },
  {
   "cell_type": "code",
   "execution_count": 45,
   "metadata": {},
   "outputs": [],
   "source": [
    "currentBios[\"education\"] = currentBios.profileText.apply(\n",
    "    lambda x: splitAndTest(x, utils.education, [\"elected as a republican\"])\n",
    ")"
   ]
  },
  {
   "cell_type": "code",
   "execution_count": 46,
   "metadata": {},
   "outputs": [],
   "source": [
    "currentBios[\"nonprofitsAndUnions\"] = currentBios.profileText.apply(\n",
    "    lambda x: splitAndTest(\n",
    "        x,\n",
    "        utils.nonprofitsAndUnions,\n",
    "        [\n",
    "            \"credit union\",\n",
    "            \"union, n.j.\",\n",
    "            \"union county, n.j.\",\n",
    "            \"union, miss.\",\n",
    "            \"union city\",\n",
    "            \"union theological seminary\",\n",
    "            \"ph.d., union institute\",\n",
    "        ],\n",
    "    )\n",
    ")"
   ]
  },
  {
   "cell_type": "code",
   "execution_count": 47,
   "metadata": {},
   "outputs": [],
   "source": [
    "currentBios[\"sports\"] = currentBios.profileText.apply(\n",
    "    lambda x: splitAndTest(x, utils.sports, [\"coachella valley high school\"])\n",
    ")"
   ]
  },
  {
   "cell_type": "code",
   "execution_count": 48,
   "metadata": {},
   "outputs": [],
   "source": [
    "currentBios[\"media\"] = currentBios.profileText.apply(\n",
    "    lambda x: splitAndTest(\n",
    "        x, utils.media, [\"anchorage\", \"authority\", \"authorized\", \"speechwriter\"]\n",
    "    )\n",
    ")"
   ]
  },
  {
   "cell_type": "code",
   "execution_count": 49,
   "metadata": {},
   "outputs": [],
   "source": [
    "currentBios[\"realEstate\"] = currentBios.profileText.apply(\n",
    "    lambda x: splitAndTest(x, utils.realEstate)\n",
    ")"
   ]
  },
  {
   "cell_type": "code",
   "execution_count": 50,
   "metadata": {},
   "outputs": [],
   "source": [
    "currentBios[\"lawEnforcement\"] = currentBios.profileText.apply(\n",
    "    lambda x: splitAndTest(x, utils.lawEnforcement, [\"attorney\"])\n",
    ")"
   ]
  },
  {
   "cell_type": "code",
   "execution_count": 51,
   "metadata": {},
   "outputs": [],
   "source": [
    "currentBios[\"farmingOrRanching\"] = currentBios.profileText.apply(\n",
    "    lambda x: splitAndTest(\n",
    "        x, utils.farmingOrRanching, [\"chair, committee on agriculture\", \"administrator\"]\n",
    "    )\n",
    ")"
   ]
  },
  {
   "cell_type": "code",
   "execution_count": 52,
   "metadata": {},
   "outputs": [],
   "source": [
    "currentBios[\"businessOrManagement\"] = currentBios.profileText.apply(\n",
    "    lambda x: splitAndTest(\n",
    "        x,\n",
    "        utils.businessOrManagement,\n",
    "        [\n",
    "            \"campaign consultant\",\n",
    "            \"central intelligence agency\",\n",
    "            \"national nuclear security administration\",\n",
    "            \"fairbanks\",\n",
    "            \"committee on banking\",\n",
    "            \"b.a., business administration\",\n",
    "            \"county executive\",\n",
    "            \"red bank, monmouth county\",\n",
    "            \"executive office of the president\",\n",
    "            \"committee on small business\",\n",
    "            \"osceola\",\n",
    "            \"nonprofit\",\n",
    "            \"non-profit\",\n",
    "            \"small business administration\",\n",
    "            \"federal coordinator for gulf coast rebuilding\",\n",
    "            \"m.b.a.\",\n",
    "            \"m.p.a\",\n",
    "            \"bankruptcy court\",\n",
    "            \"business administration\",\n",
    "            \"secretary of state\",\n",
    "            \"government analyst\",\n",
    "            \"california democratic state central executive committee\",\n",
    "            \"executive director, human services\",\n",
    "            \"jefferson county\",\n",
    "            \"business regulation\",\n",
    "            \"commission\",\n",
    "            \"department of regulatory agencies\",\n",
    "            \"nevada system of higher education\",\n",
    "            \"republican state committee\",\n",
    "            \"workers' compensation board\",\n",
    "            \"afl-cio\",\n",
    "        ],\n",
    "    )\n",
    ")"
   ]
  },
  {
   "cell_type": "code",
   "execution_count": 53,
   "metadata": {},
   "outputs": [],
   "source": [
    "currentBios[\"lobbyingOrPacs\"] = currentBios.profileText.apply(\n",
    "    lambda x: splitAndTest(x, utils.lobbyingOrActivism)\n",
    ")"
   ]
  },
  {
   "cell_type": "code",
   "execution_count": 54,
   "metadata": {},
   "outputs": [],
   "source": [
    "currentBios[\"localGov\"] = currentBios.profileText.apply(\n",
    "    lambda x: splitAndTest(\n",
    "        x, utils.localGov, [\"graduated from\", \"b.a.\", \"unsuccessful candidate for\"]\n",
    "    )\n",
    ")"
   ]
  },
  {
   "cell_type": "code",
   "execution_count": 55,
   "metadata": {},
   "outputs": [],
   "source": [
    "currentBios[\"stateLeg\"] = currentBios.profileText.apply(\n",
    "    lambda x: splitAndTest(\n",
    "        x,\n",
    "        utils.stateLeg,\n",
    "        [\"legislative assistant\", \"aide\", \"staff\", \"counsel\", \"fellow\", \"unsuccessful\"],\n",
    "    )\n",
    ")"
   ]
  },
  {
   "cell_type": "code",
   "execution_count": 56,
   "metadata": {},
   "outputs": [],
   "source": [
    "currentBios[\"electedFedOrStateOffice\"] = currentBios.profileText.apply(\n",
    "    lambda x: splitAndTest(\n",
    "        x,\n",
    "        utils.electedFedOrStateOffice,\n",
    "        [\n",
    "            \"appointed\",\n",
    "            \"assistant u.s. secretary of state\",\n",
    "            \"inland empire regional office\",\n",
    "            \"counsel\",\n",
    "            \"advisor\",\n",
    "            \"unsuccessful\",\n",
    "            \"lost general election\",\n",
    "        ],\n",
    "    )\n",
    ")"
   ]
  },
  {
   "cell_type": "code",
   "execution_count": 57,
   "metadata": {},
   "outputs": [],
   "source": [
    "currentBios[\"nonElectedGovJob\"] = currentBios.profileText.apply(\n",
    "    lambda x: splitAndTest(\n",
    "        x,\n",
    "        utils.nonElectedGovJob + [\"advisor\"],\n",
    "        [\n",
    "            \"county\",\n",
    "            \"college\",\n",
    "            \"development advisor\",\n",
    "            \"emergency 9-1-1 dispatcher\",\n",
    "            \"nonprofit organization\",\n",
    "            \"n.y. council\",\n",
    "            \"graduated\",\n",
    "            \"postal inspector\",\n",
    "            \"inland empire regional office\",\n",
    "            \"chapel hill, n.c., police department\",\n",
    "            \"long beach, calif\",\n",
    "        ],\n",
    "    )\n",
    ")"
   ]
  }
 ],
 "metadata": {
  "kernelspec": {
   "display_name": ".venv",
   "language": "python",
   "name": "python3"
  },
  "language_info": {
   "codemirror_mode": {
    "name": "ipython",
    "version": 3
   },
   "file_extension": ".py",
   "mimetype": "text/x-python",
   "name": "python",
   "nbconvert_exporter": "python",
   "pygments_lexer": "ipython3",
   "version": "3.12.7"
  }
 },
 "nbformat": 4,
 "nbformat_minor": 2
}
