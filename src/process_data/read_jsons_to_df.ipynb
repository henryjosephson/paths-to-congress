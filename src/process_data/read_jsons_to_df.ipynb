{
 "cells": [
  {
   "cell_type": "code",
   "execution_count": 1,
   "metadata": {},
   "outputs": [],
   "source": [
    "import pandas as pd\n",
    "import utils\n",
    "\n",
    "bios = pd.read_json(\"../../data/congress-bios.json\")\n",
    "currentBios = bios[bios.congresses.apply(lambda x: 118 in x)]"
   ]
  },
  {
   "cell_type": "markdown",
   "metadata": {},
   "source": [
    "...what is that at 12395?"
   ]
  },
  {
   "cell_type": "code",
   "execution_count": 2,
   "metadata": {},
   "outputs": [
    {
     "data": {
      "text/plain": [
       "'<!-- [if gte mso 9]><xml>\\n <o:OfficeDocumentSettings>\\n  <o:AllowPNG/>\\n </o:OfficeDocumentSettings>\\n</xml><![endif]--><!-- [if gte mso 9]><xml>\\n <w:WordDocument>\\n  <w:View>Normal</w:View>\\n  <w:Zoom>0</w:Zoom>\\n  <w:TrackMoves/>\\n  <w:TrackFormatting/>\\n  <w:PunctuationKerning/>\\n  <w:ValidateAgainstSchemas/>\\n  <w:SaveIfXMLInvalid>false</w:SaveIfXMLInvalid>\\n  <w:IgnoreMixedContent>false</w:IgnoreMixedContent>\\n  <w:AlwaysShowPlaceholderText>false</w:AlwaysShowPlaceholderText>\\n  <w:DoNotPromoteQF/>\\n  <w:LidThemeOther>EN-US</w:LidThemeOther>\\n  <w:LidThemeAsian>X-NONE</w:LidThemeAsian>\\n  <w:LidThemeComplexScript>X-NONE</w:LidThemeComplexScript>\\n  <w:Compatibility>\\n   <w:BreakWrappedTables/>\\n   <w:SnapToGridInCell/>\\n   <w:WrapTextWithPunct/>\\n   <w:UseAsianBreakRules/>\\n   <w:DontGrowAutofit/>\\n   <w:SplitPgBreakAndParaMark/>\\n   <w:EnableOpenTypeKerning/>\\n   <w:DontFlipMirrorIndents/>\\n   <w:OverrideTableStyleHps/>\\n  </w:Compatibility>\\n  <m:mathPr>\\n   <m:mathFont m:val=\"Cambria Math\"/>\\n   <m:brkBin m:val=\"before\"/>\\n   <m:brkBinSub m:val=\"&#45;-\"/>\\n   <m:smallFrac m:val=\"off\"/>\\n   <m:dispDef/>\\n   <m:lMargin m:val=\"0\"/>\\n   <m:rMargin m:val=\"0\"/>\\n   <m:defJc m:val=\"centerGroup\"/>\\n   <m:wrapIndent m:val=\"1440\"/>\\n   <m:intLim m:val=\"subSup\"/>\\n   <m:naryLim m:val=\"undOvr\"/>\\n  </m:mathPr></w:WordDocument>\\n</xml><![endif]--><!-- [if gte mso 9]><xml>\\n <w:LatentStyles DefLockedState=\"false\" DefUnhideWhenUsed=\"false\"\\n  DefSemiHidden=\"false\" DefQFormat=\"false\" DefPriority=\"99\"\\n  LatentStyleCount=\"371\">\\n  <w:LsdException Locked=\"false\" Priority=\"0\" QFormat=\"true\" Name=\"Normal\"/>\\n  <w:LsdException Locked=\"false\" Priority=\"9\" QFormat=\"true\" Name=\"heading 1\"/>\\n  <w:LsdException Locked=\"false\" Priority=\"9\" SemiHidden=\"true\"\\n   UnhideWhenUsed=\"true\" QFormat=\"true\" Name=\"heading 2\"/>\\n  <w:LsdException Locked=\"false\" Priority=\"9\" SemiHidden=\"true\"\\n   UnhideWhenUsed=\"true\" QFormat=\"true\" Name=\"heading 3\"/>\\n  <w:LsdException Locked=\"false\" Priority=\"9\" SemiHidden=\"true\"\\n   UnhideWhenUsed=\"true\" QFormat=\"true\" Name=\"heading 4\"/>\\n  <w:LsdException Locked=\"false\" Priority=\"9\" SemiHidden=\"true\"\\n   UnhideWhenUsed=\"true\" QFormat=\"true\" Name=\"heading 5\"/>\\n  <w:LsdException Locked=\"false\" Priority=\"9\" SemiHidden=\"true\"\\n   UnhideWhenUsed=\"true\" QFormat=\"true\" Name=\"heading 6\"/>\\n  <w:LsdException Locked=\"false\" Priority=\"9\" SemiHidden=\"true\"\\n   UnhideWhenUsed=\"true\" QFormat=\"true\" Name=\"heading 7\"/>\\n  <w:LsdException Locked=\"false\" Priority=\"9\" SemiHidden=\"true\"\\n   UnhideWhenUsed=\"true\" QFormat=\"true\" Name=\"heading 8\"/>\\n  <w:LsdException Locked=\"false\" Priority=\"9\" SemiHidden=\"true\"\\n   UnhideWhenUsed=\"true\" QFormat=\"true\" Name=\"heading 9\"/>\\n  <w:LsdException Locked=\"false\" SemiHidden=\"true\" UnhideWhenUsed=\"true\"\\n   Name=\"index 1\"/>\\n  <w:LsdException Locked=\"false\" SemiHidden=\"true\" UnhideWhenUsed=\"true\"\\n   Name=\"index 2\"/>\\n  <w:LsdException Locked=\"false\" SemiHidden=\"true\" UnhideWhenUsed=\"true\"\\n   Name=\"index 3\"/>\\n  <w:LsdException Locked=\"false\" SemiHidden=\"true\" UnhideWhenUsed=\"true\"\\n   Name=\"index 4\"/>\\n  <w:LsdException Locked=\"false\" SemiHidden=\"true\" UnhideWhenUsed=\"true\"\\n   Name=\"index 5\"/>\\n  <w:LsdException Locked=\"false\" SemiHidden=\"true\" UnhideWhenUsed=\"true\"\\n   Name=\"index 6\"/>\\n  <w:LsdException Locked=\"false\" SemiHidden=\"true\" UnhideWhenUsed=\"true\"\\n   Name=\"index 7\"/>\\n  <w:LsdException Locked=\"false\" SemiHidden=\"true\" UnhideWhenUsed=\"true\"\\n   Name=\"index 8\"/>\\n  <w:LsdException Locked=\"false\" SemiHidden=\"true\" UnhideWhenUsed=\"true\"\\n   Name=\"index 9\"/>\\n  <w:LsdException Locked=\"false\" Priority=\"39\" SemiHidden=\"true\"\\n   UnhideWhenUsed=\"true\" Name=\"toc 1\"/>\\n  <w:LsdException Locked=\"false\" Priority=\"39\" SemiHidden=\"true\"\\n   UnhideWhenUsed=\"true\" Name=\"toc 2\"/>\\n  <w:LsdException Locked=\"false\" Priority=\"39\" SemiHidden=\"true\"\\n   UnhideWhenUsed=\"true\" Name=\"toc 3\"/>\\n  <w:LsdException Locked=\"false\" Priority=\"39\" SemiHidden=\"true\"\\n   UnhideWhenUsed=\"true\" Name=\"toc 4\"/>\\n  <w:LsdException Locked=\"false\" Priority=\"39\" SemiHidden=\"true\"\\n   UnhideWhenUsed=\"true\" Name=\"toc 5\"/>\\n  <w:LsdException Locked=\"false\" Priority=\"39\" SemiHidden=\"true\"\\n   UnhideWhenUsed=\"true\" Name=\"toc 6\"/>\\n  <w:LsdException Locked=\"false\" Priority=\"39\" SemiHidden=\"true\"\\n   UnhideWhenUsed=\"true\" Name=\"toc 7\"/>\\n  <w:LsdException Locked=\"false\" Priority=\"39\" SemiHidden=\"true\"\\n   UnhideWhenUsed=\"true\" Name=\"toc 8\"/>\\n  <w:LsdException Locked=\"false\" Priority=\"39\" SemiHidden=\"true\"\\n   UnhideWhenUsed=\"true\" Name=\"toc 9\"/>\\n  <w:LsdException Locked=\"false\" SemiHidden=\"true\" UnhideWhenUsed=\"true\"\\n   Name=\"Normal Indent\"/>\\n  <w:LsdException Locked=\"false\" SemiHidden=\"true\" UnhideWhenUsed=\"true\"\\n   Name=\"footnote text\"/>\\n  <w:LsdException Locked=\"false\" SemiHidden=\"true\" UnhideWhenUsed=\"true\"\\n   Name=\"annotation text\"/>\\n  <w:LsdException Locked=\"false\" SemiHidden=\"true\" UnhideWhenUsed=\"true\"\\n   Name=\"header\"/>\\n  <w:LsdException Locked=\"false\" SemiHidden=\"true\" UnhideWhenUsed=\"true\"\\n   Name=\"footer\"/>\\n  <w:LsdException Locked=\"false\" SemiHidden=\"true\" UnhideWhenUsed=\"true\"\\n   Name=\"index heading\"/>\\n  <w:LsdException Locked=\"false\" Priority=\"35\" SemiHidden=\"true\"\\n   UnhideWhenUsed=\"true\" QFormat=\"true\" Name=\"caption\"/>\\n  <w:LsdException Locked=\"false\" SemiHidden=\"true\" UnhideWhenUsed=\"true\"\\n   Name=\"table of figures\"/>\\n  <w:LsdException Locked=\"false\" SemiHidden=\"true\" UnhideWhenUsed=\"true\"\\n   Name=\"envelope address\"/>\\n  <w:LsdException Locked=\"false\" SemiHidden=\"true\" UnhideWhenUsed=\"true\"\\n   Name=\"envelope return\"/>\\n  <w:LsdException Locked=\"false\" SemiHidden=\"true\" UnhideWhenUsed=\"true\"\\n   Name=\"footnote reference\"/>\\n  <w:LsdException Locked=\"false\" SemiHidden=\"true\" UnhideWhenUsed=\"true\"\\n   Name=\"annotation reference\"/>\\n  <w:LsdException Locked=\"false\" SemiHidden=\"true\" UnhideWhenUsed=\"true\"\\n   Name=\"line number\"/>\\n  <w:LsdException Locked=\"false\" SemiHidden=\"true\" UnhideWhenUsed=\"true\"\\n   Name=\"page number\"/>\\n  <w:LsdException Locked=\"false\" SemiHidden=\"true\" UnhideWhenUsed=\"true\"\\n   Name=\"endnote reference\"/>\\n  <w:LsdException Locked=\"false\" SemiHidden=\"true\" UnhideWhenUsed=\"true\"\\n   Name=\"endnote text\"/>\\n  <w:LsdException Locked=\"false\" SemiHidden=\"true\" UnhideWhenUsed=\"true\"\\n   Name=\"table of authorities\"/>\\n  <w:LsdException Locked=\"false\" SemiHidden=\"true\" UnhideWhenUsed=\"true\"\\n   Name=\"macro\"/>\\n  <w:LsdException Locked=\"false\" SemiHidden=\"true\" UnhideWhenUsed=\"true\"\\n   Name=\"toa heading\"/>\\n  <w:LsdException Locked=\"false\" SemiHidden=\"true\" UnhideWhenUsed=\"true\"\\n   Name=\"List\"/>\\n  <w:LsdException Locked=\"false\" SemiHidden=\"true\" UnhideWhenUsed=\"true\"\\n   Name=\"List Bullet\"/>\\n  <w:LsdException Locked=\"false\" SemiHidden=\"true\" UnhideWhenUsed=\"true\"\\n   Name=\"List Number\"/>\\n  <w:LsdException Locked=\"false\" SemiHidden=\"true\" UnhideWhenUsed=\"true\"\\n   Name=\"List 2\"/>\\n  <w:LsdException Locked=\"false\" SemiHidden=\"true\" UnhideWhenUsed=\"true\"\\n   Name=\"List 3\"/>\\n  <w:LsdException Locked=\"false\" SemiHidden=\"true\" UnhideWhenUsed=\"true\"\\n   Name=\"List 4\"/>\\n  <w:LsdException Locked=\"false\" SemiHidden=\"true\" UnhideWhenUsed=\"true\"\\n   Name=\"List 5\"/>\\n  <w:LsdException Locked=\"false\" SemiHidden=\"true\" UnhideWhenUsed=\"true\"\\n   Name=\"List Bullet 2\"/>\\n  <w:LsdException Locked=\"false\" SemiHidden=\"true\" UnhideWhenUsed=\"true\"\\n   Name=\"List Bullet 3\"/>\\n  <w:LsdException Locked=\"false\" SemiHidden=\"true\" UnhideWhenUsed=\"true\"\\n   Name=\"List Bullet 4\"/>\\n  <w:LsdException Locked=\"false\" SemiHidden=\"true\" UnhideWhenUsed=\"true\"\\n   Name=\"List Bullet 5\"/>\\n  <w:LsdException Locked=\"false\" SemiHidden=\"true\" UnhideWhenUsed=\"true\"\\n   Name=\"List Number 2\"/>\\n  <w:LsdException Locked=\"false\" SemiHidden=\"true\" UnhideWhenUsed=\"true\"\\n   Name=\"List Number 3\"/>\\n  <w:LsdException Locked=\"false\" SemiHidden=\"true\" UnhideWhenUsed=\"true\"\\n   Name=\"List Number 4\"/>\\n  <w:LsdException Locked=\"false\" SemiHidden=\"true\" UnhideWhenUsed=\"true\"\\n   Name=\"List Number 5\"/>\\n  <w:LsdException Locked=\"false\" Priority=\"10\" QFormat=\"true\" Name=\"Title\"/>\\n  <w:LsdException Locked=\"false\" SemiHidden=\"true\" UnhideWhenUsed=\"true\"\\n   Name=\"Closing\"/>\\n  <w:LsdException Locked=\"false\" SemiHidden=\"true\" UnhideWhenUsed=\"true\"\\n   Name=\"Signature\"/>\\n  <w:LsdException Locked=\"false\" Priority=\"1\" SemiHidden=\"true\"\\n   UnhideWhenUsed=\"true\" Name=\"Default Paragraph Font\"/>\\n  <w:LsdException Locked=\"false\" SemiHidden=\"true\" UnhideWhenUsed=\"true\"\\n   Name=\"Body Text\"/>\\n  <w:LsdException Locked=\"false\" SemiHidden=\"true\" UnhideWhenUsed=\"true\"\\n   Name=\"Body Text Indent\"/>\\n  <w:LsdException Locked=\"false\" SemiHidden=\"true\" UnhideWhenUsed=\"true\"\\n   Name=\"List Continue\"/>\\n  <w:LsdException Locked=\"false\" SemiHidden=\"true\" UnhideWhenUsed=\"true\"\\n   Name=\"List Continue 2\"/>\\n  <w:LsdException Locked=\"false\" SemiHidden=\"true\" UnhideWhenUsed=\"true\"\\n   Name=\"List Continue 3\"/>\\n  <w:LsdException Locked=\"false\" SemiHidden=\"true\" UnhideWhenUsed=\"true\"\\n   Name=\"List Continue 4\"/>\\n  <w:LsdException Locked=\"false\" SemiHidden=\"true\" UnhideWhenUsed=\"true\"\\n   Name=\"List Continue 5\"/>\\n  <w:LsdException Locked=\"false\" SemiHidden=\"true\" UnhideWhenUsed=\"true\"\\n   Name=\"Message Header\"/>\\n  <w:LsdException Locked=\"false\" Priority=\"11\" QFormat=\"true\" Name=\"Subtitle\"/>\\n  <w:LsdException Locked=\"false\" SemiHidden=\"true\" UnhideWhenUsed=\"true\"\\n   Name=\"Salutation\"/>\\n  <w:LsdException Locked=\"false\" SemiHidden=\"true\" UnhideWhenUsed=\"true\"\\n   Name=\"Date\"/>\\n  <w:LsdException Locked=\"false\" SemiHidden=\"true\" UnhideWhenUsed=\"true\"\\n   Name=\"Body Text First Indent\"/>\\n  <w:LsdException Locked=\"false\" SemiHidden=\"true\" UnhideWhenUsed=\"true\"\\n   Name=\"Body Text First Indent 2\"/>\\n  <w:LsdException Locked=\"false\" SemiHidden=\"true\" UnhideWhenUsed=\"true\"\\n   Name=\"Note Heading\"/>\\n  <w:LsdException Locked=\"false\" SemiHidden=\"true\" UnhideWhenUsed=\"true\"\\n   Name=\"Body Text 2\"/>\\n  <w:LsdException Locked=\"false\" SemiHidden=\"true\" UnhideWhenUsed=\"true\"\\n   Name=\"Body Text 3\"/>\\n  <w:LsdException Locked=\"false\" SemiHidden=\"true\" UnhideWhenUsed=\"true\"\\n   Name=\"Body Text Indent 2\"/>\\n  <w:LsdException Locked=\"false\" SemiHidden=\"true\" UnhideWhenUsed=\"true\"\\n   Name=\"Body Text Indent 3\"/>\\n  <w:LsdException Locked=\"false\" SemiHidden=\"true\" UnhideWhenUsed=\"true\"\\n   Name=\"Block Text\"/>\\n  <w:LsdException Locked=\"false\" SemiHidden=\"true\" UnhideWhenUsed=\"true\"\\n   Name=\"Hyperlink\"/>\\n  <w:LsdException Locked=\"false\" SemiHidden=\"true\" UnhideWhenUsed=\"true\"\\n   Name=\"FollowedHyperlink\"/>\\n  <w:LsdException Locked=\"false\" Priority=\"22\" QFormat=\"true\" Name=\"Strong\"/>\\n  <w:LsdException Locked=\"false\" Priority=\"20\" QFormat=\"true\" Name=\"Emphasis\"/>\\n  <w:LsdException Locked=\"false\" SemiHidden=\"true\" UnhideWhenUsed=\"true\"\\n   Name=\"Document Map\"/>\\n  <w:LsdException Locked=\"false\" SemiHidden=\"true\" UnhideWhenUsed=\"true\"\\n   Name=\"Plain Text\"/>\\n  <w:LsdException Locked=\"false\" SemiHidden=\"true\" UnhideWhenUsed=\"true\"\\n   Name=\"E-mail Signature\"/>\\n  <w:LsdException Locked=\"false\" SemiHidden=\"true\" UnhideWhenUsed=\"true\"\\n   Name=\"HTML Top of Form\"/>\\n  <w:LsdException Locked=\"false\" SemiHidden=\"true\" UnhideWhenUsed=\"true\"\\n   Name=\"HTML Bottom of Form\"/>\\n  <w:LsdException Locked=\"false\" SemiHidden=\"true\" UnhideWhenUsed=\"true\"\\n   Name=\"Normal (Web)\"/>\\n  <w:LsdException Locked=\"false\" SemiHidden=\"true\" UnhideWhenUsed=\"true\"\\n   Name=\"HTML Acronym\"/>\\n  <w:LsdException Locked=\"false\" SemiHidden=\"true\" UnhideWhenUsed=\"true\"\\n   Name=\"HTML Address\"/>\\n  <w:LsdException Locked=\"false\" SemiHidden=\"true\" UnhideWhenUsed=\"true\"\\n   Name=\"HTML Cite\"/>\\n  <w:LsdException Locked=\"false\" SemiHidden=\"true\" UnhideWhenUsed=\"true\"\\n   Name=\"HTML Code\"/>\\n  <w:LsdException Locked=\"false\" SemiHidden=\"true\" UnhideWhenUsed=\"true\"\\n   Name=\"HTML Definition\"/>\\n  <w:LsdException Locked=\"false\" SemiHidden=\"true\" UnhideWhenUsed=\"true\"\\n   Name=\"HTML Keyboard\"/>\\n  <w:LsdException Locked=\"false\" SemiHidden=\"true\" UnhideWhenUsed=\"true\"\\n   Name=\"HTML Preformatted\"/>\\n  <w:LsdException Locked=\"false\" SemiHidden=\"true\" UnhideWhenUsed=\"true\"\\n   Name=\"HTML Sample\"/>\\n  <w:LsdException Locked=\"false\" SemiHidden=\"true\" UnhideWhenUsed=\"true\"\\n   Name=\"HTML Typewriter\"/>\\n  <w:LsdException Locked=\"false\" SemiHidden=\"true\" UnhideWhenUsed=\"true\"\\n   Name=\"HTML Variable\"/>\\n  <w:LsdException Locked=\"false\" SemiHidden=\"true\" UnhideWhenUsed=\"true\"\\n   Name=\"Normal Table\"/>\\n  <w:LsdException Locked=\"false\" SemiHidden=\"true\" UnhideWhenUsed=\"true\"\\n   Name=\"annotation subject\"/>\\n  <w:LsdException Locked=\"false\" SemiHidden=\"true\" UnhideWhenUsed=\"true\"\\n   Name=\"No List\"/>\\n  <w:LsdException Locked=\"false\" SemiHidden=\"true\" UnhideWhenUsed=\"true\"\\n   Name=\"Outline List 1\"/>\\n  <w:LsdException Locked=\"false\" SemiHidden=\"true\" UnhideWhenUsed=\"true\"\\n   Name=\"Outline List 2\"/>\\n  <w:LsdException Locked=\"false\" SemiHidden=\"true\" UnhideWhenUsed=\"true\"\\n   Name=\"Outline List 3\"/>\\n  <w:LsdException Locked=\"false\" SemiHidden=\"true\" UnhideWhenUsed=\"true\"\\n   Name=\"Table Simple 1\"/>\\n  <w:LsdException Locked=\"false\" SemiHidden=\"true\" UnhideWhenUsed=\"true\"\\n   Name=\"Table Simple 2\"/>\\n  <w:LsdException Locked=\"false\" SemiHidden=\"true\" UnhideWhenUsed=\"true\"\\n   Name=\"Table Simple 3\"/>\\n  <w:LsdException Locked=\"false\" SemiHidden=\"true\" UnhideWhenUsed=\"true\"\\n   Name=\"Table Classic 1\"/>\\n  <w:LsdException Locked=\"false\" SemiHidden=\"true\" UnhideWhenUsed=\"true\"\\n   Name=\"Table Classic 2\"/>\\n  <w:LsdException Locked=\"false\" SemiHidden=\"true\" UnhideWhenUsed=\"true\"\\n   Name=\"Table Classic 3\"/>\\n  <w:LsdException Locked=\"false\" SemiHidden=\"true\" UnhideWhenUsed=\"true\"\\n   Name=\"Table Classic 4\"/>\\n  <w:LsdException Locked=\"false\" SemiHidden=\"true\" UnhideWhenUsed=\"true\"\\n   Name=\"Table Colorful 1\"/>\\n  <w:LsdException Locked=\"false\" SemiHidden=\"true\" UnhideWhenUsed=\"true\"\\n   Name=\"Table Colorful 2\"/>\\n  <w:LsdException Locked=\"false\" SemiHidden=\"true\" UnhideWhenUsed=\"true\"\\n   Name=\"Table Colorful 3\"/>\\n  <w:LsdException Locked=\"false\" SemiHidden=\"true\" UnhideWhenUsed=\"true\"\\n   Name=\"Table Columns 1\"/>\\n  <w:LsdException Locked=\"false\" SemiHidden=\"true\" UnhideWhenUsed=\"true\"\\n   Name=\"Table Columns 2\"/>\\n  <w:LsdException Locked=\"false\" SemiHidden=\"true\" UnhideWhenUsed=\"true\"\\n   Name=\"Table Columns 3\"/>\\n  <w:LsdException Locked=\"false\" SemiHidden=\"true\" UnhideWhenUsed=\"true\"\\n   Name=\"Table Columns 4\"/>\\n  <w:LsdException Locked=\"false\" SemiHidden=\"true\" UnhideWhenUsed=\"true\"\\n   Name=\"Table Columns 5\"/>\\n  <w:LsdException Locked=\"false\" SemiHidden=\"true\" UnhideWhenUsed=\"true\"\\n   Name=\"Table Grid 1\"/>\\n  <w:LsdException Locked=\"false\" SemiHidden=\"true\" UnhideWhenUsed=\"true\"\\n   Name=\"Table Grid 2\"/>\\n  <w:LsdException Locked=\"false\" SemiHidden=\"true\" UnhideWhenUsed=\"true\"\\n   Name=\"Table Grid 3\"/>\\n  <w:LsdException Locked=\"false\" SemiHidden=\"true\" UnhideWhenUsed=\"true\"\\n   Name=\"Table Grid 4\"/>\\n  <w:LsdException Locked=\"false\" SemiHidden=\"true\" UnhideWhenUsed=\"true\"\\n   Name=\"Table Grid 5\"/>\\n  <w:LsdException Locked=\"false\" SemiHidden=\"true\" UnhideWhenUsed=\"true\"\\n   Name=\"Table Grid 6\"/>\\n  <w:LsdException Locked=\"false\" SemiHidden=\"true\" UnhideWhenUsed=\"true\"\\n   Name=\"Table Grid 7\"/>\\n  <w:LsdException Locked=\"false\" SemiHidden=\"true\" UnhideWhenUsed=\"true\"\\n   Name=\"Table Grid 8\"/>\\n  <w:LsdException Locked=\"false\" SemiHidden=\"true\" UnhideWhenUsed=\"true\"\\n   Name=\"Table List 1\"/>\\n  <w:LsdException Locked=\"false\" SemiHidden=\"true\" UnhideWhenUsed=\"true\"\\n   Name=\"Table List 2\"/>\\n  <w:LsdException Locked=\"false\" SemiHidden=\"true\" UnhideWhenUsed=\"true\"\\n   Name=\"Table List 3\"/>\\n  <w:LsdException Locked=\"false\" SemiHidden=\"true\" UnhideWhenUsed=\"true\"\\n   Name=\"Table List 4\"/>\\n  <w:LsdException Locked=\"false\" SemiHidden=\"true\" UnhideWhenUsed=\"true\"\\n   Name=\"Table List 5\"/>\\n  <w:LsdException Locked=\"false\" SemiHidden=\"true\" UnhideWhenUsed=\"true\"\\n   Name=\"Table List 6\"/>\\n  <w:LsdException Locked=\"false\" SemiHidden=\"true\" UnhideWhenUsed=\"true\"\\n   Name=\"Table List 7\"/>\\n  <w:LsdException Locked=\"false\" SemiHidden=\"true\" UnhideWhenUsed=\"true\"\\n   Name=\"Table List 8\"/>\\n  <w:LsdException Locked=\"false\" SemiHidden=\"true\" UnhideWhenUsed=\"true\"\\n   Name=\"Table 3D effects 1\"/>\\n  <w:LsdException Locked=\"false\" SemiHidden=\"true\" UnhideWhenUsed=\"true\"\\n   Name=\"Table 3D effects 2\"/>\\n  <w:LsdException Locked=\"false\" SemiHidden=\"true\" UnhideWhenUsed=\"true\"\\n   Name=\"Table 3D effects 3\"/>\\n  <w:LsdException Locked=\"false\" SemiHidden=\"true\" UnhideWhenUsed=\"true\"\\n   Name=\"Table Contemporary\"/>\\n  <w:LsdException Locked=\"false\" SemiHidden=\"true\" UnhideWhenUsed=\"true\"\\n   Name=\"Table Elegant\"/>\\n  <w:LsdException Locked=\"false\" SemiHidden=\"true\" UnhideWhenUsed=\"true\"\\n   Name=\"Table Professional\"/>\\n  <w:LsdException Locked=\"false\" SemiHidden=\"true\" UnhideWhenUsed=\"true\"\\n   Name=\"Table Subtle 1\"/>\\n  <w:LsdException Locked=\"false\" SemiHidden=\"true\" UnhideWhenUsed=\"true\"\\n   Name=\"Table Subtle 2\"/>\\n  <w:LsdException Locked=\"false\" SemiHidden=\"true\" UnhideWhenUsed=\"true\"\\n   Name=\"Table Web 1\"/>\\n  <w:LsdException Locked=\"false\" SemiHidden=\"true\" UnhideWhenUsed=\"true\"\\n   Name=\"Table Web 2\"/>\\n  <w:LsdException Locked=\"false\" SemiHidden=\"true\" UnhideWhenUsed=\"true\"\\n   Name=\"Table Web 3\"/>\\n  <w:LsdException Locked=\"false\" SemiHidden=\"true\" UnhideWhenUsed=\"true\"\\n   Name=\"Balloon Text\"/>\\n  <w:LsdException Locked=\"false\" Priority=\"39\" Name=\"Table Grid\"/>\\n  <w:LsdException Locked=\"false\" SemiHidden=\"true\" UnhideWhenUsed=\"true\"\\n   Name=\"Table Theme\"/>\\n  <w:LsdException Locked=\"false\" SemiHidden=\"true\" Name=\"Placeholder Text\"/>\\n  <w:LsdException Locked=\"false\" Priority=\"1\" QFormat=\"true\" Name=\"No Spacing\"/>\\n  <w:LsdException Locked=\"false\" Priority=\"60\" Name=\"Light Shading\"/>\\n  <w:LsdException Locked=\"false\" Priority=\"61\" Name=\"Light List\"/>\\n  <w:LsdException Locked=\"false\" Priority=\"62\" Name=\"Light Grid\"/>\\n  <w:LsdException Locked=\"false\" Priority=\"63\" Name=\"Medium Shading 1\"/>\\n  <w:LsdException Locked=\"false\" Priority=\"64\" Name=\"Medium Shading 2\"/>\\n  <w:LsdException Locked=\"false\" Priority=\"65\" Name=\"Medium List 1\"/>\\n  <w:LsdException Locked=\"false\" Priority=\"66\" Name=\"Medium List 2\"/>\\n  <w:LsdException Locked=\"false\" Priority=\"67\" Name=\"Medium Grid 1\"/>\\n  <w:LsdException Locked=\"false\" Priority=\"68\" Name=\"Medium Grid 2\"/>\\n  <w:LsdException Locked=\"false\" Priority=\"69\" Name=\"Medium Grid 3\"/>\\n  <w:LsdException Locked=\"false\" Priority=\"70\" Name=\"Dark List\"/>\\n  <w:LsdException Locked=\"false\" Priority=\"71\" Name=\"Colorful Shading\"/>\\n  <w:LsdException Locked=\"false\" Priority=\"72\" Name=\"Colorful List\"/>\\n  <w:LsdException Locked=\"false\" Priority=\"73\" Name=\"Colorful Grid\"/>\\n  <w:LsdException Locked=\"false\" Priority=\"60\" Name=\"Light Shading Accent 1\"/>\\n  <w:LsdException Locked=\"false\" Priority=\"61\" Name=\"Light List Accent 1\"/>\\n  <w:LsdException Locked=\"false\" Priority=\"62\" Name=\"Light Grid Accent 1\"/>\\n  <w:LsdException Locked=\"false\" Priority=\"63\" Name=\"Medium Shading 1 Accent 1\"/>\\n  <w:LsdException Locked=\"false\" Priority=\"64\" Name=\"Medium Shading 2 Accent 1\"/>\\n  <w:LsdException Locked=\"false\" Priority=\"65\" Name=\"Medium List 1 Accent 1\"/>\\n  <w:LsdException Locked=\"false\" SemiHidden=\"true\" Name=\"Revision\"/>\\n  <w:LsdException Locked=\"false\" Priority=\"34\" QFormat=\"true\"\\n   Name=\"List Paragraph\"/>\\n  <w:LsdException Locked=\"false\" Priority=\"29\" QFormat=\"true\" Name=\"Quote\"/>\\n  <w:LsdException Locked=\"false\" Priority=\"30\" QFormat=\"true\"\\n   Name=\"Intense Quote\"/>\\n  <w:LsdException Locked=\"false\" Priority=\"66\" Name=\"Medium List 2 Accent 1\"/>\\n  <w:LsdException Locked=\"false\" Priority=\"67\" Name=\"Medium Grid 1 Accent 1\"/>\\n  <w:LsdException Locked=\"false\" Priority=\"68\" Name=\"Medium Grid 2 Accent 1\"/>\\n  <w:LsdException Locked=\"false\" Priority=\"69\" Name=\"Medium Grid 3 Accent 1\"/>\\n  <w:LsdException Locked=\"false\" Priority=\"70\" Name=\"Dark List Accent 1\"/>\\n  <w:LsdException Locked=\"false\" Priority=\"71\" Name=\"Colorful Shading Accent 1\"/>\\n  <w:LsdException Locked=\"false\" Priority=\"72\" Name=\"Colorful List Accent 1\"/>\\n  <w:LsdException Locked=\"false\" Priority=\"73\" Name=\"Colorful Grid Accent 1\"/>\\n  <w:LsdException Locked=\"false\" Priority=\"60\" Name=\"Light Shading Accent 2\"/>\\n  <w:LsdException Locked=\"false\" Priority=\"61\" Name=\"Light List Accent 2\"/>\\n  <w:LsdException Locked=\"false\" Priority=\"62\" Name=\"Light Grid Accent 2\"/>\\n  <w:LsdException Locked=\"false\" Priority=\"63\" Name=\"Medium Shading 1 Accent 2\"/>\\n  <w:LsdException Locked=\"false\" Priority=\"64\" Name=\"Medium Shading 2 Accent 2\"/>\\n  <w:LsdException Locked=\"false\" Priority=\"65\" Name=\"Medium List 1 Accent 2\"/>\\n  <w:LsdException Locked=\"false\" Priority=\"66\" Name=\"Medium List 2 Accent 2\"/>\\n  <w:LsdException Locked=\"false\" Priority=\"67\" Name=\"Medium Grid 1 Accent 2\"/>\\n  <w:LsdException Locked=\"false\" Priority=\"68\" Name=\"Medium Grid 2 Accent 2\"/>\\n  <w:LsdException Locked=\"false\" Priority=\"69\" Name=\"Medium Grid 3 Accent 2\"/>\\n  <w:LsdException Locked=\"false\" Priority=\"70\" Name=\"Dark List Accent 2\"/>\\n  <w:LsdException Locked=\"false\" Priority=\"71\" Name=\"Colorful Shading Accent 2\"/>\\n  <w:LsdException Locked=\"false\" Priority=\"72\" Name=\"Colorful List Accent 2\"/>\\n  <w:LsdException Locked=\"false\" Priority=\"73\" Name=\"Colorful Grid Accent 2\"/>\\n  <w:LsdException Locked=\"false\" Priority=\"60\" Name=\"Light Shading Accent 3\"/>\\n  <w:LsdException Locked=\"false\" Priority=\"61\" Name=\"Light List Accent 3\"/>\\n  <w:LsdException Locked=\"false\" Priority=\"62\" Name=\"Light Grid Accent 3\"/>\\n  <w:LsdException Locked=\"false\" Priority=\"63\" Name=\"Medium Shading 1 Accent 3\"/>\\n  <w:LsdException Locked=\"false\" Priority=\"64\" Name=\"Medium Shading 2 Accent 3\"/>\\n  <w:LsdException Locked=\"false\" Priority=\"65\" Name=\"Medium List 1 Accent 3\"/>\\n  <w:LsdException Locked=\"false\" Priority=\"66\" Name=\"Medium List 2 Accent 3\"/>\\n  <w:LsdException Locked=\"false\" Priority=\"67\" Name=\"Medium Grid 1 Accent 3\"/>\\n  <w:LsdException Locked=\"false\" Priority=\"68\" Name=\"Medium Grid 2 Accent 3\"/>\\n  <w:LsdException Locked=\"false\" Priority=\"69\" Name=\"Medium Grid 3 Accent 3\"/>\\n  <w:LsdException Locked=\"false\" Priority=\"70\" Name=\"Dark List Accent 3\"/>\\n  <w:LsdException Locked=\"false\" Priority=\"71\" Name=\"Colorful Shading Accent 3\"/>\\n  <w:LsdException Locked=\"false\" Priority=\"72\" Name=\"Colorful List Accent 3\"/>\\n  <w:LsdException Locked=\"false\" Priority=\"73\" Name=\"Colorful Grid Accent 3\"/>\\n  <w:LsdException Locked=\"false\" Priority=\"60\" Name=\"Light Shading Accent 4\"/>\\n  <w:LsdException Locked=\"false\" Priority=\"61\" Name=\"Light List Accent 4\"/>\\n  <w:LsdException Locked=\"false\" Priority=\"62\" Name=\"Light Grid Accent 4\"/>\\n  <w:LsdException Locked=\"false\" Priority=\"63\" Name=\"Medium Shading 1 Accent 4\"/>\\n  <w:LsdException Locked=\"false\" Priority=\"64\" Name=\"Medium Shading 2 Accent 4\"/>\\n  <w:LsdException Locked=\"false\" Priority=\"65\" Name=\"Medium List 1 Accent 4\"/>\\n  <w:LsdException Locked=\"false\" Priority=\"66\" Name=\"Medium List 2 Accent 4\"/>\\n  <w:LsdException Locked=\"false\" Priority=\"67\" Name=\"Medium Grid 1 Accent 4\"/>\\n  <w:LsdException Locked=\"false\" Priority=\"68\" Name=\"Medium Grid 2 Accent 4\"/>\\n  <w:LsdException Locked=\"false\" Priority=\"69\" Name=\"Medium Grid 3 Accent 4\"/>\\n  <w:LsdException Locked=\"false\" Priority=\"70\" Name=\"Dark List Accent 4\"/>\\n  <w:LsdException Locked=\"false\" Priority=\"71\" Name=\"Colorful Shading Accent 4\"/>\\n  <w:LsdException Locked=\"false\" Priority=\"72\" Name=\"Colorful List Accent 4\"/>\\n  <w:LsdException Locked=\"false\" Priority=\"73\" Name=\"Colorful Grid Accent 4\"/>\\n  <w:LsdException Locked=\"false\" Priority=\"60\" Name=\"Light Shading Accent 5\"/>\\n  <w:LsdException Locked=\"false\" Priority=\"61\" Name=\"Light List Accent 5\"/>\\n  <w:LsdException Locked=\"false\" Priority=\"62\" Name=\"Light Grid Accent 5\"/>\\n  <w:LsdException Locked=\"false\" Priority=\"63\" Name=\"Medium Shading 1 Accent 5\"/>\\n  <w:LsdException Locked=\"false\" Priority=\"64\" Name=\"Medium Shading 2 Accent 5\"/>\\n  <w:LsdException Locked=\"false\" Priority=\"65\" Name=\"Medium List 1 Accent 5\"/>\\n  <w:LsdException Locked=\"false\" Priority=\"66\" Name=\"Medium List 2 Accent 5\"/>\\n  <w:LsdException Locked=\"false\" Priority=\"67\" Name=\"Medium Grid 1 Accent 5\"/>\\n  <w:LsdException Locked=\"false\" Priority=\"68\" Name=\"Medium Grid 2 Accent 5\"/>\\n  <w:LsdException Locked=\"false\" Priority=\"69\" Name=\"Medium Grid 3 Accent 5\"/>\\n  <w:LsdException Locked=\"false\" Priority=\"70\" Name=\"Dark List Accent 5\"/>\\n  <w:LsdException Locked=\"false\" Priority=\"71\" Name=\"Colorful Shading Accent 5\"/>\\n  <w:LsdException Locked=\"false\" Priority=\"72\" Name=\"Colorful List Accent 5\"/>\\n  <w:LsdException Locked=\"false\" Priority=\"73\" Name=\"Colorful Grid Accent 5\"/>\\n  <w:LsdException Locked=\"false\" Priority=\"60\" Name=\"Light Shading Accent 6\"/>\\n  <w:LsdException Locked=\"false\" Priority=\"61\" Name=\"Light List Accent 6\"/>\\n  <w:LsdException Locked=\"false\" Priority=\"62\" Name=\"Light Grid Accent 6\"/>\\n  <w:LsdException Locked=\"false\" Priority=\"63\" Name=\"Medium Shading 1 Accent 6\"/>\\n  <w:LsdException Locked=\"false\" Priority=\"64\" Name=\"Medium Shading 2 Accent 6\"/>\\n  <w:LsdException Locked=\"false\" Priority=\"65\" Name=\"Medium List 1 Accent 6\"/>\\n  <w:LsdException Locked=\"false\" Priority=\"66\" Name=\"Medium List 2 Accent 6\"/>\\n  <w:LsdException Locked=\"false\" Priority=\"67\" Name=\"Medium Grid 1 Accent 6\"/>\\n  <w:LsdException Locked=\"false\" Priority=\"68\" Name=\"Medium Grid 2 Accent 6\"/>\\n  <w:LsdException Locked=\"false\" Priority=\"69\" Name=\"Medium Grid 3 Accent 6\"/>\\n  <w:LsdException Locked=\"false\" Priority=\"70\" Name=\"Dark List Accent 6\"/>\\n  <w:LsdException Locked=\"false\" Priority=\"71\" Name=\"Colorful Shading Accent 6\"/>\\n  <w:LsdException Locked=\"false\" Priority=\"72\" Name=\"Colorful List Accent 6\"/>\\n  <w:LsdException Locked=\"false\" Priority=\"73\" Name=\"Colorful Grid Accent 6\"/>\\n  <w:LsdException Locked=\"false\" Priority=\"19\" QFormat=\"true\"\\n   Name=\"Subtle Emphasis\"/>\\n  <w:LsdException Locked=\"false\" Priority=\"21\" QFormat=\"true\"\\n   Name=\"Intense Emphasis\"/>\\n  <w:LsdException Locked=\"false\" Priority=\"31\" QFormat=\"true\"\\n   Name=\"Subtle Reference\"/>\\n  <w:LsdException Locked=\"false\" Priority=\"32\" QFormat=\"true\"\\n   Name=\"Intense Reference\"/>\\n  <w:LsdException Locked=\"false\" Priority=\"33\" QFormat=\"true\" Name=\"Book Title\"/>\\n  <w:LsdException Locked=\"false\" Priority=\"37\" SemiHidden=\"true\"\\n   UnhideWhenUsed=\"true\" Name=\"Bibliography\"/>\\n  <w:LsdException Locked=\"false\" Priority=\"39\" SemiHidden=\"true\"\\n   UnhideWhenUsed=\"true\" QFormat=\"true\" Name=\"TOC Heading\"/>\\n  <w:LsdException Locked=\"false\" Priority=\"41\" Name=\"Plain Table 1\"/>\\n  <w:LsdException Locked=\"false\" Priority=\"42\" Name=\"Plain Table 2\"/>\\n  <w:LsdException Locked=\"false\" Priority=\"43\" Name=\"Plain Table 3\"/>\\n  <w:LsdException Locked=\"false\" Priority=\"44\" Name=\"Plain Table 4\"/>\\n  <w:LsdException Locked=\"false\" Priority=\"45\" Name=\"Plain Table 5\"/>\\n  <w:LsdException Locked=\"false\" Priority=\"40\" Name=\"Grid Table Light\"/>\\n  <w:LsdException Locked=\"false\" Priority=\"46\" Name=\"Grid Table 1 Light\"/>\\n  <w:LsdException Locked=\"false\" Priority=\"47\" Name=\"Grid Table 2\"/>\\n  <w:LsdException Locked=\"false\" Priority=\"48\" Name=\"Grid Table 3\"/>\\n  <w:LsdException Locked=\"false\" Priority=\"49\" Name=\"Grid Table 4\"/>\\n  <w:LsdException Locked=\"false\" Priority=\"50\" Name=\"Grid Table 5 Dark\"/>\\n  <w:LsdException Locked=\"false\" Priority=\"51\" Name=\"Grid Table 6 Colorful\"/>\\n  <w:LsdException Locked=\"false\" Priority=\"52\" Name=\"Grid Table 7 Colorful\"/>\\n  <w:LsdException Locked=\"false\" Priority=\"46\"\\n   Name=\"Grid Table 1 Light Accent 1\"/>\\n  <w:LsdException Locked=\"false\" Priority=\"47\" Name=\"Grid Table 2 Accent 1\"/>\\n  <w:LsdException Locked=\"false\" Priority=\"48\" Name=\"Grid Table 3 Accent 1\"/>\\n  <w:LsdException Locked=\"false\" Priority=\"49\" Name=\"Grid Table 4 Accent 1\"/>\\n  <w:LsdException Locked=\"false\" Priority=\"50\" Name=\"Grid Table 5 Dark Accent 1\"/>\\n  <w:LsdException Locked=\"false\" Priority=\"51\"\\n   Name=\"Grid Table 6 Colorful Accent 1\"/>\\n  <w:LsdException Locked=\"false\" Priority=\"52\"\\n   Name=\"Grid Table 7 Colorful Accent 1\"/>\\n  <w:LsdException Locked=\"false\" Priority=\"46\"\\n   Name=\"Grid Table 1 Light Accent 2\"/>\\n  <w:LsdException Locked=\"false\" Priority=\"47\" Name=\"Grid Table 2 Accent 2\"/>\\n  <w:LsdException Locked=\"false\" Priority=\"48\" Name=\"Grid Table 3 Accent 2\"/>\\n  <w:LsdException Locked=\"false\" Priority=\"49\" Name=\"Grid Table 4 Accent 2\"/>\\n  <w:LsdException Locked=\"false\" Priority=\"50\" Name=\"Grid Table 5 Dark Accent 2\"/>\\n  <w:LsdException Locked=\"false\" Priority=\"51\"\\n   Name=\"Grid Table 6 Colorful Accent 2\"/>\\n  <w:LsdException Locked=\"false\" Priority=\"52\"\\n   Name=\"Grid Table 7 Colorful Accent 2\"/>\\n  <w:LsdException Locked=\"false\" Priority=\"46\"\\n   Name=\"Grid Table 1 Light Accent 3\"/>\\n  <w:LsdException Locked=\"false\" Priority=\"47\" Name=\"Grid Table 2 Accent 3\"/>\\n  <w:LsdException Locked=\"false\" Priority=\"48\" Name=\"Grid Table 3 Accent 3\"/>\\n  <w:LsdException Locked=\"false\" Priority=\"49\" Name=\"Grid Table 4 Accent 3\"/>\\n  <w:LsdException Locked=\"false\" Priority=\"50\" Name=\"Grid Table 5 Dark Accent 3\"/>\\n  <w:LsdException Locked=\"false\" Priority=\"51\"\\n   Name=\"Grid Table 6 Colorful Accent 3\"/>\\n  <w:LsdException Locked=\"false\" Priority=\"52\"\\n   Name=\"Grid Table 7 Colorful Accent 3\"/>\\n  <w:LsdException Locked=\"false\" Priority=\"46\"\\n   Name=\"Grid Table 1 Light Accent 4\"/>\\n  <w:LsdException Locked=\"false\" Priority=\"47\" Name=\"Grid Table 2 Accent 4\"/>\\n  <w:LsdException Locked=\"false\" Priority=\"48\" Name=\"Grid Table 3 Accent 4\"/>\\n  <w:LsdException Locked=\"false\" Priority=\"49\" Name=\"Grid Table 4 Accent 4\"/>\\n  <w:LsdException Locked=\"false\" Priority=\"50\" Name=\"Grid Table 5 Dark Accent 4\"/>\\n  <w:LsdException Locked=\"false\" Priority=\"51\"\\n   Name=\"Grid Table 6 Colorful Accent 4\"/>\\n  <w:LsdException Locked=\"false\" Priority=\"52\"\\n   Name=\"Grid Table 7 Colorful Accent 4\"/>\\n  <w:LsdException Locked=\"false\" Priority=\"46\"\\n   Name=\"Grid Table 1 Light Accent 5\"/>\\n  <w:LsdException Locked=\"false\" Priority=\"47\" Name=\"Grid Table 2 Accent 5\"/>\\n  <w:LsdException Locked=\"false\" Priority=\"48\" Name=\"Grid Table 3 Accent 5\"/>\\n  <w:LsdException Locked=\"false\" Priority=\"49\" Name=\"Grid Table 4 Accent 5\"/>\\n  <w:LsdException Locked=\"false\" Priority=\"50\" Name=\"Grid Table 5 Dark Accent 5\"/>\\n  <w:LsdException Locked=\"false\" Priority=\"51\"\\n   Name=\"Grid Table 6 Colorful Accent 5\"/>\\n  <w:LsdException Locked=\"false\" Priority=\"52\"\\n   Name=\"Grid Table 7 Colorful Accent 5\"/>\\n  <w:LsdException Locked=\"false\" Priority=\"46\"\\n   Name=\"Grid Table 1 Light Accent 6\"/>\\n  <w:LsdException Locked=\"false\" Priority=\"47\" Name=\"Grid Table 2 Accent 6\"/>\\n  <w:LsdException Locked=\"false\" Priority=\"48\" Name=\"Grid Table 3 Accent 6\"/>\\n  <w:LsdException Locked=\"false\" Priority=\"49\" Name=\"Grid Table 4 Accent 6\"/>\\n  <w:LsdException Locked=\"false\" Priority=\"50\" Name=\"Grid Table 5 Dark Accent 6\"/>\\n  <w:LsdException Locked=\"false\" Priority=\"51\"\\n   Name=\"Grid Table 6 Colorful Accent 6\"/>\\n  <w:LsdException Locked=\"false\" Priority=\"52\"\\n   Name=\"Grid Table 7 Colorful Accent 6\"/>\\n  <w:LsdException Locked=\"false\" Priority=\"46\" Name=\"List Table 1 Light\"/>\\n  <w:LsdException Locked=\"false\" Priority=\"47\" Name=\"List Table 2\"/>\\n  <w:LsdException Locked=\"false\" Priority=\"48\" Name=\"List Table 3\"/>\\n  <w:LsdException Locked=\"false\" Priority=\"49\" Name=\"List Table 4\"/>\\n  <w:LsdException Locked=\"false\" Priority=\"50\" Name=\"List Table 5 Dark\"/>\\n  <w:LsdException Locked=\"false\" Priority=\"51\" Name=\"List Table 6 Colorful\"/>\\n  <w:LsdException Locked=\"false\" Priority=\"52\" Name=\"List Table 7 Colorful\"/>\\n  <w:LsdException Locked=\"false\" Priority=\"46\"\\n   Name=\"List Table 1 Light Accent 1\"/>\\n  <w:LsdException Locked=\"false\" Priority=\"47\" Name=\"List Table 2 Accent 1\"/>\\n  <w:LsdException Locked=\"false\" Priority=\"48\" Name=\"List Table 3 Accent 1\"/>\\n  <w:LsdException Locked=\"false\" Priority=\"49\" Name=\"List Table 4 Accent 1\"/>\\n  <w:LsdException Locked=\"false\" Priority=\"50\" Name=\"List Table 5 Dark Accent 1\"/>\\n  <w:LsdException Locked=\"false\" Priority=\"51\"\\n   Name=\"List Table 6 Colorful Accent 1\"/>\\n  <w:LsdException Locked=\"false\" Priority=\"52\"\\n   Name=\"List Table 7 Colorful Accent 1\"/>\\n  <w:LsdException Locked=\"false\" Priority=\"46\"\\n   Name=\"List Table 1 Light Accent 2\"/>\\n  <w:LsdException Locked=\"false\" Priority=\"47\" Name=\"List Table 2 Accent 2\"/>\\n  <w:LsdException Locked=\"false\" Priority=\"48\" Name=\"List Table 3 Accent 2\"/>\\n  <w:LsdException Locked=\"false\" Priority=\"49\" Name=\"List Table 4 Accent 2\"/>\\n  <w:LsdException Locked=\"false\" Priority=\"50\" Name=\"List Table 5 Dark Accent 2\"/>\\n  <w:LsdException Locked=\"false\" Priority=\"51\"\\n   Name=\"List Table 6 Colorful Accent 2\"/>\\n  <w:LsdException Locked=\"false\" Priority=\"52\"\\n   Name=\"List Table 7 Colorful Accent 2\"/>\\n  <w:LsdException Locked=\"false\" Priority=\"46\"\\n   Name=\"List Table 1 Light Accent 3\"/>\\n  <w:LsdException Locked=\"false\" Priority=\"47\" Name=\"List Table 2 Accent 3\"/>\\n  <w:LsdException Locked=\"false\" Priority=\"48\" Name=\"List Table 3 Accent 3\"/>\\n  <w:LsdException Locked=\"false\" Priority=\"49\" Name=\"List Table 4 Accent 3\"/>\\n  <w:LsdException Locked=\"false\" Priority=\"50\" Name=\"List Table 5 Dark Accent 3\"/>\\n  <w:LsdException Locked=\"false\" Priority=\"51\"\\n   Name=\"List Table 6 Colorful Accent 3\"/>\\n  <w:LsdException Locked=\"false\" Priority=\"52\"\\n   Name=\"List Table 7 Colorful Accent 3\"/>\\n  <w:LsdException Locked=\"false\" Priority=\"46\"\\n   Name=\"List Table 1 Light Accent 4\"/>\\n  <w:LsdException Locked=\"false\" Priority=\"47\" Name=\"List Table 2 Accent 4\"/>\\n  <w:LsdException Locked=\"false\" Priority=\"48\" Name=\"List Table 3 Accent 4\"/>\\n  <w:LsdException Locked=\"false\" Priority=\"49\" Name=\"List Table 4 Accent 4\"/>\\n  <w:LsdException Locked=\"false\" Priority=\"50\" Name=\"List Table 5 Dark Accent 4\"/>\\n  <w:LsdException Locked=\"false\" Priority=\"51\"\\n   Name=\"List Table 6 Colorful Accent 4\"/>\\n  <w:LsdException Locked=\"false\" Priority=\"52\"\\n   Name=\"List Table 7 Colorful Accent 4\"/>\\n  <w:LsdException Locked=\"false\" Priority=\"46\"\\n   Name=\"List Table 1 Light Accent 5\"/>\\n  <w:LsdException Locked=\"false\" Priority=\"47\" Name=\"List Table 2 Accent 5\"/>\\n  <w:LsdException Locked=\"false\" Priority=\"48\" Name=\"List Table 3 Accent 5\"/>\\n  <w:LsdException Locked=\"false\" Priority=\"49\" Name=\"List Table 4 Accent 5\"/>\\n  <w:LsdException Locked=\"false\" Priority=\"50\" Name=\"List Table 5 Dark Accent 5\"/>\\n  <w:LsdException Locked=\"false\" Priority=\"51\"\\n   Name=\"List Table 6 Colorful Accent 5\"/>\\n  <w:LsdException Locked=\"false\" Priority=\"52\"\\n   Name=\"List Table 7 Colorful Accent 5\"/>\\n  <w:LsdException Locked=\"false\" Priority=\"46\"\\n   Name=\"List Table 1 Light Accent 6\"/>\\n  <w:LsdException Locked=\"false\" Priority=\"47\" Name=\"List Table 2 Accent 6\"/>\\n  <w:LsdException Locked=\"false\" Priority=\"48\" Name=\"List Table 3 Accent 6\"/>\\n  <w:LsdException Locked=\"false\" Priority=\"49\" Name=\"List Table 4 Accent 6\"/>\\n  <w:LsdException Locked=\"false\" Priority=\"50\" Name=\"List Table 5 Dark Accent 6\"/>\\n  <w:LsdException Locked=\"false\" Priority=\"51\"\\n   Name=\"List Table 6 Colorful Accent 6\"/>\\n  <w:LsdException Locked=\"false\" Priority=\"52\"\\n   Name=\"List Table 7 Colorful Accent 6\"/>\\n </w:LatentStyles>\\n</xml><![endif]--><!-- [if gte mso 10]>\\n<style>\\n /* Style Definitions */\\n table.MsoNormalTable\\n\\t{mso-style-name:\"Table Normal\";\\n\\tmso-tstyle-rowband-size:0;\\n\\tmso-tstyle-colband-size:0;\\n\\tmso-style-noshow:yes;\\n\\tmso-style-priority:99;\\n\\tmso-style-parent:\"\";\\n\\tmso-padding-alt:0in 5.4pt 0in 5.4pt;\\n\\tmso-para-margin-top:0in;\\n\\tmso-para-margin-right:0in;\\n\\tmso-para-margin-bottom:8.0pt;\\n\\tmso-para-margin-left:0in;\\n\\tline-height:107%;\\n\\tmso-pagination:widow-orphan;\\n\\tfont-size:11.0pt;\\n\\tfont-family:\"Calibri\",sans-serif;\\n\\tmso-ascii-font-family:Calibri;\\n\\tmso-ascii-theme-font:minor-latin;\\n\\tmso-hansi-font-family:Calibri;\\n\\tmso-hansi-theme-font:minor-latin;\\n\\tmso-bidi-font-family:\"Times New Roman\";\\n\\tmso-bidi-theme-font:minor-bidi;}\\n</style>\\n<![endif]--><span style=\"font-size: 11.0pt; line-height: 106%; font-family: \\'Calibri\\',sans-serif; mso-ascii-theme-font: minor-latin; mso-fareast-font-family: Calibri; mso-fareast-theme-font: minor-latin; mso-hansi-theme-font: minor-latin; mso-bidi-font-family: \\'Times New Roman\\'; mso-bidi-theme-font: minor-bidi; mso-ansi-language: EN-US; mso-fareast-language: EN-US; mso-bidi-language: AR-SA;\">a Senator from Nebraska; born in Nebraska City, Nebr., August 19, 1964; graduated Westside High School, Omaha, Nebr., 1982; B.A., biology, University of Chicago, 1986; M.B.A., marketing and finance, University of Chicago, 1991; online brokerage firm president and chief operating officer; co-owner of Chicago Cubs baseball team; unsuccessful candidate for the United States Senate in 2006; governor of Nebraska 2015-2023; appointed as a Republican to the United States Senate on January 12, 2023, to fill the vacancy caused by the resignation of Benjamin Sasse; took the oath of office on January 23, 2023.</span>'"
      ]
     },
     "metadata": {},
     "output_type": "display_data"
    }
   ],
   "source": [
    "display(currentBios[\"profileText\"][12395])\n",
    "\n",
    "# darn it, Ben Sasse!\n",
    "\n",
    "str12395 = (\n",
    "    \"a Senator from Nebraska; born in Nebraska City, Nebr., August 19, 1964; graduated\"\n",
    "    \" Westside High School, Omaha, Nebr., 1982; B.A., biology, University of Chicago,\"\n",
    "    \" 1986; M.B.A., marketing and finance, University of Chicago, 1991; online\"\n",
    "    \" brokerage firm president and chief operating officer; co-owner of Chicago Cubs\"\n",
    "    \" baseball team; unsuccessful candidate for the United States Senate in 2006;\"\n",
    "    \" governor of Nebraska 2015-2023; appointed as a Republican to the United States\"\n",
    "    \" Senate on January 12, 2023, to fill the vacancy caused by the resignation of\"\n",
    "    \" Benjamin Sasse; took the oath of office on January 23, 2023.\"\n",
    ")\n",
    "currentBios.loc[12395, \"profileText\"] = str12395"
   ]
  },
  {
   "cell_type": "code",
   "execution_count": 3,
   "metadata": {},
   "outputs": [],
   "source": [
    "currentBios = currentBios[\n",
    "    [\"givenName\", \"familyName\", \"congresses\", \"profileText\", \"jobPositions\"]\n",
    "]"
   ]
  },
  {
   "cell_type": "code",
   "execution_count": 4,
   "metadata": {},
   "outputs": [
    {
     "data": {
      "text/html": [
       "<div>\n",
       "<style scoped>\n",
       "    .dataframe tbody tr th:only-of-type {\n",
       "        vertical-align: middle;\n",
       "    }\n",
       "\n",
       "    .dataframe tbody tr th {\n",
       "        vertical-align: top;\n",
       "    }\n",
       "\n",
       "    .dataframe thead th {\n",
       "        text-align: right;\n",
       "    }\n",
       "</style>\n",
       "<table border=\"1\" class=\"dataframe\">\n",
       "  <thead>\n",
       "    <tr style=\"text-align: right;\">\n",
       "      <th></th>\n",
       "      <th>givenName</th>\n",
       "      <th>familyName</th>\n",
       "      <th>congresses</th>\n",
       "      <th>profileText</th>\n",
       "      <th>jobPositions</th>\n",
       "      <th>party</th>\n",
       "    </tr>\n",
       "  </thead>\n",
       "  <tbody>\n",
       "    <tr>\n",
       "      <th>1915</th>\n",
       "      <td>Jimmy</td>\n",
       "      <td>Gomez</td>\n",
       "      <td>[115, 116, 117, 118]</td>\n",
       "      <td>a Representative from California; born in Full...</td>\n",
       "      <td>[{'job': {'name': 'Representative', 'jobType':...</td>\n",
       "      <td>D</td>\n",
       "    </tr>\n",
       "    <tr>\n",
       "      <th>9596</th>\n",
       "      <td>Betty</td>\n",
       "      <td>McCollum</td>\n",
       "      <td>[107, 108, 109, 110, 111, 112, 113, 114, 115, ...</td>\n",
       "      <td>A Representative from Minnesota; born in Minne...</td>\n",
       "      <td>[{'job': {'name': 'Representative', 'jobType':...</td>\n",
       "      <td>D</td>\n",
       "    </tr>\n",
       "    <tr>\n",
       "      <th>12483</th>\n",
       "      <td>John</td>\n",
       "      <td>Thune</td>\n",
       "      <td>[105, 106, 107, 109, 110, 111, 112, 113, 114, ...</td>\n",
       "      <td>A Senator and a Representative from South Dako...</td>\n",
       "      <td>[{'job': {'name': 'Representative', 'jobType':...</td>\n",
       "      <td>R</td>\n",
       "    </tr>\n",
       "    <tr>\n",
       "      <th>12851</th>\n",
       "      <td>Charles</td>\n",
       "      <td>Schumer</td>\n",
       "      <td>[97, 98, 99, 100, 101, 102, 103, 104, 105, 106...</td>\n",
       "      <td>A Senator and a Representative from New York; ...</td>\n",
       "      <td>[{'job': {'name': 'Representative', 'jobType':...</td>\n",
       "      <td>D</td>\n",
       "    </tr>\n",
       "    <tr>\n",
       "      <th>8416</th>\n",
       "      <td>Marilyn</td>\n",
       "      <td>Strickland</td>\n",
       "      <td>[117, 118]</td>\n",
       "      <td>a Representative from Washington; born in Seou...</td>\n",
       "      <td>[{'job': {'name': 'Representative', 'jobType':...</td>\n",
       "      <td>D</td>\n",
       "    </tr>\n",
       "  </tbody>\n",
       "</table>\n",
       "</div>"
      ],
      "text/plain": [
       "      givenName  familyName  \\\n",
       "1915      Jimmy       Gomez   \n",
       "9596      Betty    McCollum   \n",
       "12483      John       Thune   \n",
       "12851   Charles     Schumer   \n",
       "8416    Marilyn  Strickland   \n",
       "\n",
       "                                              congresses  \\\n",
       "1915                                [115, 116, 117, 118]   \n",
       "9596   [107, 108, 109, 110, 111, 112, 113, 114, 115, ...   \n",
       "12483  [105, 106, 107, 109, 110, 111, 112, 113, 114, ...   \n",
       "12851  [97, 98, 99, 100, 101, 102, 103, 104, 105, 106...   \n",
       "8416                                          [117, 118]   \n",
       "\n",
       "                                             profileText  \\\n",
       "1915   a Representative from California; born in Full...   \n",
       "9596   A Representative from Minnesota; born in Minne...   \n",
       "12483  A Senator and a Representative from South Dako...   \n",
       "12851  A Senator and a Representative from New York; ...   \n",
       "8416   a Representative from Washington; born in Seou...   \n",
       "\n",
       "                                            jobPositions party  \n",
       "1915   [{'job': {'name': 'Representative', 'jobType':...     D  \n",
       "9596   [{'job': {'name': 'Representative', 'jobType':...     D  \n",
       "12483  [{'job': {'name': 'Representative', 'jobType':...     R  \n",
       "12851  [{'job': {'name': 'Representative', 'jobType':...     D  \n",
       "8416   [{'job': {'name': 'Representative', 'jobType':...     D  "
      ]
     },
     "execution_count": 4,
     "metadata": {},
     "output_type": "execute_result"
    }
   ],
   "source": [
    "currentBios.loc[:, \"party\"] = currentBios.jobPositions.apply(\n",
    "    lambda x: x[-1][\"congressAffiliation\"][\"partyAffiliation\"][-1][\"party\"][\"name\"][0],\n",
    "    # axis=1\n",
    ")  # [\"congress\"][\"congressNumber\"]\n",
    "currentBios.sample(5)"
   ]
  },
  {
   "cell_type": "code",
   "execution_count": 5,
   "metadata": {},
   "outputs": [],
   "source": [
    "def get_state_abbrev(text):\n",
    "    for state in utils.state_list:\n",
    "        if state.lower() in text.lower():\n",
    "            return utils.state_dict[state]\n",
    "\n",
    "    return None\n",
    "\n",
    "\n",
    "currentBios.loc[:, \"state\"] = currentBios.profileText.apply(\n",
    "    lambda x: get_state_abbrev(x.split(\";\")[0])\n",
    ")"
   ]
  },
  {
   "cell_type": "code",
   "execution_count": 6,
   "metadata": {},
   "outputs": [
    {
     "data": {
      "text/html": [
       "<div>\n",
       "<style scoped>\n",
       "    .dataframe tbody tr th:only-of-type {\n",
       "        vertical-align: middle;\n",
       "    }\n",
       "\n",
       "    .dataframe tbody tr th {\n",
       "        vertical-align: top;\n",
       "    }\n",
       "\n",
       "    .dataframe thead th {\n",
       "        text-align: right;\n",
       "    }\n",
       "</style>\n",
       "<table border=\"1\" class=\"dataframe\">\n",
       "  <thead>\n",
       "    <tr style=\"text-align: right;\">\n",
       "      <th></th>\n",
       "      <th>givenName</th>\n",
       "      <th>familyName</th>\n",
       "      <th>congresses</th>\n",
       "      <th>profileText</th>\n",
       "      <th>jobPositions</th>\n",
       "      <th>party</th>\n",
       "      <th>state</th>\n",
       "    </tr>\n",
       "  </thead>\n",
       "  <tbody>\n",
       "    <tr>\n",
       "      <th>11727</th>\n",
       "      <td>Sheldon</td>\n",
       "      <td>Whitehouse</td>\n",
       "      <td>[110, 111, 112, 113, 114, 115, 116, 117, 118]</td>\n",
       "      <td>A Senator from Rhode Island; born in Manhattan...</td>\n",
       "      <td>[{'job': {'name': 'Senator', 'jobType': 'Congr...</td>\n",
       "      <td>D</td>\n",
       "      <td>RI</td>\n",
       "    </tr>\n",
       "    <tr>\n",
       "      <th>6205</th>\n",
       "      <td>Michael</td>\n",
       "      <td>Cloud</td>\n",
       "      <td>[115, 116, 117, 118]</td>\n",
       "      <td>A Representative from Texas; born in Baton Rou...</td>\n",
       "      <td>[{'job': {'name': 'Representative', 'jobType':...</td>\n",
       "      <td>R</td>\n",
       "      <td>TX</td>\n",
       "    </tr>\n",
       "    <tr>\n",
       "      <th>11240</th>\n",
       "      <td>Ro</td>\n",
       "      <td>Khanna</td>\n",
       "      <td>[115, 116, 117, 118]</td>\n",
       "      <td>a Representative from California; born in Phil...</td>\n",
       "      <td>[{'job': {'name': 'Representative', 'jobType':...</td>\n",
       "      <td>D</td>\n",
       "      <td>CA</td>\n",
       "    </tr>\n",
       "    <tr>\n",
       "      <th>9656</th>\n",
       "      <td>Theodore</td>\n",
       "      <td>Budd</td>\n",
       "      <td>[115, 116, 117, 118]</td>\n",
       "      <td>a Representative from North Carolina; born in ...</td>\n",
       "      <td>[{'job': {'name': 'Representative', 'jobType':...</td>\n",
       "      <td>R</td>\n",
       "      <td>NC</td>\n",
       "    </tr>\n",
       "    <tr>\n",
       "      <th>11197</th>\n",
       "      <td>Cory</td>\n",
       "      <td>Mills</td>\n",
       "      <td>[118]</td>\n",
       "      <td>a Representative from Florida; born in Winter ...</td>\n",
       "      <td>[{'job': {'name': 'Representative', 'jobType':...</td>\n",
       "      <td>R</td>\n",
       "      <td>FL</td>\n",
       "    </tr>\n",
       "  </tbody>\n",
       "</table>\n",
       "</div>"
      ],
      "text/plain": [
       "      givenName  familyName                                     congresses  \\\n",
       "11727   Sheldon  Whitehouse  [110, 111, 112, 113, 114, 115, 116, 117, 118]   \n",
       "6205    Michael       Cloud                           [115, 116, 117, 118]   \n",
       "11240        Ro      Khanna                           [115, 116, 117, 118]   \n",
       "9656   Theodore        Budd                           [115, 116, 117, 118]   \n",
       "11197      Cory       Mills                                          [118]   \n",
       "\n",
       "                                             profileText  \\\n",
       "11727  A Senator from Rhode Island; born in Manhattan...   \n",
       "6205   A Representative from Texas; born in Baton Rou...   \n",
       "11240  a Representative from California; born in Phil...   \n",
       "9656   a Representative from North Carolina; born in ...   \n",
       "11197  a Representative from Florida; born in Winter ...   \n",
       "\n",
       "                                            jobPositions party state  \n",
       "11727  [{'job': {'name': 'Senator', 'jobType': 'Congr...     D    RI  \n",
       "6205   [{'job': {'name': 'Representative', 'jobType':...     R    TX  \n",
       "11240  [{'job': {'name': 'Representative', 'jobType':...     D    CA  \n",
       "9656   [{'job': {'name': 'Representative', 'jobType':...     R    NC  \n",
       "11197  [{'job': {'name': 'Representative', 'jobType':...     R    FL  "
      ]
     },
     "execution_count": 6,
     "metadata": {},
     "output_type": "execute_result"
    }
   ],
   "source": [
    "currentBios.sample(5)"
   ]
  },
  {
   "cell_type": "markdown",
   "metadata": {},
   "source": [
    "### Let's confirm that there are 2 senators from each State:"
   ]
  },
  {
   "cell_type": "code",
   "execution_count": 7,
   "metadata": {},
   "outputs": [
    {
     "data": {
      "text/plain": [
       "state\n",
       "NE    3\n",
       "CA    3\n",
       "VT    1\n",
       "OK    1\n",
       "NC    1\n",
       "Name: count, dtype: int64"
      ]
     },
     "execution_count": 7,
     "metadata": {},
     "output_type": "execute_result"
    }
   ],
   "source": [
    "currentBios.loc[\n",
    "    (\n",
    "        currentBios.profileText.str.lower().str.contains(\"a senator from\")\n",
    "        | currentBios.profileText.str.lower().str.contains(\"a senator and a represent\")\n",
    "        | currentBios.profileText.str.lower().str.contains(\"a senator and represent\")\n",
    "    )\n",
    "].state.value_counts().loc[lambda x: x != 2]"
   ]
  },
  {
   "cell_type": "markdown",
   "metadata": {},
   "source": [
    "Okay, I assume that the NE and CA anomalies are Ben Sasse retiring and Diane\n",
    "Feinstein passing away, since the two of them were both members of the 118th\n",
    "Congress. Let's check on that real quick:"
   ]
  },
  {
   "cell_type": "code",
   "execution_count": 8,
   "metadata": {},
   "outputs": [
    {
     "data": {
      "text/plain": [
       "Index([6720, 12640], dtype='int64')"
      ]
     },
     "execution_count": 8,
     "metadata": {},
     "output_type": "execute_result"
    }
   ],
   "source": [
    "currentBios.loc[\n",
    "    (currentBios.familyName == \"Sasse\") | (currentBios.familyName == \"Feinstein\")\n",
    "].index"
   ]
  },
  {
   "cell_type": "markdown",
   "metadata": {},
   "source": [
    "I'm not going to drop either of them, since they were technically parts of the 118th Congress. But that still leaves the question of what's going on in VT, OK, and NC."
   ]
  },
  {
   "cell_type": "code",
   "execution_count": 9,
   "metadata": {},
   "outputs": [
    {
     "data": {
      "text/html": [
       "<div>\n",
       "<style scoped>\n",
       "    .dataframe tbody tr th:only-of-type {\n",
       "        vertical-align: middle;\n",
       "    }\n",
       "\n",
       "    .dataframe tbody tr th {\n",
       "        vertical-align: top;\n",
       "    }\n",
       "\n",
       "    .dataframe thead th {\n",
       "        text-align: right;\n",
       "    }\n",
       "</style>\n",
       "<table border=\"1\" class=\"dataframe\">\n",
       "  <thead>\n",
       "    <tr style=\"text-align: right;\">\n",
       "      <th></th>\n",
       "      <th>givenName</th>\n",
       "      <th>familyName</th>\n",
       "      <th>congresses</th>\n",
       "      <th>profileText</th>\n",
       "      <th>jobPositions</th>\n",
       "      <th>party</th>\n",
       "      <th>state</th>\n",
       "    </tr>\n",
       "  </thead>\n",
       "  <tbody>\n",
       "    <tr>\n",
       "      <th>5280</th>\n",
       "      <td>Bernard</td>\n",
       "      <td>Sanders</td>\n",
       "      <td>[102, 103, 104, 105, 106, 107, 108, 109, 110, ...</td>\n",
       "      <td>A Senator and a Representative from Vermont; b...</td>\n",
       "      <td>[{'job': {'name': 'Representative', 'jobType':...</td>\n",
       "      <td>I</td>\n",
       "      <td>VT</td>\n",
       "    </tr>\n",
       "  </tbody>\n",
       "</table>\n",
       "</div>"
      ],
      "text/plain": [
       "     givenName familyName                                         congresses  \\\n",
       "5280   Bernard    Sanders  [102, 103, 104, 105, 106, 107, 108, 109, 110, ...   \n",
       "\n",
       "                                            profileText  \\\n",
       "5280  A Senator and a Representative from Vermont; b...   \n",
       "\n",
       "                                           jobPositions party state  \n",
       "5280  [{'job': {'name': 'Representative', 'jobType':...     I    VT  "
      ]
     },
     "execution_count": 9,
     "metadata": {},
     "output_type": "execute_result"
    }
   ],
   "source": [
    "currentBios.loc[\n",
    "    (\n",
    "        currentBios.profileText.str.lower().str.contains(\"a senator from\")\n",
    "        | currentBios.profileText.str.lower().str.contains(\"a senator and a represent\")\n",
    "        | currentBios.profileText.str.lower().str.contains(\"a senator and represent\")\n",
    "    )\n",
    "].loc[lambda x: x.state == \"VT\"]"
   ]
  },
  {
   "cell_type": "markdown",
   "metadata": {},
   "source": [
    "Okay, looks like [Peter Welch](https://en.wikipedia.org/wiki/Peter_Welch) is missing..."
   ]
  },
  {
   "cell_type": "code",
   "execution_count": 10,
   "metadata": {},
   "outputs": [
    {
     "data": {
      "text/html": [
       "<div>\n",
       "<style scoped>\n",
       "    .dataframe tbody tr th:only-of-type {\n",
       "        vertical-align: middle;\n",
       "    }\n",
       "\n",
       "    .dataframe tbody tr th {\n",
       "        vertical-align: top;\n",
       "    }\n",
       "\n",
       "    .dataframe thead th {\n",
       "        text-align: right;\n",
       "    }\n",
       "</style>\n",
       "<table border=\"1\" class=\"dataframe\">\n",
       "  <thead>\n",
       "    <tr style=\"text-align: right;\">\n",
       "      <th></th>\n",
       "      <th>givenName</th>\n",
       "      <th>familyName</th>\n",
       "      <th>congresses</th>\n",
       "      <th>profileText</th>\n",
       "      <th>jobPositions</th>\n",
       "      <th>party</th>\n",
       "      <th>state</th>\n",
       "    </tr>\n",
       "  </thead>\n",
       "  <tbody>\n",
       "    <tr>\n",
       "      <th>2107</th>\n",
       "      <td>Peter</td>\n",
       "      <td>Welch</td>\n",
       "      <td>[110, 111, 112, 113, 114, 115, 116, 117, 118]</td>\n",
       "      <td>A Representative from Vermont; born in Springf...</td>\n",
       "      <td>[{'job': {'name': 'Representative', 'jobType':...</td>\n",
       "      <td>D</td>\n",
       "      <td>VT</td>\n",
       "    </tr>\n",
       "  </tbody>\n",
       "</table>\n",
       "</div>"
      ],
      "text/plain": [
       "     givenName familyName                                     congresses  \\\n",
       "2107     Peter      Welch  [110, 111, 112, 113, 114, 115, 116, 117, 118]   \n",
       "\n",
       "                                            profileText  \\\n",
       "2107  A Representative from Vermont; born in Springf...   \n",
       "\n",
       "                                           jobPositions party state  \n",
       "2107  [{'job': {'name': 'Representative', 'jobType':...     D    VT  "
      ]
     },
     "execution_count": 10,
     "metadata": {},
     "output_type": "execute_result"
    }
   ],
   "source": [
    "currentBios.loc[lambda x: (x.givenName == \"Peter\") & (x.familyName == \"Welch\")]"
   ]
  },
  {
   "cell_type": "markdown",
   "metadata": {},
   "source": [
    "I guess they didn't update him in the Congressional Bioguide when he replaced Patrick Leahy? Luckily, this is an easy fix: I'll just do what I did with that massive misencoded html bio from earlier."
   ]
  },
  {
   "cell_type": "code",
   "execution_count": 11,
   "metadata": {},
   "outputs": [
    {
     "data": {
      "text/plain": [
       "'A Representative from Vermont; born in Springfield, Hampden County, Mass., May 2, 1947; graduated from Cathedral High School, Springfield, Mass.; A.B., College of the Holy Cross, Worcester, Mass.; 1969; J.D., University of California, Berkeley, Calif., 1973; lawyer, private practice; member of the Vermont state senate, 1981-1989, 2002-2007, minority leader, 1983-1985, president pro tempore, 1985-1989, 2003-2007; unsuccessful candidate for nomination to the One Hundred First Congress in 1988; elected as a Democrat to the One Hundred Tenth and to the seven succeeding Congresses (January 3, 2007-January 3, 2023); was not a candidate for reelection to the House of Representatives but was elected as a Democrat to the United States Senate in 2022 for the term ending January 3, 2029.'"
      ]
     },
     "execution_count": 11,
     "metadata": {},
     "output_type": "execute_result"
    }
   ],
   "source": [
    "currentBios.loc[2107, \"profileText\"]"
   ]
  },
  {
   "cell_type": "markdown",
   "metadata": {},
   "source": [
    "They even note that he was elected as a Democrat to the Senate at the end of his bio! If I were less lazy, I'd rewrite some code to use \"elected as a x to the United States Senate,\" but I figure so many people get appointed that the way I'm doing it now is easier."
   ]
  },
  {
   "cell_type": "code",
   "execution_count": 12,
   "metadata": {},
   "outputs": [],
   "source": [
    "welchBio = (\n",
    "    \"A Senator and a Representative from Vermont; born in Springfield, Hampden County,\"\n",
    "    \" Mass., May 2, 1947; graduated from Cathedral High School, Springfield, Mass.;\"\n",
    "    \" A.B., College of the Holy Cross, Worcester, Mass.; 1969; J.D., University of\"\n",
    "    \" California, Berkeley, Calif., 1973; lawyer, private practice; member of the\"\n",
    "    \" Vermont state senate, 1981-1989, 2002-2007, minority leader, 1983-1985, president\"\n",
    "    \" pro tempore, 1985-1989, 2003-2007; unsuccessful candidate for nomination to the\"\n",
    "    \" One Hundred First Congress in 1988; elected as a Democrat to the One Hundred\"\n",
    "    \" Tenth and to the seven succeeding Congresses (January 3, 2007-January 3, 2023);\"\n",
    "    \" was not a candidate for reelection to the House of Representatives but was\"\n",
    "    \" elected as a Democrat to the United States Senate in 2022 for the term ending\"\n",
    "    \" January 3, 2029.\"\n",
    ")\n",
    "currentBios.loc[2107, \"profileText\"] = welchBio"
   ]
  },
  {
   "cell_type": "code",
   "execution_count": 13,
   "metadata": {},
   "outputs": [
    {
     "data": {
      "text/plain": [
       "state\n",
       "OK    1\n",
       "NC    1\n",
       "Name: count, dtype: int64"
      ]
     },
     "execution_count": 13,
     "metadata": {},
     "output_type": "execute_result"
    }
   ],
   "source": [
    "currentBios.loc[\n",
    "    (\n",
    "        currentBios.profileText.str.lower().str.contains(\"a senator from\")\n",
    "        | currentBios.profileText.str.lower().str.contains(\"a senator and a represent\")\n",
    "        | currentBios.profileText.str.lower().str.contains(\"a senator and represent\")\n",
    "    )\n",
    "].state.value_counts().loc[lambda x: x == 1]"
   ]
  },
  {
   "cell_type": "markdown",
   "metadata": {},
   "source": [
    "Alright, that's VT down, now just Oklahoma and NC. My bet is that the same thing happened to Markwayne Mullin and Ted Budd."
   ]
  },
  {
   "cell_type": "code",
   "execution_count": 14,
   "metadata": {},
   "outputs": [
    {
     "data": {
      "text/html": [
       "<div>\n",
       "<style scoped>\n",
       "    .dataframe tbody tr th:only-of-type {\n",
       "        vertical-align: middle;\n",
       "    }\n",
       "\n",
       "    .dataframe tbody tr th {\n",
       "        vertical-align: top;\n",
       "    }\n",
       "\n",
       "    .dataframe thead th {\n",
       "        text-align: right;\n",
       "    }\n",
       "</style>\n",
       "<table border=\"1\" class=\"dataframe\">\n",
       "  <thead>\n",
       "    <tr style=\"text-align: right;\">\n",
       "      <th></th>\n",
       "      <th>givenName</th>\n",
       "      <th>familyName</th>\n",
       "      <th>congresses</th>\n",
       "      <th>profileText</th>\n",
       "      <th>jobPositions</th>\n",
       "      <th>party</th>\n",
       "      <th>state</th>\n",
       "    </tr>\n",
       "  </thead>\n",
       "  <tbody>\n",
       "    <tr>\n",
       "      <th>4740</th>\n",
       "      <td>James</td>\n",
       "      <td>Lankford</td>\n",
       "      <td>[112, 113, 114, 115, 116, 117, 118]</td>\n",
       "      <td>&lt;p&gt;A Senator and a Representative from Oklahom...</td>\n",
       "      <td>[{'job': {'name': 'Representative', 'jobType':...</td>\n",
       "      <td>R</td>\n",
       "      <td>OK</td>\n",
       "    </tr>\n",
       "    <tr>\n",
       "      <th>11543</th>\n",
       "      <td>Thomas</td>\n",
       "      <td>Tillis</td>\n",
       "      <td>[114, 115, 116, 117, 118]</td>\n",
       "      <td>A Senator from North Carolina; born in Jackson...</td>\n",
       "      <td>[{'job': {'name': 'Senator', 'jobType': 'Congr...</td>\n",
       "      <td>R</td>\n",
       "      <td>NC</td>\n",
       "    </tr>\n",
       "  </tbody>\n",
       "</table>\n",
       "</div>"
      ],
      "text/plain": [
       "      givenName familyName                           congresses  \\\n",
       "4740      James   Lankford  [112, 113, 114, 115, 116, 117, 118]   \n",
       "11543    Thomas     Tillis            [114, 115, 116, 117, 118]   \n",
       "\n",
       "                                             profileText  \\\n",
       "4740   <p>A Senator and a Representative from Oklahom...   \n",
       "11543  A Senator from North Carolina; born in Jackson...   \n",
       "\n",
       "                                            jobPositions party state  \n",
       "4740   [{'job': {'name': 'Representative', 'jobType':...     R    OK  \n",
       "11543  [{'job': {'name': 'Senator', 'jobType': 'Congr...     R    NC  "
      ]
     },
     "execution_count": 14,
     "metadata": {},
     "output_type": "execute_result"
    }
   ],
   "source": [
    "currentBios.loc[\n",
    "    (\n",
    "        currentBios.profileText.str.lower().str.contains(\"a senator from\")\n",
    "        | currentBios.profileText.str.lower().str.contains(\"a senator and a represent\")\n",
    "        | currentBios.profileText.str.lower().str.contains(\"a senator and represent\")\n",
    "    )\n",
    "].loc[lambda x: (x.state == \"OK\") | (x.state == \"NC\")]"
   ]
  },
  {
   "cell_type": "markdown",
   "metadata": {},
   "source": [
    "Yep, my hunch was right."
   ]
  },
  {
   "cell_type": "code",
   "execution_count": 15,
   "metadata": {},
   "outputs": [
    {
     "data": {
      "text/html": [
       "<div>\n",
       "<style scoped>\n",
       "    .dataframe tbody tr th:only-of-type {\n",
       "        vertical-align: middle;\n",
       "    }\n",
       "\n",
       "    .dataframe tbody tr th {\n",
       "        vertical-align: top;\n",
       "    }\n",
       "\n",
       "    .dataframe thead th {\n",
       "        text-align: right;\n",
       "    }\n",
       "</style>\n",
       "<table border=\"1\" class=\"dataframe\">\n",
       "  <thead>\n",
       "    <tr style=\"text-align: right;\">\n",
       "      <th></th>\n",
       "      <th>givenName</th>\n",
       "      <th>familyName</th>\n",
       "      <th>congresses</th>\n",
       "      <th>profileText</th>\n",
       "      <th>jobPositions</th>\n",
       "      <th>party</th>\n",
       "      <th>state</th>\n",
       "    </tr>\n",
       "  </thead>\n",
       "  <tbody>\n",
       "    <tr>\n",
       "      <th>11757</th>\n",
       "      <td>Markwayne</td>\n",
       "      <td>Mullin</td>\n",
       "      <td>[113, 114, 115, 116, 117, 118]</td>\n",
       "      <td>a Representative from Oklahoma; born in Tulsa,...</td>\n",
       "      <td>[{'job': {'name': 'Representative', 'jobType':...</td>\n",
       "      <td>R</td>\n",
       "      <td>OK</td>\n",
       "    </tr>\n",
       "  </tbody>\n",
       "</table>\n",
       "</div>"
      ],
      "text/plain": [
       "       givenName familyName                      congresses  \\\n",
       "11757  Markwayne     Mullin  [113, 114, 115, 116, 117, 118]   \n",
       "\n",
       "                                             profileText  \\\n",
       "11757  a Representative from Oklahoma; born in Tulsa,...   \n",
       "\n",
       "                                            jobPositions party state  \n",
       "11757  [{'job': {'name': 'Representative', 'jobType':...     R    OK  "
      ]
     },
     "metadata": {},
     "output_type": "display_data"
    },
    {
     "data": {
      "text/html": [
       "<div>\n",
       "<style scoped>\n",
       "    .dataframe tbody tr th:only-of-type {\n",
       "        vertical-align: middle;\n",
       "    }\n",
       "\n",
       "    .dataframe tbody tr th {\n",
       "        vertical-align: top;\n",
       "    }\n",
       "\n",
       "    .dataframe thead th {\n",
       "        text-align: right;\n",
       "    }\n",
       "</style>\n",
       "<table border=\"1\" class=\"dataframe\">\n",
       "  <thead>\n",
       "    <tr style=\"text-align: right;\">\n",
       "      <th></th>\n",
       "      <th>givenName</th>\n",
       "      <th>familyName</th>\n",
       "      <th>congresses</th>\n",
       "      <th>profileText</th>\n",
       "      <th>jobPositions</th>\n",
       "      <th>party</th>\n",
       "      <th>state</th>\n",
       "    </tr>\n",
       "  </thead>\n",
       "  <tbody>\n",
       "    <tr>\n",
       "      <th>11757</th>\n",
       "      <td>Markwayne</td>\n",
       "      <td>Mullin</td>\n",
       "      <td>[113, 114, 115, 116, 117, 118]</td>\n",
       "      <td>a Senator and a Representative from Oklahoma; ...</td>\n",
       "      <td>[{'job': {'name': 'Representative', 'jobType':...</td>\n",
       "      <td>R</td>\n",
       "      <td>OK</td>\n",
       "    </tr>\n",
       "  </tbody>\n",
       "</table>\n",
       "</div>"
      ],
      "text/plain": [
       "       givenName familyName                      congresses  \\\n",
       "11757  Markwayne     Mullin  [113, 114, 115, 116, 117, 118]   \n",
       "\n",
       "                                             profileText  \\\n",
       "11757  a Senator and a Representative from Oklahoma; ...   \n",
       "\n",
       "                                            jobPositions party state  \n",
       "11757  [{'job': {'name': 'Representative', 'jobType':...     R    OK  "
      ]
     },
     "metadata": {},
     "output_type": "display_data"
    }
   ],
   "source": [
    "display(\n",
    "    currentBios.loc[lambda x: (x.givenName == \"Markwayne\") & (x.familyName == \"Mullin\")]\n",
    ")\n",
    "currentBios.loc[11757, \"profileText\"] = currentBios.loc[11757, \"profileText\"].replace(\n",
    "    \"a Representative from\", \"a Senator and a Representative from\"\n",
    ")\n",
    "\n",
    "display(\n",
    "    currentBios.loc[lambda x: (x.givenName == \"Markwayne\") & (x.familyName == \"Mullin\")]\n",
    ")"
   ]
  },
  {
   "cell_type": "code",
   "execution_count": 16,
   "metadata": {},
   "outputs": [
    {
     "data": {
      "text/html": [
       "<div>\n",
       "<style scoped>\n",
       "    .dataframe tbody tr th:only-of-type {\n",
       "        vertical-align: middle;\n",
       "    }\n",
       "\n",
       "    .dataframe tbody tr th {\n",
       "        vertical-align: top;\n",
       "    }\n",
       "\n",
       "    .dataframe thead th {\n",
       "        text-align: right;\n",
       "    }\n",
       "</style>\n",
       "<table border=\"1\" class=\"dataframe\">\n",
       "  <thead>\n",
       "    <tr style=\"text-align: right;\">\n",
       "      <th></th>\n",
       "      <th>givenName</th>\n",
       "      <th>familyName</th>\n",
       "      <th>congresses</th>\n",
       "      <th>profileText</th>\n",
       "      <th>jobPositions</th>\n",
       "      <th>party</th>\n",
       "      <th>state</th>\n",
       "    </tr>\n",
       "  </thead>\n",
       "  <tbody>\n",
       "    <tr>\n",
       "      <th>9656</th>\n",
       "      <td>Theodore</td>\n",
       "      <td>Budd</td>\n",
       "      <td>[115, 116, 117, 118]</td>\n",
       "      <td>a Representative from North Carolina; born in ...</td>\n",
       "      <td>[{'job': {'name': 'Representative', 'jobType':...</td>\n",
       "      <td>R</td>\n",
       "      <td>NC</td>\n",
       "    </tr>\n",
       "  </tbody>\n",
       "</table>\n",
       "</div>"
      ],
      "text/plain": [
       "     givenName familyName            congresses  \\\n",
       "9656  Theodore       Budd  [115, 116, 117, 118]   \n",
       "\n",
       "                                            profileText  \\\n",
       "9656  a Representative from North Carolina; born in ...   \n",
       "\n",
       "                                           jobPositions party state  \n",
       "9656  [{'job': {'name': 'Representative', 'jobType':...     R    NC  "
      ]
     },
     "metadata": {},
     "output_type": "display_data"
    },
    {
     "data": {
      "text/html": [
       "<div>\n",
       "<style scoped>\n",
       "    .dataframe tbody tr th:only-of-type {\n",
       "        vertical-align: middle;\n",
       "    }\n",
       "\n",
       "    .dataframe tbody tr th {\n",
       "        vertical-align: top;\n",
       "    }\n",
       "\n",
       "    .dataframe thead th {\n",
       "        text-align: right;\n",
       "    }\n",
       "</style>\n",
       "<table border=\"1\" class=\"dataframe\">\n",
       "  <thead>\n",
       "    <tr style=\"text-align: right;\">\n",
       "      <th></th>\n",
       "      <th>givenName</th>\n",
       "      <th>familyName</th>\n",
       "      <th>congresses</th>\n",
       "      <th>profileText</th>\n",
       "      <th>jobPositions</th>\n",
       "      <th>party</th>\n",
       "      <th>state</th>\n",
       "    </tr>\n",
       "  </thead>\n",
       "  <tbody>\n",
       "    <tr>\n",
       "      <th>9656</th>\n",
       "      <td>Theodore</td>\n",
       "      <td>Budd</td>\n",
       "      <td>[115, 116, 117, 118]</td>\n",
       "      <td>a Senator and a Representative from North Caro...</td>\n",
       "      <td>[{'job': {'name': 'Representative', 'jobType':...</td>\n",
       "      <td>R</td>\n",
       "      <td>NC</td>\n",
       "    </tr>\n",
       "  </tbody>\n",
       "</table>\n",
       "</div>"
      ],
      "text/plain": [
       "     givenName familyName            congresses  \\\n",
       "9656  Theodore       Budd  [115, 116, 117, 118]   \n",
       "\n",
       "                                            profileText  \\\n",
       "9656  a Senator and a Representative from North Caro...   \n",
       "\n",
       "                                           jobPositions party state  \n",
       "9656  [{'job': {'name': 'Representative', 'jobType':...     R    NC  "
      ]
     },
     "metadata": {},
     "output_type": "display_data"
    }
   ],
   "source": [
    "display(\n",
    "    currentBios.loc[lambda x: (x.givenName == \"Theodore\") & (x.familyName == \"Budd\")]\n",
    ")\n",
    "currentBios.loc[9656, \"profileText\"] = currentBios.loc[9656, \"profileText\"].replace(\n",
    "    \"a Representative from\", \"a Senator and a Representative from\"\n",
    ")\n",
    "\n",
    "display(\n",
    "    currentBios.loc[lambda x: (x.givenName == \"Theodore\") & (x.familyName == \"Budd\")]\n",
    ")"
   ]
  },
  {
   "cell_type": "code",
   "execution_count": 17,
   "metadata": {},
   "outputs": [
    {
     "data": {
      "text/plain": [
       "Series([], Name: count, dtype: int64)"
      ]
     },
     "execution_count": 17,
     "metadata": {},
     "output_type": "execute_result"
    }
   ],
   "source": [
    "currentBios.loc[\n",
    "    (\n",
    "        currentBios.profileText.str.lower().str.contains(\"a senator from\")\n",
    "        | currentBios.profileText.str.lower().str.contains(\"a senator and a represent\")\n",
    "        | currentBios.profileText.str.lower().str.contains(\"a senator and represent\")\n",
    "    )\n",
    "].state.value_counts().loc[lambda x: x == 1]"
   ]
  },
  {
   "cell_type": "markdown",
   "metadata": {},
   "source": [
    "Alright, now we can easily flag everyone who was a senator in the 118th congress! Let's make an indicator real quick:"
   ]
  },
  {
   "cell_type": "code",
   "execution_count": 18,
   "metadata": {},
   "outputs": [],
   "source": [
    "currentBios[\"senator\"] = (\n",
    "    currentBios.profileText.str.lower().str.contains(\"a senator from\")\n",
    "    | currentBios.profileText.str.lower().str.contains(\"a senator and a represent\")\n",
    "    | currentBios.profileText.str.lower().str.contains(\"a senator and represent\")\n",
    ").astype(bool)"
   ]
  },
  {
   "cell_type": "markdown",
   "metadata": {},
   "source": [
    "### Checking representatives"
   ]
  },
  {
   "cell_type": "code",
   "execution_count": 19,
   "metadata": {},
   "outputs": [
    {
     "data": {
      "text/plain": [
       "np.int64(441)"
      ]
     },
     "execution_count": 19,
     "metadata": {},
     "output_type": "execute_result"
    }
   ],
   "source": [
    "currentBios.senator.apply(lambda x: not x).sum()"
   ]
  },
  {
   "cell_type": "markdown",
   "metadata": {},
   "source": [
    "Okay, this is what I expected! There are, after all, [6 non-voting members of the House of Representatives](https://en.wikipedia.org/wiki/Non-voting_members_of_the_United_States_House_of_Representatives), and 435 = 441 - 6. I don't really care about the non-voting members, though (no offense), so I'll be dropping them (as well as making sure each state has the correct number of reps).\n",
    "\n",
    "I might want to write a more robust script to handle Congresses before 1960 (i.e. more robust \"was this state a state at the time\" handling), but that isn't a problem right now."
   ]
  },
  {
   "cell_type": "code",
   "execution_count": 20,
   "metadata": {},
   "outputs": [
    {
     "data": {
      "text/html": [
       "<div>\n",
       "<style scoped>\n",
       "    .dataframe tbody tr th:only-of-type {\n",
       "        vertical-align: middle;\n",
       "    }\n",
       "\n",
       "    .dataframe tbody tr th {\n",
       "        vertical-align: top;\n",
       "    }\n",
       "\n",
       "    .dataframe thead th {\n",
       "        text-align: right;\n",
       "    }\n",
       "</style>\n",
       "<table border=\"1\" class=\"dataframe\">\n",
       "  <thead>\n",
       "    <tr style=\"text-align: right;\">\n",
       "      <th></th>\n",
       "      <th>givenName</th>\n",
       "      <th>familyName</th>\n",
       "      <th>congresses</th>\n",
       "      <th>profileText</th>\n",
       "      <th>jobPositions</th>\n",
       "      <th>party</th>\n",
       "      <th>state</th>\n",
       "      <th>senator</th>\n",
       "    </tr>\n",
       "  </thead>\n",
       "  <tbody>\n",
       "    <tr>\n",
       "      <th>2306</th>\n",
       "      <td>Aumua</td>\n",
       "      <td>Radewagen</td>\n",
       "      <td>[114, 115, 116, 117, 118]</td>\n",
       "      <td>a Delegate from American Samoa; born in Washin...</td>\n",
       "      <td>[{'job': {'name': 'Delegate', 'jobType': 'Cong...</td>\n",
       "      <td>R</td>\n",
       "      <td>None</td>\n",
       "      <td>False</td>\n",
       "    </tr>\n",
       "    <tr>\n",
       "      <th>2586</th>\n",
       "      <td>Stacey</td>\n",
       "      <td>Plaskett</td>\n",
       "      <td>[114, 115, 116, 117, 118]</td>\n",
       "      <td>A Delegate from the Virgin Islands; born in Ne...</td>\n",
       "      <td>[{'job': {'name': 'Delegate', 'jobType': 'Cong...</td>\n",
       "      <td>D</td>\n",
       "      <td>None</td>\n",
       "      <td>False</td>\n",
       "    </tr>\n",
       "    <tr>\n",
       "      <th>3087</th>\n",
       "      <td>James</td>\n",
       "      <td>Moylan</td>\n",
       "      <td>[118]</td>\n",
       "      <td>a Delegate from Guam; born on July 18, 1962; g...</td>\n",
       "      <td>[{'job': {'name': 'Delegate', 'jobType': 'Cong...</td>\n",
       "      <td>R</td>\n",
       "      <td>None</td>\n",
       "      <td>False</td>\n",
       "    </tr>\n",
       "    <tr>\n",
       "      <th>3812</th>\n",
       "      <td>Jenniffer</td>\n",
       "      <td>González-Colón</td>\n",
       "      <td>[115, 116, 117, 118]</td>\n",
       "      <td>a Resident Commissioner from Puerto Rico; born...</td>\n",
       "      <td>[{'job': {'name': 'Resident Commissioner', 'jo...</td>\n",
       "      <td>R</td>\n",
       "      <td>None</td>\n",
       "      <td>False</td>\n",
       "    </tr>\n",
       "    <tr>\n",
       "      <th>5134</th>\n",
       "      <td>Gregorio</td>\n",
       "      <td>Sablan</td>\n",
       "      <td>[111, 112, 113, 114, 115, 116, 117, 118]</td>\n",
       "      <td>a Delegate from the Northern Mariana Islands; ...</td>\n",
       "      <td>[{'job': {'name': 'Delegate', 'jobType': 'Cong...</td>\n",
       "      <td>D</td>\n",
       "      <td>None</td>\n",
       "      <td>False</td>\n",
       "    </tr>\n",
       "    <tr>\n",
       "      <th>12811</th>\n",
       "      <td>Eleanor</td>\n",
       "      <td>Norton</td>\n",
       "      <td>[102, 103, 104, 105, 106, 107, 108, 109, 110, ...</td>\n",
       "      <td>a Delegate from the District of Columbia; born...</td>\n",
       "      <td>[{'job': {'name': 'Delegate', 'jobType': 'Cong...</td>\n",
       "      <td>D</td>\n",
       "      <td>None</td>\n",
       "      <td>False</td>\n",
       "    </tr>\n",
       "  </tbody>\n",
       "</table>\n",
       "</div>"
      ],
      "text/plain": [
       "       givenName      familyName  \\\n",
       "2306       Aumua       Radewagen   \n",
       "2586      Stacey        Plaskett   \n",
       "3087       James          Moylan   \n",
       "3812   Jenniffer  González-Colón   \n",
       "5134    Gregorio          Sablan   \n",
       "12811    Eleanor          Norton   \n",
       "\n",
       "                                              congresses  \\\n",
       "2306                           [114, 115, 116, 117, 118]   \n",
       "2586                           [114, 115, 116, 117, 118]   \n",
       "3087                                               [118]   \n",
       "3812                                [115, 116, 117, 118]   \n",
       "5134            [111, 112, 113, 114, 115, 116, 117, 118]   \n",
       "12811  [102, 103, 104, 105, 106, 107, 108, 109, 110, ...   \n",
       "\n",
       "                                             profileText  \\\n",
       "2306   a Delegate from American Samoa; born in Washin...   \n",
       "2586   A Delegate from the Virgin Islands; born in Ne...   \n",
       "3087   a Delegate from Guam; born on July 18, 1962; g...   \n",
       "3812   a Resident Commissioner from Puerto Rico; born...   \n",
       "5134   a Delegate from the Northern Mariana Islands; ...   \n",
       "12811  a Delegate from the District of Columbia; born...   \n",
       "\n",
       "                                            jobPositions party state  senator  \n",
       "2306   [{'job': {'name': 'Delegate', 'jobType': 'Cong...     R  None    False  \n",
       "2586   [{'job': {'name': 'Delegate', 'jobType': 'Cong...     D  None    False  \n",
       "3087   [{'job': {'name': 'Delegate', 'jobType': 'Cong...     R  None    False  \n",
       "3812   [{'job': {'name': 'Resident Commissioner', 'jo...     R  None    False  \n",
       "5134   [{'job': {'name': 'Delegate', 'jobType': 'Cong...     D  None    False  \n",
       "12811  [{'job': {'name': 'Delegate', 'jobType': 'Cong...     D  None    False  "
      ]
     },
     "execution_count": 20,
     "metadata": {},
     "output_type": "execute_result"
    }
   ],
   "source": [
    "currentBios.loc[currentBios.senator.apply(lambda x: not x) & currentBios.state.isna()]"
   ]
  },
  {
   "cell_type": "code",
   "execution_count": 21,
   "metadata": {},
   "outputs": [],
   "source": [
    "currentBios.drop(\n",
    "    currentBios.loc[\n",
    "        currentBios.senator.apply(lambda x: not x) & currentBios.state.isna()\n",
    "    ].index,\n",
    "    inplace=True,\n",
    ")"
   ]
  },
  {
   "cell_type": "code",
   "execution_count": 22,
   "metadata": {},
   "outputs": [],
   "source": [
    "reps = {\n",
    "    get_state_abbrev(k): v\n",
    "    for k, v in zip(utils.number_of_reps.keys(), utils.number_of_reps.values())\n",
    "}"
   ]
  },
  {
   "cell_type": "code",
   "execution_count": 23,
   "metadata": {},
   "outputs": [
    {
     "data": {
      "text/plain": [
       "[]"
      ]
     },
     "execution_count": 23,
     "metadata": {},
     "output_type": "execute_result"
    }
   ],
   "source": [
    "# confirming that every state has the correct number of reps\n",
    "\n",
    "[\n",
    "    state\n",
    "    for state in currentBios.loc[currentBios.senator.apply(lambda x: not x)]\n",
    "    .state.value_counts()\n",
    "    .index\n",
    "    if currentBios.loc[currentBios.senator.apply(lambda x: not x)]\n",
    "    .state.value_counts()\n",
    "    .loc[state]\n",
    "    != reps[state]\n",
    "]"
   ]
  },
  {
   "cell_type": "code",
   "execution_count": 24,
   "metadata": {},
   "outputs": [],
   "source": [
    "currentBios[\"congressLabels\"] = currentBios.apply(\n",
    "    lambda row: f\"{row.givenName} {row.familyName} ({row.party}-{row.state})\",\n",
    "    axis=1,\n",
    ")"
   ]
  },
  {
   "cell_type": "markdown",
   "metadata": {},
   "source": [
    "### Applying categories\n",
    "\n",
    "Here, I put the csv into Google Sheets and did a whole lot more work on it — basically all manual, which wasn't fun. Turns out it's tough to hard-code which things ought to count as which categories. I tried some GPT-4 api calls, but I didn't end up doing too well. Good news is that, after poking around there, I can do it more efficiently here below.\n",
    "\n",
    "The labels below are almost entirely the originals from the [New York Times piece](https://www.nytimes.com/interactive/2019/01/26/opinion/sunday/paths-to-congress.html) except that I added\n",
    "- previously unsuccessful candidate for office,\n",
    "- more specific master's degrees,\n",
    "- previous experience in party politics.\n",
    "\n",
    "I think I was also more generous with what counts as a medical degree, including nursing and osteopathic degrees.\n",
    "\n",
    "You can see what I checked for each thing by examining the flags I've added for each category in in the `utils` module, though. "
   ]
  },
  {
   "cell_type": "code",
   "execution_count": 25,
   "metadata": {},
   "outputs": [],
   "source": [
    "def splitAndTest(profileText, contains, doesntContain=[]):\n",
    "    bioItems = profileText.lower().split(\";\")\n",
    "    if doesntContain:\n",
    "        for bioItem in bioItems:\n",
    "            for c in contains:\n",
    "                if c.lower() in bioItem:\n",
    "                    if not any(dc.lower() in bioItem for dc in doesntContain):\n",
    "                        return bioItem\n",
    "                    else:\n",
    "                        continue\n",
    "        return False\n",
    "\n",
    "    else:\n",
    "        for bioItem in bioItems:\n",
    "            for c in contains:\n",
    "                if c.lower() in bioItem:\n",
    "                    return bioItem\n",
    "        return False"
   ]
  },
  {
   "cell_type": "code",
   "execution_count": 26,
   "metadata": {},
   "outputs": [],
   "source": [
    "currentBios[\"communityCollege\"] = currentBios.profileText.apply(\n",
    "    lambda x: splitAndTest(\n",
    "        x, utils.communityCollege, [\"board\", \"professor\", \"instructor\", \"president\"]\n",
    "    )\n",
    ")"
   ]
  },
  {
   "cell_type": "code",
   "execution_count": 27,
   "metadata": {},
   "outputs": [],
   "source": [
    "currentBios[\"eliteCollege\"] = currentBios.profileText.apply(\n",
    "    lambda x: splitAndTest(\n",
    "        x,\n",
    "        utils.eliteCollege,\n",
    "        utils.otherMasters\n",
    "        + utils.mba\n",
    "        + utils.medDegree\n",
    "        + utils.doctorate\n",
    "        + utils.lawSchool\n",
    "        + [\n",
    "            \"county\",\n",
    "            \"post-graduate studies\",\n",
    "            \"fellow\",\n",
    "            \"high school\",\n",
    "            \"medical school\",\n",
    "            \"hospital\",\n",
    "            \"texas southmost college\",\n",
    "            \"extension school\",\n",
    "        ],\n",
    "    )\n",
    ")"
   ]
  },
  {
   "cell_type": "code",
   "execution_count": 28,
   "metadata": {},
   "outputs": [],
   "source": [
    "currentBios[\"publicCollege\"] = currentBios.profileText.apply(\n",
    "    lambda x: splitAndTest(\n",
    "        x,\n",
    "        utils.publicCollege,\n",
    "        utils.otherMasters\n",
    "        + utils.mba\n",
    "        + utils.medDegree\n",
    "        + utils.doctorate\n",
    "        + utils.lawSchool\n",
    "        + utils.education\n",
    "        + [\n",
    "            # \"county\",\n",
    "            \"post-graduate studies\",\n",
    "            \"fellow\",\n",
    "            \"high school\",\n",
    "            \"medical school\",\n",
    "            \"hospital\",\n",
    "            \"texas southmost college\",\n",
    "            \"extension school\",\n",
    "            \"board of governors\",\n",
    "            \"a.a.s.\",\n",
    "        ],\n",
    "    )\n",
    ")"
   ]
  },
  {
   "cell_type": "code",
   "execution_count": 29,
   "metadata": {},
   "outputs": [],
   "source": [
    "currentBios[\"privateCollege\"] = currentBios.profileText.apply(\n",
    "    lambda x: splitAndTest(\n",
    "        x,\n",
    "        utils.privateCollege,\n",
    "        utils.otherMasters\n",
    "        + utils.mba\n",
    "        + utils.medDegree\n",
    "        + utils.doctorate\n",
    "        + utils.lawSchool\n",
    "        + utils.education\n",
    "        + [\n",
    "            \"county\",\n",
    "            \"post-graduate studies\",\n",
    "            \"fellow\",\n",
    "            \"high school\",\n",
    "            \"medical school\",\n",
    "            \"hospital\",\n",
    "            \"texas southmost college\",\n",
    "            \"extension school\",\n",
    "            \"board of governors\",\n",
    "            \"a.a.s.\",\n",
    "        ],\n",
    "    )\n",
    ")"
   ]
  },
  {
   "cell_type": "code",
   "execution_count": 30,
   "metadata": {},
   "outputs": [],
   "source": [
    "currentBios[\"noBA\"] = currentBios.apply(\n",
    "    lambda x: (\n",
    "        (not x[\"communityCollege\"])\n",
    "        & (not x[\"eliteCollege\"])\n",
    "        & (not x[\"publicCollege\"])\n",
    "        & (not x[\"privateCollege\"])\n",
    "    ),\n",
    "    axis=1,\n",
    ")"
   ]
  },
  {
   "cell_type": "code",
   "execution_count": 31,
   "metadata": {},
   "outputs": [],
   "source": [
    "currentBios[\"lawSchool\"] = currentBios.profileText.apply(\n",
    "    lambda x: splitAndTest(x, utils.lawSchool)\n",
    ")"
   ]
  },
  {
   "cell_type": "code",
   "execution_count": 32,
   "metadata": {},
   "outputs": [],
   "source": [
    "currentBios[\"medDegree\"] = currentBios.profileText.apply(\n",
    "    lambda x: splitAndTest(x, utils.medDegree)\n",
    ")"
   ]
  },
  {
   "cell_type": "code",
   "execution_count": 33,
   "metadata": {},
   "outputs": [],
   "source": [
    "currentBios[\"doctorate\"] = currentBios.profileText.apply(\n",
    "    lambda x: splitAndTest(x, utils.doctorate)\n",
    ")"
   ]
  },
  {
   "cell_type": "code",
   "execution_count": 34,
   "metadata": {},
   "outputs": [],
   "source": [
    "currentBios[\"mba\"] = currentBios.profileText.apply(lambda x: splitAndTest(x, utils.mba))"
   ]
  },
  {
   "cell_type": "code",
   "execution_count": 35,
   "metadata": {},
   "outputs": [],
   "source": [
    "currentBios[\"otherMasters\"] = currentBios.profileText.apply(\n",
    "    lambda x: splitAndTest(x, utils.otherMasters)\n",
    ")"
   ]
  },
  {
   "cell_type": "code",
   "execution_count": 36,
   "metadata": {},
   "outputs": [],
   "source": [
    "currentBios[\"military\"] = currentBios.profileText.apply(\n",
    "    lambda x: splitAndTest(x, utils.military, [\"academy\", \"college\"])\n",
    ")"
   ]
  },
  {
   "cell_type": "code",
   "execution_count": 37,
   "metadata": {},
   "outputs": [],
   "source": [
    "currentBios[\"lawyerPrivatePractice\"] = currentBios.profileText.apply(\n",
    "    lambda x: splitAndTest(x, utils.lawyerPrivatePractice)\n",
    ")\n",
    "currentBios[\"lawyerPrivatePractice\"] = [\n",
    "    (\n",
    "        currentBios.lawyerPrivatePractice.iloc[i]\n",
    "        if currentBios.lawyerPrivatePractice.iloc[i]\n",
    "        else (\n",
    "            \"lawyer\"\n",
    "            if any(\n",
    "                [\n",
    "                    (\n",
    "                        bioItem\n",
    "                        if (bioItem.strip() == \"lawyer\")\n",
    "                        | (bioItem.strip() == \"attorney\")\n",
    "                        else False\n",
    "                    )\n",
    "                    for bioItem in currentBios.profileText.iloc[i].lower().split(\";\")\n",
    "                ]\n",
    "            )\n",
    "            else False\n",
    "        )\n",
    "    )\n",
    "    for i in range(len(currentBios))\n",
    "]"
   ]
  },
  {
   "cell_type": "code",
   "execution_count": 38,
   "metadata": {},
   "outputs": [],
   "source": [
    "currentBios[\"publicLawyerOrJudge\"] = currentBios.profileText.apply(\n",
    "    lambda x: splitAndTest(\n",
    "        x, utils.publicLawyerOrJudge, [\"college counselor\", \"one of the managers\"]\n",
    "    )\n",
    ")"
   ]
  },
  {
   "cell_type": "code",
   "execution_count": 39,
   "metadata": {},
   "outputs": [],
   "source": [
    "currentBios[\"prevUnsuccessfulCandidate\"] = currentBios.profileText.apply(\n",
    "    lambda x: splitAndTest(x, utils.prevUnsuccessfulCandidate)\n",
    ")"
   ]
  },
  {
   "cell_type": "code",
   "execution_count": 40,
   "metadata": {},
   "outputs": [],
   "source": [
    "currentBios[\"partyPolitics\"] = currentBios.profileText.apply(\n",
    "    lambda x: splitAndTest(\n",
    "        x,\n",
    "        utils.partyPolitics + [\"democratic\", \"republican\"],\n",
    "        [\n",
    "            \"elected as a republican\",\n",
    "            \"united states\",\n",
    "            \"unsuccessful\",\n",
    "            \"independent\",\n",
    "            \"select committee on the strategic competition\",\n",
    "            \"governor of maine\",\n",
    "        ],\n",
    "    )\n",
    ")"
   ]
  },
  {
   "cell_type": "code",
   "execution_count": 41,
   "metadata": {},
   "outputs": [],
   "source": [
    "currentBios[\"sciOrEng\"] = currentBios.profileText.apply(\n",
    "    lambda x: splitAndTest(x, utils.sciOrEng, [\"b.s.\", \"m.s.\"])\n",
    ")"
   ]
  },
  {
   "cell_type": "code",
   "execution_count": 42,
   "metadata": {},
   "outputs": [],
   "source": [
    "currentBios[\"religion\"] = currentBios.profileText.apply(\n",
    "    lambda x: splitAndTest(x, utils.religion, [\"b.s.\", \"m.s.\"])\n",
    ")"
   ]
  },
  {
   "cell_type": "code",
   "execution_count": 43,
   "metadata": {},
   "outputs": [],
   "source": [
    "currentBios[\"healthcare\"] = currentBios.profileText.apply(\n",
    "    lambda x: splitAndTest(x, utils.healthcare, [\"b.s.\", \"m.s.\", \"m.d.\"])\n",
    ")"
   ]
  },
  {
   "cell_type": "code",
   "execution_count": 44,
   "metadata": {},
   "outputs": [],
   "source": [
    "currentBios[\"blueCollarOrServiceJob\"] = currentBios.profileText.apply(\n",
    "    lambda x: splitAndTest(x, utils.blueCollarOrServiceJob, [\"academy\"])\n",
    ")"
   ]
  },
  {
   "cell_type": "code",
   "execution_count": 45,
   "metadata": {},
   "outputs": [],
   "source": [
    "currentBios[\"education\"] = currentBios.profileText.apply(\n",
    "    lambda x: splitAndTest(x, utils.education, [\"elected as a republican\"])\n",
    ")"
   ]
  },
  {
   "cell_type": "code",
   "execution_count": 46,
   "metadata": {},
   "outputs": [],
   "source": [
    "currentBios[\"nonprofitsAndUnions\"] = currentBios.profileText.apply(\n",
    "    lambda x: splitAndTest(\n",
    "        x,\n",
    "        utils.nonprofitsAndUnions,\n",
    "        [\n",
    "            \"credit union\",\n",
    "            \"union, n.j.\",\n",
    "            \"union county, n.j.\",\n",
    "            \"union, miss.\",\n",
    "            \"union city\",\n",
    "            \"union theological seminary\",\n",
    "            \"ph.d., union institute\",\n",
    "        ],\n",
    "    )\n",
    ")"
   ]
  },
  {
   "cell_type": "code",
   "execution_count": 47,
   "metadata": {},
   "outputs": [],
   "source": [
    "currentBios[\"sports\"] = currentBios.profileText.apply(\n",
    "    lambda x: splitAndTest(x, utils.sports, [\"coachella valley high school\"])\n",
    ")"
   ]
  },
  {
   "cell_type": "code",
   "execution_count": 48,
   "metadata": {},
   "outputs": [],
   "source": [
    "currentBios[\"media\"] = currentBios.profileText.apply(\n",
    "    lambda x: splitAndTest(\n",
    "        x, utils.media, [\"anchorage\", \"authority\", \"authorized\", \"speechwriter\"]\n",
    "    )\n",
    ")"
   ]
  },
  {
   "cell_type": "code",
   "execution_count": 49,
   "metadata": {},
   "outputs": [],
   "source": [
    "currentBios[\"realEstate\"] = currentBios.profileText.apply(\n",
    "    lambda x: splitAndTest(x, utils.realEstate)\n",
    ")"
   ]
  },
  {
   "cell_type": "code",
   "execution_count": 50,
   "metadata": {},
   "outputs": [],
   "source": [
    "currentBios[\"lawEnforcement\"] = currentBios.profileText.apply(\n",
    "    lambda x: splitAndTest(x, utils.lawEnforcement, [\"attorney\"])\n",
    ")"
   ]
  },
  {
   "cell_type": "code",
   "execution_count": 51,
   "metadata": {},
   "outputs": [],
   "source": [
    "currentBios[\"farmingOrRanching\"] = currentBios.profileText.apply(\n",
    "    lambda x: splitAndTest(\n",
    "        x, utils.farmingOrRanching, [\"chair, committee on agriculture\", \"administrator\"]\n",
    "    )\n",
    ")"
   ]
  },
  {
   "cell_type": "code",
   "execution_count": 52,
   "metadata": {},
   "outputs": [],
   "source": [
    "currentBios[\"businessOrManagement\"] = currentBios.profileText.apply(\n",
    "    lambda x: splitAndTest(\n",
    "        x,\n",
    "        utils.businessOrManagement,\n",
    "        [\n",
    "            \"campaign consultant\",\n",
    "            \"central intelligence agency\",\n",
    "            \"national nuclear security administration\",\n",
    "            \"fairbanks\",\n",
    "            \"committee on banking\",\n",
    "            \"b.a., business administration\",\n",
    "            \"county executive\",\n",
    "            \"red bank, monmouth county\",\n",
    "            \"executive office of the president\",\n",
    "            \"committee on small business\",\n",
    "            \"osceola\",\n",
    "            \"nonprofit\",\n",
    "            \"non-profit\",\n",
    "            \"small business administration\",\n",
    "            \"federal coordinator for gulf coast rebuilding\",\n",
    "            \"m.b.a.\",\n",
    "            \"m.p.a\",\n",
    "            \"bankruptcy court\",\n",
    "            \"business administration\",\n",
    "            \"secretary of state\",\n",
    "            \"government analyst\",\n",
    "            \"california democratic state central executive committee\",\n",
    "            \"executive director, human services\",\n",
    "            \"jefferson county\",\n",
    "            \"business regulation\",\n",
    "            \"commission\",\n",
    "            \"department of regulatory agencies\",\n",
    "            \"nevada system of higher education\",\n",
    "            \"republican state committee\",\n",
    "            \"workers' compensation board\",\n",
    "            \"afl-cio\",\n",
    "        ],\n",
    "    )\n",
    ")"
   ]
  },
  {
   "cell_type": "code",
   "execution_count": 53,
   "metadata": {},
   "outputs": [],
   "source": [
    "currentBios[\"lobbyingOrPacs\"] = currentBios.profileText.apply(\n",
    "    lambda x: splitAndTest(x, utils.lobbyingOrActivism)\n",
    ")"
   ]
  },
  {
   "cell_type": "code",
   "execution_count": 54,
   "metadata": {},
   "outputs": [],
   "source": [
    "currentBios[\"localGov\"] = currentBios.profileText.apply(\n",
    "    lambda x: splitAndTest(\n",
    "        x, utils.localGov, [\"graduated from\", \"b.a.\", \"unsuccessful candidate for\"]\n",
    "    )\n",
    ")"
   ]
  },
  {
   "cell_type": "code",
   "execution_count": 55,
   "metadata": {},
   "outputs": [],
   "source": [
    "currentBios[\"stateLeg\"] = currentBios.profileText.apply(\n",
    "    lambda x: splitAndTest(\n",
    "        x,\n",
    "        utils.stateLeg,\n",
    "        [\"legislative assistant\", \"aide\", \"staff\", \"counsel\", \"fellow\", \"unsuccessful\"],\n",
    "    )\n",
    ")"
   ]
  },
  {
   "cell_type": "code",
   "execution_count": 56,
   "metadata": {},
   "outputs": [],
   "source": [
    "currentBios[\"electedFedOrStateOffice\"] = currentBios.profileText.apply(\n",
    "    lambda x: splitAndTest(\n",
    "        x,\n",
    "        utils.electedFedOrStateOffice,\n",
    "        [\n",
    "            \"appointed\",\n",
    "            \"assistant u.s. secretary of state\",\n",
    "            \"inland empire regional office\",\n",
    "            \"counsel\",\n",
    "            \"advisor\",\n",
    "            \"unsuccessful\",\n",
    "            \"lost general election\",\n",
    "        ],\n",
    "    )\n",
    ")"
   ]
  },
  {
   "cell_type": "code",
   "execution_count": 57,
   "metadata": {},
   "outputs": [],
   "source": [
    "currentBios[\"nonElectedGovJob\"] = currentBios.profileText.apply(\n",
    "    lambda x: splitAndTest(\n",
    "        x,\n",
    "        utils.nonElectedGovJob + [\"advisor\"],\n",
    "        [\n",
    "            \"county\",\n",
    "            \"college\",\n",
    "            \"development advisor\",\n",
    "            \"emergency 9-1-1 dispatcher\",\n",
    "            \"nonprofit organization\",\n",
    "            \"n.y. council\",\n",
    "            \"graduated\",\n",
    "            \"postal inspector\",\n",
    "            \"inland empire regional office\",\n",
    "            \"chapel hill, n.c., police department\",\n",
    "            \"long beach, calif\",\n",
    "        ],\n",
    "    )\n",
    ")"
   ]
  },
  {
   "cell_type": "code",
   "execution_count": 58,
   "metadata": {},
   "outputs": [],
   "source": [
    "currentBios.to_json(\"../../data/118-processed-bios.json\")"
   ]
  }
 ],
 "metadata": {
  "kernelspec": {
   "display_name": ".venv",
   "language": "python",
   "name": "python3"
  },
  "language_info": {
   "codemirror_mode": {
    "name": "ipython",
    "version": 3
   },
   "file_extension": ".py",
   "mimetype": "text/x-python",
   "name": "python",
   "nbconvert_exporter": "python",
   "pygments_lexer": "ipython3",
   "version": "3.12.7"
  }
 },
 "nbformat": 4,
 "nbformat_minor": 2
}
