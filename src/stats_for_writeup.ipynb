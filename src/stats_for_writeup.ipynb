{
 "cells": [
  {
   "cell_type": "code",
   "execution_count": 2,
   "metadata": {},
   "outputs": [],
   "source": [
    "import pandas as pd"
   ]
  },
  {
   "cell_type": "code",
   "execution_count": 5,
   "metadata": {},
   "outputs": [],
   "source": [
    "df = pd.read_json(\"../data/processed/processed-bios.json\").T"
   ]
  },
  {
   "cell_type": "code",
   "execution_count": 44,
   "metadata": {},
   "outputs": [
    {
     "name": "stdout",
     "output_type": "stream",
     "text": [
      "fraction of that congress w/ no BA:\n",
      "0.012658227848101266\n",
      "fraction of that congress w/ no BA and rep:\n",
      "0.013544018058690745\n",
      "\n",
      "\n",
      "fraction of that congress w/ no BA:\n",
      "0.0070052539404553416\n",
      "fraction of that congress w/ no BA and rep:\n",
      "0.008714596949891068\n",
      "\n",
      "\n",
      "fraction of that congress w/ no BA:\n",
      "0.0110062893081761\n",
      "fraction of that congress w/ no BA and rep:\n",
      "0.007633587786259542\n",
      "\n",
      "\n"
     ]
    }
   ],
   "source": [
    "mask118 = df[\"jobs\"].apply(lambda x: x[\"118\"]).astype(bool)\n",
    "mask118_rep = df[\"jobs\"].apply(lambda x: x[\"118\"] == \"Representative\")\n",
    "mask118_sen = df[\"jobs\"].apply(lambda x: x[\"118\"] == \"Senator\")\n",
    "\n",
    "mask116 = df[\"jobs\"].apply(lambda x: x[\"116\"]).astype(bool)\n",
    "mask116_rep = df[\"jobs\"].apply(lambda x: x[\"116\"] == \"Representative\")\n",
    "mask116_sen = df[\"jobs\"].apply(lambda x: x[\"116\"] == \"Senator\")\n",
    "\n",
    "mask100 = df[\"jobs\"].apply(lambda x: x[\"100\"]).astype(bool)\n",
    "mask100_rep = df[\"jobs\"].apply(lambda x: x[\"100\"] == \"Representative\")\n",
    "mask100_sen = df[\"jobs\"].apply(lambda x: x[\"100\"] == \"Senator\")\n",
    "\n",
    "\n",
    "for mask, repmask in zip(\n",
    "    [mask118, mask116, mask100], [mask118_rep, mask116_rep, mask100_rep]\n",
    "):\n",
    "    print(\"fraction of that congress w/ no BA:\")\n",
    "    print(df[mask & df.noBA.astype(bool)].shape[0] / df[mask].shape[0])\n",
    "    print(\"fraction of that congress w/ no BA and rep:\")\n",
    "    print(df[repmask & df.noBA.astype(bool)].shape[0] / df[repmask].shape[0])\n",
    "    print(\"\\n\")"
   ]
  },
  {
   "cell_type": "code",
   "execution_count": null,
   "metadata": {},
   "outputs": [
    {
     "name": "stdout",
     "output_type": "stream",
     "text": [
      "fraction of that congress w/ elite college:\n",
      "0.12658227848101267\n",
      "fraction of that congress w/ elite college and rep:\n",
      "0.10609480812641084\n",
      "fraction of that congress w/ elite college and sen:\n",
      "0.21100917431192662\n",
      "\n",
      "\n",
      "fraction of that congress w/ elite college:\n",
      "0.12609457092819615\n",
      "fraction of that congress w/ elite college and rep:\n",
      "0.10675381263616558\n",
      "fraction of that congress w/ elite college and sen:\n",
      "0.20909090909090908\n",
      "\n",
      "\n",
      "fraction of that congress w/ elite college:\n",
      "0.12106918238993711\n",
      "fraction of that congress w/ elite college and rep:\n",
      "0.10305343511450382\n",
      "fraction of that congress w/ elite college and sen:\n",
      "0.2018348623853211\n",
      "\n",
      "\n"
     ]
    }
   ],
   "source": [
    "for mask, repmask, senmask in zip(\n",
    "    [mask118, mask116, mask100],\n",
    "    [mask118_rep, mask116_rep, mask100_rep],\n",
    "    [mask118_sen, mask116_sen, mask100_sen],\n",
    "):\n",
    "    print(\"fraction of that congress w/ elite college:\")\n",
    "    print(df[mask & df.eliteCollege.astype(bool)].shape[0] / df[mask].shape[0])\n",
    "    print(\"fraction of that congress w/ elite college and rep:\")\n",
    "    print(df[repmask & df.eliteCollege.astype(bool)].shape[0] / df[repmask].shape[0])\n",
    "    print(\"fraction of that congress w/ elite college and sen:\")\n",
    "    print(df[senmask & df.eliteCollege.astype(bool)].shape[0] / df[senmask].shape[0])\n",
    "    print(\"\\n\")"
   ]
  },
  {
   "cell_type": "code",
   "execution_count": 68,
   "metadata": {},
   "outputs": [
    {
     "name": "stdout",
     "output_type": "stream",
     "text": [
      "0.7142857142857143\n",
      "0.6805555555555556\n",
      "0.5584415584415584\n"
     ]
    }
   ],
   "source": [
    "for mask, string in zip([mask118, mask116, mask100], [\"118\", \"116\", \"100\"]):\n",
    "    print(\n",
    "        df[\n",
    "            (\n",
    "                mask\n",
    "                & df.eliteCollege.astype(bool)\n",
    "                & df.parties.apply(lambda x: x[string] == \"D\")\n",
    "            )\n",
    "        ].shape[0]\n",
    "        / df[\n",
    "            (\n",
    "                mask\n",
    "                & df.eliteCollege.astype(bool)\n",
    "                # & df.parties.apply(lambda x: x[string] == \"D\")\n",
    "            )\n",
    "        ].shape[0]\n",
    "    )"
   ]
  },
  {
   "cell_type": "code",
   "execution_count": null,
   "metadata": {},
   "outputs": [
    {
     "name": "stdout",
     "output_type": "stream",
     "text": [
      "21 20 2 3 0 3 11 2 2 8\n",
      "17 7 1 3 3 6 7 3 3 16\n",
      "16 8 2 3 5 6 8 1 4 13\n"
     ]
    }
   ],
   "source": [
    "for congress in [mask100, mask116, mask118]:\n",
    "    print(\n",
    "        df[congress].eliteCollege.str.lower().str.contains(\"harvard\").sum(),\n",
    "        df[congress].eliteCollege.str.lower().str.contains(\"yale\").sum(),\n",
    "        df[congress].eliteCollege.str.lower().str.contains(\"columbia\").sum(),\n",
    "        df[congress].eliteCollege.str.lower().str.contains(\"cornell\").sum(),\n",
    "        df[congress].eliteCollege.str.lower().str.contains(\"brown\").sum(),\n",
    "        df[congress].eliteCollege.str.lower().str.contains(\"dartmouth\").sum(),\n",
    "        df[congress].eliteCollege.str.lower().str.contains(\"princeton\").sum(),\n",
    "        df[congress].eliteCollege.str.lower().str.contains(\"penn\").sum(),\n",
    "        df[congress].eliteCollege.str.lower().str.contains(\"chicago\").sum(),\n",
    "        df[congress].eliteCollege.str.lower().str.contains(\"stanford\").sum(),\n",
    "    )"
   ]
  },
  {
   "cell_type": "code",
   "execution_count": 58,
   "metadata": {},
   "outputs": [
    {
     "data": {
      "text/plain": [
       "np.float64(0.8461538461538461)"
      ]
     },
     "execution_count": 58,
     "metadata": {},
     "output_type": "execute_result"
    }
   ],
   "source": [
    "df[mask118 & mask100_rep][\n",
    "    [\"lawSchool\", \"medDegree\", \"doctorate\", \"mba\", \"otherMasters\"]\n",
    "].any(axis=1).mean()"
   ]
  },
  {
   "cell_type": "code",
   "execution_count": 59,
   "metadata": {},
   "outputs": [
    {
     "name": "stdout",
     "output_type": "stream",
     "text": [
      "fraction of that congress w/ grad:\n",
      "0.6726943942133815\n",
      "fraction of that congress w/ grad and rep:\n",
      "0.6433408577878104\n",
      "fraction of that congress w/ grad and sen:\n",
      "0.7889908256880734\n",
      "\n",
      "\n",
      "fraction of that congress w/ grad:\n",
      "0.7040280210157618\n",
      "fraction of that congress w/ grad and rep:\n",
      "0.6862745098039216\n",
      "fraction of that congress w/ grad and sen:\n",
      "0.7818181818181819\n",
      "\n",
      "\n",
      "fraction of that congress w/ grad:\n",
      "0.6462264150943396\n",
      "fraction of that congress w/ grad and rep:\n",
      "0.6145038167938931\n",
      "fraction of that congress w/ grad and sen:\n",
      "0.8165137614678899\n",
      "\n",
      "\n"
     ]
    }
   ],
   "source": [
    "gradcols = [\"lawSchool\", \"medDegree\", \"doctorate\", \"mba\", \"otherMasters\"]\n",
    "\n",
    "for mask, repmask, senmask in zip(\n",
    "    [mask118, mask116, mask100],\n",
    "    [mask118_rep, mask116_rep, mask100_rep],\n",
    "    [mask118_sen, mask116_sen, mask100_sen],\n",
    "):\n",
    "    print(\"fraction of that congress w/ grad:\")\n",
    "    print(df[mask & df[gradcols].any(axis=1)].shape[0] / df[mask].shape[0])\n",
    "    print(\"fraction of that congress w/ grad and rep:\")\n",
    "    print(df[repmask & df[gradcols].any(axis=1)].shape[0] / df[repmask].shape[0])\n",
    "    print(\"fraction of that congress w/ grad and sen:\")\n",
    "    print(df[senmask & df[gradcols].any(axis=1)].shape[0] / df[senmask].shape[0])\n",
    "    print(\"\\n\")"
   ]
  },
  {
   "cell_type": "code",
   "execution_count": 60,
   "metadata": {},
   "outputs": [
    {
     "name": "stdout",
     "output_type": "stream",
     "text": [
      "fraction of that congress w/ grad:\n",
      "0.34900542495479203\n",
      "fraction of that congress w/ grad and rep:\n",
      "0.30248306997742663\n",
      "fraction of that congress w/ grad and sen:\n",
      "0.5321100917431193\n",
      "\n",
      "\n",
      "fraction of that congress w/ grad:\n",
      "0.404553415061296\n",
      "fraction of that congress w/ grad and rep:\n",
      "0.37037037037037035\n",
      "fraction of that congress w/ grad and sen:\n",
      "0.5454545454545454\n",
      "\n",
      "\n",
      "fraction of that congress w/ grad:\n",
      "0.4779874213836478\n",
      "fraction of that congress w/ grad and rep:\n",
      "0.4484732824427481\n",
      "fraction of that congress w/ grad and sen:\n",
      "0.6330275229357798\n",
      "\n",
      "\n"
     ]
    }
   ],
   "source": [
    "gradcols = [\"lawSchool\"]\n",
    "\n",
    "for mask, repmask, senmask in zip(\n",
    "    [mask118, mask116, mask100],\n",
    "    [mask118_rep, mask116_rep, mask100_rep],\n",
    "    [mask118_sen, mask116_sen, mask100_sen],\n",
    "):\n",
    "    print(\"fraction of that congress w/ grad:\")\n",
    "    print(df[mask & df[gradcols].any(axis=1)].shape[0] / df[mask].shape[0])\n",
    "    print(\"fraction of that congress w/ grad and rep:\")\n",
    "    print(df[repmask & df[gradcols].any(axis=1)].shape[0] / df[repmask].shape[0])\n",
    "    print(\"fraction of that congress w/ grad and sen:\")\n",
    "    print(df[senmask & df[gradcols].any(axis=1)].shape[0] / df[senmask].shape[0])\n",
    "    print(\"\\n\")"
   ]
  },
  {
   "cell_type": "code",
   "execution_count": 70,
   "metadata": {},
   "outputs": [
    {
     "name": "stdout",
     "output_type": "stream",
     "text": [
      "fraction of that congress w/ mil:\n",
      "0.17902350813743217\n",
      "fraction of that congress w/ mil and rep:\n",
      "0.18284424379232506\n",
      "fraction of that congress w/ mil and sen:\n",
      "0.1651376146788991\n",
      "\n",
      "\n",
      "fraction of that congress w/ mil:\n",
      "0.18213660245183888\n",
      "fraction of that congress w/ mil and rep:\n",
      "0.1786492374727669\n",
      "fraction of that congress w/ mil and sen:\n",
      "0.2\n",
      "\n",
      "\n",
      "fraction of that congress w/ mil:\n",
      "0.5644654088050315\n",
      "fraction of that congress w/ mil and rep:\n",
      "0.5305343511450382\n",
      "fraction of that congress w/ mil and sen:\n",
      "0.7155963302752294\n",
      "\n",
      "\n"
     ]
    }
   ],
   "source": [
    "for mask, repmask, senmask in zip(\n",
    "    [mask118, mask116, mask100],\n",
    "    [mask118_rep, mask116_rep, mask100_rep],\n",
    "    [mask118_sen, mask116_sen, mask100_sen],\n",
    "):\n",
    "    print(\"fraction of that congress w/ mil:\")\n",
    "    print(df[mask & df.military.astype(bool)].shape[0] / df[mask].shape[0])\n",
    "    print(\"fraction of that congress w/ mil and rep:\")\n",
    "    print(df[repmask & df.military.astype(bool)].shape[0] / df[repmask].shape[0])\n",
    "    print(\"fraction of that congress w/ mil and sen:\")\n",
    "    print(df[senmask & df.military.astype(bool)].shape[0] / df[senmask].shape[0])\n",
    "    print(\"\\n\")"
   ]
  },
  {
   "cell_type": "code",
   "execution_count": 69,
   "metadata": {},
   "outputs": [
    {
     "name": "stdout",
     "output_type": "stream",
     "text": [
      "0.2727272727272727\n",
      "0.3173076923076923\n",
      "0.5403899721448467\n"
     ]
    }
   ],
   "source": [
    "for mask, string in zip([mask118, mask116, mask100], [\"118\", \"116\", \"100\"]):\n",
    "    print(\n",
    "        df[\n",
    "            (\n",
    "                mask\n",
    "                & df.military.astype(bool)\n",
    "                & df.parties.apply(lambda x: x[string] == \"D\")\n",
    "            )\n",
    "        ].shape[0]\n",
    "        / df[\n",
    "            (\n",
    "                mask\n",
    "                & df.military.astype(bool)\n",
    "                # & df.parties.apply(lambda x: x[string] == \"D\")\n",
    "            )\n",
    "        ].shape[0]\n",
    "    )"
   ]
  },
  {
   "cell_type": "code",
   "execution_count": null,
   "metadata": {},
   "outputs": [
    {
     "name": "stdout",
     "output_type": "stream",
     "text": [
      "fraction of that congress w/ mil:\n",
      "0.4412296564195298\n",
      "fraction of that congress w/ mil and rep:\n",
      "0.4582392776523702\n",
      "fraction of that congress w/ mil and sen:\n",
      "0.3761467889908257\n",
      "\n",
      "\n",
      "fraction of that congress w/ mil:\n",
      "0.38879159369527144\n",
      "fraction of that congress w/ mil and rep:\n",
      "0.40522875816993464\n",
      "fraction of that congress w/ mil and sen:\n",
      "0.32727272727272727\n",
      "\n",
      "\n",
      "fraction of that congress w/ mil:\n",
      "0.33962264150943394\n",
      "fraction of that congress w/ mil and rep:\n",
      "0.32633587786259544\n",
      "fraction of that congress w/ mil and sen:\n",
      "0.3853211009174312\n",
      "\n",
      "\n",
      "0.3524590163934426\n",
      "0.3918918918918919\n",
      "0.47685185185185186\n"
     ]
    }
   ],
   "source": [
    "for mask, repmask, senmask in zip(\n",
    "    [mask118, mask116, mask100],\n",
    "    [mask118_rep, mask116_rep, mask100_rep],\n",
    "    [mask118_sen, mask116_sen, mask100_sen],\n",
    "):\n",
    "    print(\"fraction of that congress w/ mil:\")\n",
    "    print(df[mask & df.businessOrManagement.astype(bool)].shape[0] / df[mask].shape[0])\n",
    "    print(\"fraction of that congress w/ mil and rep:\")\n",
    "    print(\n",
    "        df[repmask & df.businessOrManagement.astype(bool)].shape[0]\n",
    "        / df[repmask].shape[0]\n",
    "    )\n",
    "    print(\"fraction of that congress w/ mil and sen:\")\n",
    "    print(\n",
    "        df[senmask & df.businessOrManagement.astype(bool)].shape[0]\n",
    "        / df[senmask].shape[0]\n",
    "    )\n",
    "    print(\"\\n\")\n",
    "\n",
    "\n",
    "for mask, string in zip([mask118, mask116, mask100], [\"118\", \"116\", \"100\"]):\n",
    "    print(\n",
    "        df[\n",
    "            (\n",
    "                mask\n",
    "                & df.businessOrManagement.astype(bool)\n",
    "                & df.parties.apply(lambda x: x[string] == \"D\")\n",
    "            )\n",
    "        ].shape[0]\n",
    "        / df[\n",
    "            (\n",
    "                mask\n",
    "                & df.businessOrManagement.astype(bool)\n",
    "                # & df.parties.apply(lambda x: x[string] == \"D\")\n",
    "            )\n",
    "        ].shape[0]\n",
    "    )"
   ]
  },
  {
   "cell_type": "code",
   "execution_count": 72,
   "metadata": {},
   "outputs": [
    {
     "data": {
      "text/plain": [
       "Index(['usCongressBioId', 'givenName', 'familyName', 'congresses_str',\n",
       "       'congresses', 'profileText', 'jobPositions', 'state', 'parties', 'jobs',\n",
       "       'communityCollege', 'eliteCollege', 'publicCollege', 'privateCollege',\n",
       "       'noBA', 'lawSchool', 'medDegree', 'doctorate', 'mba', 'otherMasters',\n",
       "       'military', 'lawyerPrivatePractice', 'publicLawyerOrJudge',\n",
       "       'prevUnsuccessfulCandidate', 'partyPolitics', 'religion', 'healthcare',\n",
       "       'blueCollarOrServiceJob', 'education', 'nonprofitsAndUnions', 'sports',\n",
       "       'media', 'realEstate', 'lawEnforcement', 'farmingOrRanching',\n",
       "       'businessOrManagement', 'lobbyingOrPacs', 'localGov', 'stateLeg',\n",
       "       'electedFedOrStateOffice', 'nonElectedGovJob', 'unaccentedFamilyName',\n",
       "       'unaccentedGivenName', 'district'],\n",
       "      dtype='object')"
      ]
     },
     "execution_count": 72,
     "metadata": {},
     "output_type": "execute_result"
    }
   ],
   "source": [
    "df.columns"
   ]
  },
  {
   "cell_type": "code",
   "execution_count": 74,
   "metadata": {},
   "outputs": [
    {
     "name": "stdout",
     "output_type": "stream",
     "text": [
      "fraction of that congress w/ no gov:\n",
      "0.16636528028933092\n",
      "fraction of that congress w/ no gov and rep:\n",
      "0.18284424379232506\n",
      "fraction of that congress w/ no gov and sen:\n",
      "0.10091743119266056\n",
      "\n",
      "\n",
      "fraction of that congress w/ no gov:\n",
      "0.14886164623467601\n",
      "fraction of that congress w/ no gov and rep:\n",
      "0.16993464052287582\n",
      "fraction of that congress w/ no gov and sen:\n",
      "0.05454545454545454\n",
      "\n",
      "\n",
      "fraction of that congress w/ no gov:\n",
      "0.11320754716981132\n",
      "fraction of that congress w/ no gov and rep:\n",
      "0.10114503816793893\n",
      "fraction of that congress w/ no gov and sen:\n",
      "0.1743119266055046\n",
      "\n",
      "\n"
     ]
    }
   ],
   "source": [
    "govcols = [\"localGov\", \"stateLeg\", \"electedFedOrStateOffice\", \"nonElectedGovJob\"]\n",
    "\n",
    "for mask, repmask, senmask in zip(\n",
    "    [mask118, mask116, mask100],\n",
    "    [mask118_rep, mask116_rep, mask100_rep],\n",
    "    [mask118_sen, mask116_sen, mask100_sen],\n",
    "):\n",
    "    print(\"fraction of that congress w/ no gov:\")\n",
    "    print(df[mask & ~df[govcols].any(axis=1)].shape[0] / df[mask].shape[0])\n",
    "    print(\"fraction of that congress w/ no gov and rep:\")\n",
    "    print(df[repmask & ~df[govcols].any(axis=1)].shape[0] / df[repmask].shape[0])\n",
    "    print(\"fraction of that congress w/ no gov and sen:\")\n",
    "    print(df[senmask & ~df[govcols].any(axis=1)].shape[0] / df[senmask].shape[0])\n",
    "    print(\"\\n\")"
   ]
  }
 ],
 "metadata": {
  "kernelspec": {
   "display_name": ".venv",
   "language": "python",
   "name": "python3"
  },
  "language_info": {
   "codemirror_mode": {
    "name": "ipython",
    "version": 3
   },
   "file_extension": ".py",
   "mimetype": "text/x-python",
   "name": "python",
   "nbconvert_exporter": "python",
   "pygments_lexer": "ipython3",
   "version": "3.12.7"
  }
 },
 "nbformat": 4,
 "nbformat_minor": 2
}
